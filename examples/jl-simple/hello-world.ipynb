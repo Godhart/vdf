{
 "cells": [
  {
   "cell_type": "markdown",
   "id": "321cea9e-c62c-425f-9b7f-d1d546e13e8f",
   "metadata": {
    "jp-MarkdownHeadingCollapsed": true
   },
   "source": [
    "# Preparations required to load extension locally, not from pip"
   ]
  },
  {
   "cell_type": "code",
   "execution_count": 1,
   "id": "7a050290-c175-4f37-a993-26f1f4df8aa7",
   "metadata": {},
   "outputs": [],
   "source": [
    "%load_ext autoreload"
   ]
  },
  {
   "cell_type": "code",
   "execution_count": 2,
   "id": "fdece140-89fc-4900-8b8d-f818045f90f8",
   "metadata": {},
   "outputs": [],
   "source": [
    "%autoreload 2"
   ]
  },
  {
   "cell_type": "code",
   "execution_count": 3,
   "id": "2125bb4a-c9f8-46bd-b6c0-738cf91631df",
   "metadata": {},
   "outputs": [],
   "source": [
    "# %autoreload 1 - Reload all modules imported with %aimport every time before executing the Python code typed.\n",
    "# %autoreload 2 - Reload all modules (except those excluded by %aimport) every time before executing the Python code typed.\n",
    "# %aimport - List modules which are to be automatically imported or not to be imported.\n",
    "# %aimport foo - Import module ‘foo’ and mark it to be autoreloaded for %autoreload 1\n",
    "# %aimport -foo- - Mark module ‘foo’ to not be autoreloaded."
   ]
  },
  {
   "cell_type": "markdown",
   "id": "991d0890-99c2-4cc9-93bb-cd25442e9933",
   "metadata": {},
   "source": [
    "## Autoreload caveats\n",
    "\n",
    "Reloading Python modules in a reliable way is in general difficult, and unexpected things may occur. %autoreload tries to work around common pitfalls by replacing function code objects and parts of classes previously in the module with new versions. This makes the following things to work:\n",
    "\n",
    "- Functions and classes imported via ‘from xxx import foo’ are upgraded to new versions when ‘xxx’ is reloaded.\n",
    "- Methods and properties of classes are upgraded on reload, so that calling ‘c.foo()’ on an object ‘c’ created before the reload causes the new code for ‘foo’ to be executed.\n",
    "\n",
    "Some of the known remaining caveats are:\n",
    "\n",
    "- Replacing code objects does not always succeed: changing a @property in a class to an ordinary method or a method to a member variable can cause problems (but in old objects only).\n",
    "- Functions that are removed (eg. via monkey-patching) from a module before it is reloaded are not upgraded.\n",
    "- C extension modules cannot be reloaded, and so cannot be autoreloaded."
   ]
  },
  {
   "cell_type": "code",
   "execution_count": 4,
   "id": "1d13f14d-1e9b-4334-abd5-36eeb7382a12",
   "metadata": {},
   "outputs": [
    {
     "data": {
      "text/plain": [
       "PosixPath('/home/k/Works/vdf/examples/jl-simple')"
      ]
     },
     "execution_count": 4,
     "metadata": {},
     "output_type": "execute_result"
    }
   ],
   "source": [
    "# NOTE: just in case if need to know cwd\n",
    "import os\n",
    "from pathlib import Path\n",
    "Path(os.curdir).absolute()"
   ]
  },
  {
   "cell_type": "code",
   "execution_count": 5,
   "id": "322652df-94b4-4f82-a067-338352cf9a62",
   "metadata": {},
   "outputs": [],
   "source": [
    "# TODO: something is missing - this should work out of the box, no sys.path manipulations required\n",
    "import sys\n",
    "from pathlib import Path\n",
    "ext_path = str(Path('../..').absolute().resolve())\n",
    "if ext_path not in sys.path:\n",
    "    sys.path.append(ext_path)"
   ]
  },
  {
   "cell_type": "markdown",
   "id": "82d9bf70-704e-4a37-a1c7-26ec3ff146dd",
   "metadata": {},
   "source": [
    "# Simple example with VHDL code"
   ]
  },
  {
   "cell_type": "code",
   "execution_count": 6,
   "id": "38f63c58-43d1-48b9-8883-30469fd0bcf4",
   "metadata": {},
   "outputs": [
    {
     "name": "stderr",
     "output_type": "stream",
     "text": [
      "/home/k/Works/vdf/src/builder/build_coco.py:3: UserWarning: Python runners and associated APIs are an experimental feature and subject to change.\n",
      "  from cocotb.runner import get_runner\n"
     ]
    }
   ],
   "source": [
    "# Load VDF extension\n",
    "%load_ext vdf"
   ]
  },
  {
   "cell_type": "code",
   "execution_count": 7,
   "id": "4832a6d0-e399-4f50-a35f-98e353a9b8bc",
   "metadata": {},
   "outputs": [],
   "source": [
    "# Reset to initial state\n",
    "# (rerun from this cell if messed up to save some time)\n",
    "%vdf #reset"
   ]
  },
  {
   "cell_type": "code",
   "execution_count": 8,
   "id": "d1b368ff-2f9a-47e7-90c4-d51eb8afcb65",
   "metadata": {},
   "outputs": [
    {
     "data": {
      "text/markdown": [
       "<script src=\"https://wavedrom.com/skins/default.js\"></script><script src=\"https://wavedrom.com/skins/dark.js\"></script><script src=\"https://wavedrom.com/skins/narrow.js\"></script><script src=\"https://wavedrom.com/skins/lowkey.js\"></script><script src=\"https://wavedrom.com/wavedrom.min.js\"></script>"
      ],
      "text/plain": [
       "<IPython.core.display.Markdown object>"
      ]
     },
     "metadata": {},
     "output_type": "display_data"
    }
   ],
   "source": [
    "# Load wavedrom script\n",
    "%vdf #wavedrom"
   ]
  },
  {
   "cell_type": "markdown",
   "id": "6efc9b2a-4963-4514-80f9-0bff72f4e111",
   "metadata": {},
   "source": [
    "## Let's enter source code\n",
    "\n",
    "slowly, part by part"
   ]
  },
  {
   "cell_type": "markdown",
   "id": "e171e196-2fc3-4a6e-b715-f49585c0c498",
   "metadata": {},
   "source": [
    "A header part that would be added before entity"
   ]
  },
  {
   "cell_type": "code",
   "execution_count": 9,
   "id": "c8a0dba5-5291-43da-9af5-4b9b31824b5d",
   "metadata": {},
   "outputs": [],
   "source": [
    "%%vdf #header\n",
    "library ieee;\n",
    "use ieee.std_logic_1164.all;\n",
    "use ieee.numeric_std.all;"
   ]
  },
  {
   "cell_type": "markdown",
   "id": "697c4bbd-e159-4f8b-9763-97e12b0a9598",
   "metadata": {},
   "source": [
    "Let's define clock"
   ]
  },
  {
   "cell_type": "code",
   "execution_count": 10,
   "id": "4f5b3b47-b30b-4ce0-9979-96d8b3ddb43d",
   "metadata": {},
   "outputs": [],
   "source": [
    "%%vdf #code\n",
    "signal clk : std_logic := '0';\n",
    "---\n",
    "clk <= not clk after 5 ns;"
   ]
  },
  {
   "cell_type": "markdown",
   "id": "67aa7fac-b9d4-4252-bcc8-ea8899df674c",
   "metadata": {},
   "source": [
    "Let's define some data signals"
   ]
  },
  {
   "cell_type": "code",
   "execution_count": 11,
   "id": "811273a9-b86a-4aed-94f2-4997d34fb079",
   "metadata": {},
   "outputs": [],
   "source": [
    "%%vdf #code-declaration\n",
    "signal v1 : unsigned(7 downto 0) := x\"05\";\n",
    "signal v2 : unsigned(7 downto 0) := x\"07\";"
   ]
  },
  {
   "cell_type": "markdown",
   "id": "a5cabc95-9cb0-457e-b10b-a30ba4e7c584",
   "metadata": {},
   "source": [
    "Lets define a function"
   ]
  },
  {
   "cell_type": "code",
   "execution_count": 12,
   "id": "7b68dd4d-03d2-4671-918e-88d3705c0769",
   "metadata": {},
   "outputs": [],
   "source": [
    "%%vdf #code-declaration\n",
    "function sum(a,b,c,d,e,f:unsigned(7 downto 0):=(others => '0')) return unsigned is\n",
    "begin\n",
    "    return a+b+c+d+e+f;\n",
    "end function;"
   ]
  },
  {
   "cell_type": "markdown",
   "id": "eb597498-fff5-469e-8fff-d4aa0ca36ede",
   "metadata": {},
   "source": [
    "Now let's define one more signal\n",
    "\n",
    "It's value would be defined by result of sum function, running every clk period\n",
    "\n",
    "> (it's accumulator by the way)"
   ]
  },
  {
   "cell_type": "code",
   "execution_count": 13,
   "id": "2fa394bc-ab5d-44bd-81bf-00b138568484",
   "metadata": {},
   "outputs": [],
   "source": [
    "%%vdf #code\n",
    "signal s : unsigned(7 downto 0) := x\"00\";\n",
    "---\n",
    "s <= sum(s,v1,v2) when rising_edge(clk);"
   ]
  },
  {
   "cell_type": "markdown",
   "id": "f1af2180-e4dd-46df-b155-a5249da4c305",
   "metadata": {},
   "source": [
    "## Now let's check what we got"
   ]
  },
  {
   "cell_type": "code",
   "execution_count": 14,
   "id": "90ff649f-dd50-438a-8f53-fea216791a58",
   "metadata": {},
   "outputs": [
    {
     "data": {
      "application/vnd.jupyter.widget-view+json": {
       "model_id": "91b0917ca9e14fbaa7719783ff15d4cf",
       "version_major": 2,
       "version_minor": 0
      },
      "text/plain": [
       "Tab(children=(Output(),), selected_index=0, titles=('main.vhd',))"
      ]
     },
     "metadata": {},
     "output_type": "display_data"
    }
   ],
   "source": [
    "%vdf #show"
   ]
  },
  {
   "cell_type": "markdown",
   "id": "2e0dfe90-ed17-4728-93da-228dcee12136",
   "metadata": {},
   "source": [
    "## Let's RUN it!\n",
    "\n",
    "(a GHDL simulator should be on jupyter host machine for this)"
   ]
  },
  {
   "cell_type": "code",
   "execution_count": 15,
   "id": "bb42dcc0-1cf2-459b-8a20-9e1cac08f077",
   "metadata": {},
   "outputs": [
    {
     "name": "stdout",
     "output_type": "stream",
     "text": [
      "INFO: Running command ghdl -i --work=top /tmp/tmpv4c4coyy/main.vhd in directory /tmp/tmpv4c4coyy/.build\n",
      "INFO: Running command ghdl -i --work=top in directory /tmp/tmpv4c4coyy/.build\n",
      "INFO: Running command ghdl -m --work=top main in directory /tmp/tmpv4c4coyy/.build\n",
      "analyze /tmp/tmpv4c4coyy/main.vhd\n",
      "elaborate main\n",
      "INFO: Running command ghdl -r --work=top main --vpi=/home/k/Works/vdf/.venv/lib/python3.11/site-packages/cocotb/libs/libcocotbvpi_ghdl.so --vcd=waves.vcd in directory /tmp/tmpv4c4coyy/.build\n"
     ]
    },
    {
     "name": "stderr",
     "output_type": "stream",
     "text": [
      "loading VPI module '/home/k/Works/vdf/.venv/lib/python3.11/site-packages/cocotb/libs/libcocotbvpi_ghdl.so'\n",
      "VPI module loaded!\n"
     ]
    },
    {
     "name": "stdout",
     "output_type": "stream",
     "text": [
      "     -.--ns INFO     gpi                                ..mbed/gpi_embed.cpp:105  in set_program_name_in_venv        Using Python virtual environment interpreter at /home/k/Works/vdf/.venv/bin/python\n",
      "     -.--ns INFO     gpi                                ../gpi/GpiCommon.cpp:101  in gpi_print_registered_impl       VPI registered\n",
      "     0.00ns INFO     cocotb                             Running on GHDL version 4.1.0 (tarball) [Dunoon edition]\n",
      "     0.00ns INFO     cocotb                             Running tests with cocotb v1.8.1 from /home/k/Works/vdf/.venv/lib/python3.11/site-packages/cocotb\n",
      "     0.00ns INFO     cocotb                             Seeding Python random module with 1716604681\n",
      "     0.00ns INFO     cocotb.regression                  Found test src.runner.run_coco_main_module.run\n",
      "     0.00ns INFO     cocotb.regression                  running run (1/1)\n",
      "                                                          Run simulation and specified tasks\n",
      "                                                          Save tasks results\n",
      "Starting task sample_s\n",
      "   200.00ns INFO     cocotb.regression                  run passed\n",
      "   200.00ns INFO     cocotb.regression                  *********************************************************************************************\n",
      "                                                        ** TEST                                 STATUS  SIM TIME (ns)  REAL TIME (s)  RATIO (ns/s) **\n",
      "                                                        *********************************************************************************************\n",
      "                                                        ** src.runner.run_coco_main_module.run   PASS         200.00           0.01      19172.65  **\n",
      "                                                        *********************************************************************************************\n",
      "                                                        ** TESTS=1 PASS=1 FAIL=0 SKIP=0                       200.00           0.19       1035.96  **\n",
      "                                                        *********************************************************************************************\n",
      "                                                        \n",
      "INFO: Results file: /tmp/tmpv4c4coyy/.build/results.xml\n"
     ]
    }
   ],
   "source": [
    "%vdf #run"
   ]
  },
  {
   "cell_type": "markdown",
   "id": "4120659e-ff41-4982-8197-2822962c6d31",
   "metadata": {},
   "source": [
    "## Now look at diagrams - they are beautiful!\n",
    "\n",
    "> NOTE: right now diagrams would be show only if opened from jupyer notebook\n",
    "\n",
    "You can specify waves you want to show or just show all available"
   ]
  },
  {
   "cell_type": "code",
   "execution_count": 16,
   "id": "fe40559e-8c98-43d3-b121-1bf432f1b639",
   "metadata": {},
   "outputs": [
    {
     "name": "stdout",
     "output_type": "stream",
     "text": [
      "vcd_file  = '/tmp/tmpv4c4coyy/.build/waves.vcd'\n",
      "json_file = '/tmp/tmpv4c4coyy/.build/waves.vcd.general.json'\n",
      "path_list = ['main/clk',\n",
      "             'main/s']\n",
      "wave_chunk = 20\n",
      "start_time = 0\n",
      "end_time   = 0\n",
      "\n",
      "Create WaveJSON file \"/tmp/tmpv4c4coyy/.build/waves.vcd.general.json\".\n",
      "vcd_file  = '/tmp/tmpv4c4coyy/.build/waves.vcd'\n",
      "json_file = '/tmp/tmpv4c4coyy/.build/waves.vcd.all of them.json'\n",
      "path_list = ['main/clk',\n",
      "             'main/v1[7:0]',\n",
      "             'main/v2[7:0]',\n",
      "             'main/s[7:0]']\n",
      "wave_chunk = 20\n",
      "start_time = 0\n",
      "end_time   = 0\n",
      "\n",
      "Create WaveJSON file \"/tmp/tmpv4c4coyy/.build/waves.vcd.all of them.json\".\n"
     ]
    },
    {
     "data": {
      "text/markdown": [
       "### Waves-general\n"
      ],
      "text/plain": [
       "<IPython.core.display.Markdown object>"
      ]
     },
     "metadata": {},
     "output_type": "display_data"
    },
    {
     "data": {
      "application/vnd.jupyter.widget-view+json": {
       "model_id": "a0a6d719212f4a1b9589fee8cc9ac7b7",
       "version_major": 2,
       "version_minor": 0
      },
      "text/plain": [
       "Tab(children=(Output(),), selected_index=0, titles=('general',))"
      ]
     },
     "metadata": {},
     "output_type": "display_data"
    },
    {
     "data": {
      "text/markdown": [
       "### Waves-all of them\n"
      ],
      "text/plain": [
       "<IPython.core.display.Markdown object>"
      ]
     },
     "metadata": {},
     "output_type": "display_data"
    },
    {
     "data": {
      "application/vnd.jupyter.widget-view+json": {
       "model_id": "49fb906d29e8469e9122054e2b46b308",
       "version_major": 2,
       "version_minor": 0
      },
      "text/plain": [
       "Tab(children=(Output(),), selected_index=0, titles=('all of them',))"
      ]
     },
     "metadata": {},
     "output_type": "display_data"
    }
   ],
   "source": [
    "%%vdf #show-waves\n",
    "# description is in YAML form\n",
    "general:                # just a name for a tab\n",
    "  __prefix__ : main/    # common prefix for enlisted signals\n",
    "  clk:                  # signal name with empty value (note `:` in the end)\n",
    "  s: X                  # signal name with display specification\n",
    "# see https://github.com/nanamake/vcd2json?tab=readme-ov-file#module-detail)\n",
    "# for display sepcifications\n",
    "\n",
    "# if no signals specfied - then show all available (use with caution)\n",
    "all of them:"
   ]
  },
  {
   "cell_type": "markdown",
   "id": "786073ee-dc13-4acd-94a7-e0c878690b5e",
   "metadata": {},
   "source": [
    "## Also you can draw wavesforms 'by hand'\n",
    "\n",
    "from description in [wavedrom](https://wavedrom.com/) format"
   ]
  },
  {
   "cell_type": "code",
   "execution_count": 17,
   "id": "2a770fdd-260b-4272-886a-5fbf7c188e0d",
   "metadata": {},
   "outputs": [
    {
     "data": {
      "text/markdown": [
       "\n",
       "<script type=\"WaveDrom\">\n",
       "{\n",
       "'signal': [\n",
       "  {'name': 'clk', 'wave': 'p.....|...'},\n",
       "  {'name': 'dat', 'wave': 'x.345x|=.x', 'data': ['head', 'body', 'tail', 'data']},\n",
       "  {'name': 'req', 'wave': '0.1..0|1.0'},\n",
       "  {},\n",
       "  {'name': 'ack', 'wave': '1.....|01.'}\n",
       "]}\n",
       "\n",
       "</script>\n",
       "<script type=\"text/javascript\">WaveDrom.ProcessAll()</script>\n"
      ],
      "text/plain": [
       "<IPython.core.display.Markdown object>"
      ]
     },
     "metadata": {},
     "output_type": "display_data"
    }
   ],
   "source": [
    "%%vdf #wave\n",
    "{\n",
    "'signal': [\n",
    "  {'name': 'clk', 'wave': 'p.....|...'},\n",
    "  {'name': 'dat', 'wave': 'x.345x|=.x', 'data': ['head', 'body', 'tail', 'data']},\n",
    "  {'name': 'req', 'wave': '0.1..0|1.0'},\n",
    "  {},\n",
    "  {'name': 'ack', 'wave': '1.....|01.'}\n",
    "]}"
   ]
  },
  {
   "cell_type": "markdown",
   "id": "74e3c2ff-0ee9-4716-b1a1-c86854e126f1",
   "metadata": {},
   "source": [
    "Entry in YAML form is supported as well"
   ]
  },
  {
   "cell_type": "code",
   "execution_count": 18,
   "id": "76a74423-904a-4014-88d3-eb063a11e607",
   "metadata": {},
   "outputs": [
    {
     "data": {
      "text/markdown": [
       "\n",
       "<script type=\"WaveDrom\">\n",
       "{\"signal\": [{\"name\": \"clk\", \"wave\": \"p.....|...\"}, {\"name\": \"dat\", \"wave\": \"x.345x|=.x\", \"data\": [\"heab\", \"dody\", \"lait\", \"tada\"]}, {\"name\": \"req\", \"wave\": \"0.1..0|1.0\"}, {\"name\": \"ack\", \"wave\": \"1.....|01.\"}]}\n",
       "</script>\n",
       "<script type=\"text/javascript\">WaveDrom.ProcessAll()</script>\n"
      ],
      "text/plain": [
       "<IPython.core.display.Markdown object>"
      ]
     },
     "metadata": {},
     "output_type": "display_data"
    }
   ],
   "source": [
    "%%vdf #wave #format-yaml\n",
    "signal:\n",
    "  - name: clk\n",
    "    wave: p.....|...\n",
    "  - name: dat\n",
    "    wave: x.345x|=.x\n",
    "    data: ['heab', 'dody', 'lait', 'tada']\n",
    "  - name: req\n",
    "    wave: 0.1..0|1.0\n",
    "  - name: ack\n",
    "    wave: 1.....|01."
   ]
  },
  {
   "cell_type": "code",
   "execution_count": null,
   "id": "1f39cf5d-ff5d-404a-b3a2-fd8ba907b47c",
   "metadata": {},
   "outputs": [],
   "source": []
  }
 ],
 "metadata": {
  "kernelspec": {
   "display_name": "Python 3 (ipykernel)",
   "language": "python",
   "name": "python3"
  },
  "language_info": {
   "codemirror_mode": {
    "name": "ipython",
    "version": 3
   },
   "file_extension": ".py",
   "mimetype": "text/x-python",
   "name": "python",
   "nbconvert_exporter": "python",
   "pygments_lexer": "ipython3",
   "version": "3.11.8"
  }
 },
 "nbformat": 4,
 "nbformat_minor": 5
}
