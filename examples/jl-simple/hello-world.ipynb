{
 "cells": [
  {
   "cell_type": "markdown",
   "id": "321cea9e-c62c-425f-9b7f-d1d546e13e8f",
   "metadata": {
    "jp-MarkdownHeadingCollapsed": true
   },
   "source": [
    "# Preparations required to load extension locally, not from pip"
   ]
  },
  {
   "cell_type": "code",
   "execution_count": 1,
   "id": "7a050290-c175-4f37-a993-26f1f4df8aa7",
   "metadata": {},
   "outputs": [],
   "source": [
    "%load_ext autoreload"
   ]
  },
  {
   "cell_type": "code",
   "execution_count": 2,
   "id": "fdece140-89fc-4900-8b8d-f818045f90f8",
   "metadata": {},
   "outputs": [],
   "source": [
    "%autoreload 2"
   ]
  },
  {
   "cell_type": "code",
   "execution_count": 3,
   "id": "2125bb4a-c9f8-46bd-b6c0-738cf91631df",
   "metadata": {},
   "outputs": [],
   "source": [
    "# %autoreload 1 - Reload all modules imported with %aimport every time before executing the Python code typed.\n",
    "# %autoreload 2 - Reload all modules (except those excluded by %aimport) every time before executing the Python code typed.\n",
    "# %aimport - List modules which are to be automatically imported or not to be imported.\n",
    "# %aimport foo - Import module ‘foo’ and mark it to be autoreloaded for %autoreload 1\n",
    "# %aimport -foo- - Mark module ‘foo’ to not be autoreloaded."
   ]
  },
  {
   "cell_type": "markdown",
   "id": "991d0890-99c2-4cc9-93bb-cd25442e9933",
   "metadata": {},
   "source": [
    "## Autoreload caveats\n",
    "\n",
    "Reloading Python modules in a reliable way is in general difficult, and unexpected things may occur. %autoreload tries to work around common pitfalls by replacing function code objects and parts of classes previously in the module with new versions. This makes the following things to work:\n",
    "\n",
    "- Functions and classes imported via ‘from xxx import foo’ are upgraded to new versions when ‘xxx’ is reloaded.\n",
    "- Methods and properties of classes are upgraded on reload, so that calling ‘c.foo()’ on an object ‘c’ created before the reload causes the new code for ‘foo’ to be executed.\n",
    "\n",
    "Some of the known remaining caveats are:\n",
    "\n",
    "- Replacing code objects does not always succeed: changing a @property in a class to an ordinary method or a method to a member variable can cause problems (but in old objects only).\n",
    "- Functions that are removed (eg. via monkey-patching) from a module before it is reloaded are not upgraded.\n",
    "- C extension modules cannot be reloaded, and so cannot be autoreloaded."
   ]
  },
  {
   "cell_type": "code",
   "execution_count": 4,
   "id": "1d13f14d-1e9b-4334-abd5-36eeb7382a12",
   "metadata": {},
   "outputs": [
    {
     "data": {
      "text/plain": [
       "PosixPath('/home/k/Works/vdf/examples/jl-simple')"
      ]
     },
     "execution_count": 4,
     "metadata": {},
     "output_type": "execute_result"
    }
   ],
   "source": [
    "# NOTE: just in case if need to know cwd\n",
    "import os\n",
    "from pathlib import Path\n",
    "Path(os.curdir).absolute()"
   ]
  },
  {
   "cell_type": "code",
   "execution_count": 5,
   "id": "322652df-94b4-4f82-a067-338352cf9a62",
   "metadata": {},
   "outputs": [],
   "source": [
    "# TODO: something is missing - this should work out of the box, no sys.path manipulations required\n",
    "import sys\n",
    "from pathlib import Path\n",
    "ext_path = str(Path('../..').absolute().resolve())\n",
    "if ext_path not in sys.path:\n",
    "    sys.path.append(ext_path)"
   ]
  },
  {
   "cell_type": "markdown",
   "id": "82d9bf70-704e-4a37-a1c7-26ec3ff146dd",
   "metadata": {},
   "source": [
    "# Simple example with VHDL code"
   ]
  },
  {
   "cell_type": "code",
   "execution_count": 6,
   "id": "38f63c58-43d1-48b9-8883-30469fd0bcf4",
   "metadata": {},
   "outputs": [
    {
     "name": "stderr",
     "output_type": "stream",
     "text": [
      "/home/k/Works/vdf/src/builder/build_coco.py:3: UserWarning: Python runners and associated APIs are an experimental feature and subject to change.\n",
      "  from cocotb.runner import get_runner\n"
     ]
    }
   ],
   "source": [
    "# Load VDF extension\n",
    "%load_ext vdf"
   ]
  },
  {
   "cell_type": "code",
   "execution_count": 7,
   "id": "4832a6d0-e399-4f50-a35f-98e353a9b8bc",
   "metadata": {},
   "outputs": [],
   "source": [
    "# Reset to initial state\n",
    "# (rerun from this cell if messed up to save some time)\n",
    "%vdf #reset"
   ]
  },
  {
   "cell_type": "code",
   "execution_count": 8,
   "id": "d1b368ff-2f9a-47e7-90c4-d51eb8afcb65",
   "metadata": {},
   "outputs": [
    {
     "data": {
      "text/markdown": [
       "> command is obsolete!"
      ],
      "text/plain": [
       "<IPython.core.display.Markdown object>"
      ]
     },
     "metadata": {},
     "output_type": "display_data"
    }
   ],
   "source": [
    "# Load wavedrom script\n",
    "%vdf #wavedrom"
   ]
  },
  {
   "cell_type": "markdown",
   "id": "6efc9b2a-4963-4514-80f9-0bff72f4e111",
   "metadata": {},
   "source": [
    "## Let's enter source code\n",
    "\n",
    "slowly, part by part"
   ]
  },
  {
   "cell_type": "markdown",
   "id": "e171e196-2fc3-4a6e-b715-f49585c0c498",
   "metadata": {},
   "source": [
    "A header part that would be added before entity"
   ]
  },
  {
   "cell_type": "code",
   "execution_count": 9,
   "id": "c8a0dba5-5291-43da-9af5-4b9b31824b5d",
   "metadata": {},
   "outputs": [],
   "source": [
    "%%vdf #header\n",
    "library ieee;\n",
    "use ieee.std_logic_1164.all;\n",
    "use ieee.numeric_std.all;"
   ]
  },
  {
   "cell_type": "markdown",
   "id": "697c4bbd-e159-4f8b-9763-97e12b0a9598",
   "metadata": {},
   "source": [
    "Let's define clock"
   ]
  },
  {
   "cell_type": "code",
   "execution_count": 10,
   "id": "4f5b3b47-b30b-4ce0-9979-96d8b3ddb43d",
   "metadata": {},
   "outputs": [],
   "source": [
    "%%vdf #code\n",
    "signal clk : std_logic := '0';\n",
    "---\n",
    "clk <= not clk after 5 ns;"
   ]
  },
  {
   "cell_type": "markdown",
   "id": "67aa7fac-b9d4-4252-bcc8-ea8899df674c",
   "metadata": {},
   "source": [
    "Let's define some data signals"
   ]
  },
  {
   "cell_type": "code",
   "execution_count": 11,
   "id": "811273a9-b86a-4aed-94f2-4997d34fb079",
   "metadata": {},
   "outputs": [],
   "source": [
    "%%vdf #code-declaration\n",
    "signal v1 : unsigned(7 downto 0) := x\"05\";\n",
    "signal v2 : unsigned(7 downto 0) := x\"07\";"
   ]
  },
  {
   "cell_type": "markdown",
   "id": "a5cabc95-9cb0-457e-b10b-a30ba4e7c584",
   "metadata": {},
   "source": [
    "Lets define a function"
   ]
  },
  {
   "cell_type": "code",
   "execution_count": 12,
   "id": "7b68dd4d-03d2-4671-918e-88d3705c0769",
   "metadata": {},
   "outputs": [],
   "source": [
    "%%vdf #code-declaration\n",
    "function sum(a,b,c,d,e,f:unsigned(7 downto 0):=(others => '0')) return unsigned is\n",
    "begin\n",
    "    return a+b+c+d+e+f;\n",
    "end function;"
   ]
  },
  {
   "cell_type": "markdown",
   "id": "eb597498-fff5-469e-8fff-d4aa0ca36ede",
   "metadata": {},
   "source": [
    "Now let's define one more signal\n",
    "\n",
    "It's value would be defined by result of sum function, running every clk period\n",
    "\n",
    "> (it's accumulator by the way)"
   ]
  },
  {
   "cell_type": "code",
   "execution_count": 13,
   "id": "2fa394bc-ab5d-44bd-81bf-00b138568484",
   "metadata": {},
   "outputs": [],
   "source": [
    "%%vdf #code\n",
    "signal s : unsigned(7 downto 0) := x\"00\";\n",
    "---\n",
    "s <= sum(s,v1,v2) when rising_edge(clk);"
   ]
  },
  {
   "cell_type": "markdown",
   "id": "f1af2180-e4dd-46df-b155-a5249da4c305",
   "metadata": {},
   "source": [
    "## Now let's check what we got"
   ]
  },
  {
   "cell_type": "code",
   "execution_count": 14,
   "id": "90ff649f-dd50-438a-8f53-fea216791a58",
   "metadata": {},
   "outputs": [
    {
     "data": {
      "application/vnd.jupyter.widget-view+json": {
       "model_id": "8b9eb9d7d5454c7f8506ba93c42f4cdf",
       "version_major": 2,
       "version_minor": 0
      },
      "text/plain": [
       "Tab(children=(Output(),), selected_index=0, titles=('main.vhd',))"
      ]
     },
     "metadata": {},
     "output_type": "display_data"
    }
   ],
   "source": [
    "%vdf #show"
   ]
  },
  {
   "cell_type": "markdown",
   "id": "2e0dfe90-ed17-4728-93da-228dcee12136",
   "metadata": {},
   "source": [
    "## Let's RUN it!\n",
    "\n",
    "(a GHDL simulator should be on jupyter host machine for this)"
   ]
  },
  {
   "cell_type": "code",
   "execution_count": 15,
   "id": "bb42dcc0-1cf2-459b-8a20-9e1cac08f077",
   "metadata": {},
   "outputs": [
    {
     "name": "stdout",
     "output_type": "stream",
     "text": [
      "INFO: Running command ghdl -i --work=top /tmp/tmpztm3zo5l/main.vhd in directory /tmp/tmpztm3zo5l/.build\n",
      "INFO: Running command ghdl -i --work=top in directory /tmp/tmpztm3zo5l/.build\n",
      "INFO: Running command ghdl -m --work=top main in directory /tmp/tmpztm3zo5l/.build\n",
      "analyze /tmp/tmpztm3zo5l/main.vhd\n",
      "elaborate main\n",
      "INFO: Running command ghdl -r --work=top main --vpi=/home/k/Works/vdf/.venv/lib/python3.11/site-packages/cocotb/libs/libcocotbvpi_ghdl.so --vcd=waves.vcd in directory /tmp/tmpztm3zo5l/.build\n",
      "     -.--ns INFO     gpi                                ..mbed/gpi_embed.cpp:105  in set_program_name_in_venv        Using Python virtual environment interpreter at /home/k/Works/vdf/.venv/bin/python\n",
      "     -.--ns INFO     gpi                                ../gpi/GpiCommon.cpp:101  in gpi_print_registered_impl       VPI registered\n"
     ]
    },
    {
     "name": "stderr",
     "output_type": "stream",
     "text": [
      "loading VPI module '/home/k/Works/vdf/.venv/lib/python3.11/site-packages/cocotb/libs/libcocotbvpi_ghdl.so'\n",
      "VPI module loaded!\n"
     ]
    },
    {
     "name": "stdout",
     "output_type": "stream",
     "text": [
      "     0.00ns INFO     cocotb                             Running on GHDL version 4.1.0 (tarball) [Dunoon edition]\n",
      "     0.00ns INFO     cocotb                             Running tests with cocotb v1.8.1 from /home/k/Works/vdf/.venv/lib/python3.11/site-packages/cocotb\n",
      "     0.00ns INFO     cocotb                             Seeding Python random module with 1716836983\n",
      "     0.00ns INFO     cocotb.regression                  Found test src.runner.run_coco_main_module.run\n",
      "     0.00ns INFO     cocotb.regression                  running run (1/1)\n",
      "                                                          Run simulation and specified tasks\n",
      "                                                          Save tasks results\n",
      "Starting task sample_s\n",
      "   200.00ns INFO     cocotb.regression                  run passed\n",
      "   200.00ns INFO     cocotb.regression                  *********************************************************************************************\n",
      "                                                        ** TEST                                 STATUS  SIM TIME (ns)  REAL TIME (s)  RATIO (ns/s) **\n",
      "                                                        *********************************************************************************************\n",
      "                                                        ** src.runner.run_coco_main_module.run   PASS         200.00           0.01      14181.44  **\n",
      "                                                        *********************************************************************************************\n",
      "                                                        ** TESTS=1 PASS=1 FAIL=0 SKIP=0                       200.00           0.28        704.39  **\n",
      "                                                        *********************************************************************************************\n",
      "                                                        \n",
      "INFO: Results file: /tmp/tmpztm3zo5l/.build/results.xml\n"
     ]
    }
   ],
   "source": [
    "%vdf #run"
   ]
  },
  {
   "cell_type": "markdown",
   "id": "4120659e-ff41-4982-8197-2822962c6d31",
   "metadata": {},
   "source": [
    "## Now look at diagrams - they are beautiful!\n",
    "\n",
    "You can specify waves you want to show or just show all available"
   ]
  },
  {
   "cell_type": "code",
   "execution_count": 16,
   "id": "fe40559e-8c98-43d3-b121-1bf432f1b639",
   "metadata": {},
   "outputs": [
    {
     "name": "stdout",
     "output_type": "stream",
     "text": [
      "vcd_file  = '/tmp/tmpztm3zo5l/.build/waves.vcd'\n",
      "json_file = '/tmp/tmpztm3zo5l/.build/waves.vcd.general.json'\n",
      "path_list = ['main/clk',\n",
      "             'main/s']\n",
      "wave_chunk = 20\n",
      "start_time = 0\n",
      "end_time   = 0\n",
      "\n",
      "Create WaveJSON file \"/tmp/tmpztm3zo5l/.build/waves.vcd.general.json\".\n",
      "vcd_file  = '/tmp/tmpztm3zo5l/.build/waves.vcd'\n",
      "json_file = '/tmp/tmpztm3zo5l/.build/waves.vcd.all of them.json'\n",
      "path_list = ['main/clk',\n",
      "             'main/v1[7:0]',\n",
      "             'main/v2[7:0]',\n",
      "             'main/s[7:0]']\n",
      "wave_chunk = 20\n",
      "start_time = 0\n",
      "end_time   = 0\n",
      "\n",
      "Create WaveJSON file \"/tmp/tmpztm3zo5l/.build/waves.vcd.all of them.json\".\n"
     ]
    },
    {
     "data": {
      "text/markdown": [
       "### Waves-general\n"
      ],
      "text/plain": [
       "<IPython.core.display.Markdown object>"
      ]
     },
     "metadata": {},
     "output_type": "display_data"
    },
    {
     "data": {
      "application/vnd.jupyter.widget-view+json": {
       "model_id": "c524a43f2e9f44d99d81ab959db78329",
       "version_major": 2,
       "version_minor": 0
      },
      "text/plain": [
       "Tab(children=(Output(),), selected_index=0, titles=('general',))"
      ]
     },
     "metadata": {},
     "output_type": "display_data"
    },
    {
     "data": {
      "text/markdown": [
       "### Waves-all of them\n"
      ],
      "text/plain": [
       "<IPython.core.display.Markdown object>"
      ]
     },
     "metadata": {},
     "output_type": "display_data"
    },
    {
     "data": {
      "application/vnd.jupyter.widget-view+json": {
       "model_id": "2206ea49850a4db68da029f459532bab",
       "version_major": 2,
       "version_minor": 0
      },
      "text/plain": [
       "Tab(children=(Output(),), selected_index=0, titles=('all of them',))"
      ]
     },
     "metadata": {},
     "output_type": "display_data"
    }
   ],
   "source": [
    "%%vdf #show-waves\n",
    "# description is in YAML form\n",
    "general:                # just a name for a tab\n",
    "  __prefix__ : main/    # common prefix for enlisted signals\n",
    "  clk:                  # signal name with empty value (note `:` in the end)\n",
    "  s: X                  # signal name with display specification\n",
    "# see https://github.com/nanamake/vcd2json?tab=readme-ov-file#module-detail)\n",
    "# for display sepcifications\n",
    "\n",
    "# if no signals specfied - then show all available (use with caution)\n",
    "all of them:"
   ]
  },
  {
   "cell_type": "markdown",
   "id": "786073ee-dc13-4acd-94a7-e0c878690b5e",
   "metadata": {},
   "source": [
    "## Also you can draw wavesforms 'by hand'\n",
    "\n",
    "from description in [wavedrom](https://wavedrom.com/) format"
   ]
  },
  {
   "cell_type": "code",
   "execution_count": 17,
   "id": "2a770fdd-260b-4272-886a-5fbf7c188e0d",
   "metadata": {},
   "outputs": [
    {
     "data": {
      "text/markdown": [
       "![wave](data:image/png;base64,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)"
      ],
      "text/plain": [
       "<IPython.core.display.Markdown object>"
      ]
     },
     "metadata": {},
     "output_type": "display_data"
    }
   ],
   "source": [
    "%%vdf #wave\n",
    "{\n",
    "\"signal\": [\n",
    "  {\"name\": \"clk\", \"wave\": \"p.....|...\"},\n",
    "  {\"name\": \"dat\", \"wave\": \"x.345x|=.x\", \"data\": [\"head\", \"body\", \"tail\", \"data\"]},\n",
    "  {\"name\": \"req\", \"wave\": \"0.1..0|1.0\"},\n",
    "  {},\n",
    "  {\"name\": \"ack\", \"wave\": \"1.....|01.\"}\n",
    "]}"
   ]
  },
  {
   "cell_type": "markdown",
   "id": "74e3c2ff-0ee9-4716-b1a1-c86854e126f1",
   "metadata": {},
   "source": [
    "Entry in YAML form is supported as well"
   ]
  },
  {
   "cell_type": "code",
   "execution_count": 18,
   "id": "76a74423-904a-4014-88d3-eb063a11e607",
   "metadata": {},
   "outputs": [
    {
     "data": {
      "text/markdown": [
       "![wave](data:image/png;base64,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)"
      ],
      "text/plain": [
       "<IPython.core.display.Markdown object>"
      ]
     },
     "metadata": {},
     "output_type": "display_data"
    }
   ],
   "source": [
    "%%vdf #wave #format-yaml\n",
    "signal:\n",
    "  - name: clk\n",
    "    wave: p.....|...\n",
    "  - name: dat\n",
    "    wave: x.345x|=.x\n",
    "    data: ['heab', 'dody', 'lait', 'tada']\n",
    "  - name: req\n",
    "    wave: 0.1..0|1.0\n",
    "  - name: ack\n",
    "    wave: 1.....|01."
   ]
  },
  {
   "cell_type": "code",
   "execution_count": null,
   "id": "1f39cf5d-ff5d-404a-b3a2-fd8ba907b47c",
   "metadata": {},
   "outputs": [],
   "source": []
  }
 ],
 "metadata": {
  "kernelspec": {
   "display_name": "Python 3 (ipykernel)",
   "language": "python",
   "name": "python3"
  },
  "language_info": {
   "codemirror_mode": {
    "name": "ipython",
    "version": 3
   },
   "file_extension": ".py",
   "mimetype": "text/x-python",
   "name": "python",
   "nbconvert_exporter": "python",
   "pygments_lexer": "ipython3",
   "version": "3.11.8"
  }
 },
 "nbformat": 4,
 "nbformat_minor": 5
}
