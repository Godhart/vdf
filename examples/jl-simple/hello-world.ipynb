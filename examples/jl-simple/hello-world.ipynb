{
 "cells": [
  {
   "cell_type": "markdown",
   "id": "321cea9e-c62c-425f-9b7f-d1d546e13e8f",
   "metadata": {
    "jp-MarkdownHeadingCollapsed": true
   },
   "source": [
    "# Preparations required to load extension locally, not from pip"
   ]
  },
  {
   "cell_type": "code",
   "execution_count": 1,
   "id": "7a050290-c175-4f37-a993-26f1f4df8aa7",
   "metadata": {},
   "outputs": [],
   "source": [
    "%load_ext autoreload"
   ]
  },
  {
   "cell_type": "code",
   "execution_count": 2,
   "id": "fdece140-89fc-4900-8b8d-f818045f90f8",
   "metadata": {},
   "outputs": [],
   "source": [
    "%autoreload 2"
   ]
  },
  {
   "cell_type": "code",
   "execution_count": 3,
   "id": "2125bb4a-c9f8-46bd-b6c0-738cf91631df",
   "metadata": {},
   "outputs": [],
   "source": [
    "# %autoreload 1 - Reload all modules imported with %aimport every time before executing the Python code typed.\n",
    "# %autoreload 2 - Reload all modules (except those excluded by %aimport) every time before executing the Python code typed.\n",
    "# %aimport - List modules which are to be automatically imported or not to be imported.\n",
    "# %aimport foo - Import module ‘foo’ and mark it to be autoreloaded for %autoreload 1\n",
    "# %aimport -foo- - Mark module ‘foo’ to not be autoreloaded."
   ]
  },
  {
   "cell_type": "markdown",
   "id": "991d0890-99c2-4cc9-93bb-cd25442e9933",
   "metadata": {},
   "source": [
    "## Autoreload caveats\n",
    "\n",
    "Reloading Python modules in a reliable way is in general difficult, and unexpected things may occur. %autoreload tries to work around common pitfalls by replacing function code objects and parts of classes previously in the module with new versions. This makes the following things to work:\n",
    "\n",
    "- Functions and classes imported via ‘from xxx import foo’ are upgraded to new versions when ‘xxx’ is reloaded.\n",
    "- Methods and properties of classes are upgraded on reload, so that calling ‘c.foo()’ on an object ‘c’ created before the reload causes the new code for ‘foo’ to be executed.\n",
    "\n",
    "Some of the known remaining caveats are:\n",
    "\n",
    "- Replacing code objects does not always succeed: changing a @property in a class to an ordinary method or a method to a member variable can cause problems (but in old objects only).\n",
    "- Functions that are removed (eg. via monkey-patching) from a module before it is reloaded are not upgraded.\n",
    "- C extension modules cannot be reloaded, and so cannot be autoreloaded."
   ]
  },
  {
   "cell_type": "code",
   "execution_count": 4,
   "id": "1d13f14d-1e9b-4334-abd5-36eeb7382a12",
   "metadata": {},
   "outputs": [
    {
     "data": {
      "text/plain": [
       "PosixPath('/home/k/Works/vdf/examples/jl-simple')"
      ]
     },
     "execution_count": 4,
     "metadata": {},
     "output_type": "execute_result"
    }
   ],
   "source": [
    "# NOTE: just in case if need to know cwd\n",
    "import os\n",
    "from pathlib import Path\n",
    "Path(os.curdir).absolute()"
   ]
  },
  {
   "cell_type": "code",
   "execution_count": 5,
   "id": "322652df-94b4-4f82-a067-338352cf9a62",
   "metadata": {},
   "outputs": [],
   "source": [
    "# TODO: something is missing - this should work out of the box, no sys.path manipulations required\n",
    "import sys\n",
    "from pathlib import Path\n",
    "ext_path = str(Path('../..').absolute().resolve())\n",
    "if ext_path not in sys.path:\n",
    "    sys.path.append(ext_path)"
   ]
  },
  {
   "cell_type": "markdown",
   "id": "82d9bf70-704e-4a37-a1c7-26ec3ff146dd",
   "metadata": {},
   "source": [
    "# Simple example with VHDL code"
   ]
  },
  {
   "cell_type": "code",
   "execution_count": 6,
   "id": "38f63c58-43d1-48b9-8883-30469fd0bcf4",
   "metadata": {},
   "outputs": [
    {
     "name": "stderr",
     "output_type": "stream",
     "text": [
      "/home/k/Works/vdf/src/builder/build_coco.py:3: UserWarning: Python runners and associated APIs are an experimental feature and subject to change.\n",
      "  from cocotb.runner import get_runner\n"
     ]
    }
   ],
   "source": [
    "# Load VDF extension\n",
    "%load_ext vdf"
   ]
  },
  {
   "cell_type": "code",
   "execution_count": 7,
   "id": "4832a6d0-e399-4f50-a35f-98e353a9b8bc",
   "metadata": {},
   "outputs": [],
   "source": [
    "# Reset to initial state\n",
    "# (rerun from this cell if messed up to save some time)\n",
    "%vdf #reset"
   ]
  },
  {
   "cell_type": "code",
   "execution_count": 8,
   "id": "d1b368ff-2f9a-47e7-90c4-d51eb8afcb65",
   "metadata": {},
   "outputs": [
    {
     "data": {
      "text/markdown": [
       "> command is obsolete!"
      ],
      "text/plain": [
       "<IPython.core.display.Markdown object>"
      ]
     },
     "metadata": {},
     "output_type": "display_data"
    }
   ],
   "source": [
    "# Load wavedrom script\n",
    "%vdf #wavedrom"
   ]
  },
  {
   "cell_type": "markdown",
   "id": "6efc9b2a-4963-4514-80f9-0bff72f4e111",
   "metadata": {},
   "source": [
    "## Let's enter source code\n",
    "\n",
    "slowly, part by part"
   ]
  },
  {
   "cell_type": "markdown",
   "id": "e171e196-2fc3-4a6e-b715-f49585c0c498",
   "metadata": {},
   "source": [
    "A header part that would be added before entity"
   ]
  },
  {
   "cell_type": "code",
   "execution_count": 9,
   "id": "c8a0dba5-5291-43da-9af5-4b9b31824b5d",
   "metadata": {},
   "outputs": [],
   "source": [
    "%%vdf #header\n",
    "library ieee;\n",
    "use ieee.std_logic_1164.all;\n",
    "use ieee.numeric_std.all;"
   ]
  },
  {
   "cell_type": "markdown",
   "id": "697c4bbd-e159-4f8b-9763-97e12b0a9598",
   "metadata": {},
   "source": [
    "Let's define clock"
   ]
  },
  {
   "cell_type": "code",
   "execution_count": 10,
   "id": "4f5b3b47-b30b-4ce0-9979-96d8b3ddb43d",
   "metadata": {},
   "outputs": [],
   "source": [
    "%%vdf #code\n",
    "signal clk : std_logic := '0';\n",
    "---\n",
    "clk <= not clk after 5 ns;"
   ]
  },
  {
   "cell_type": "markdown",
   "id": "67aa7fac-b9d4-4252-bcc8-ea8899df674c",
   "metadata": {},
   "source": [
    "Let's define some data signals"
   ]
  },
  {
   "cell_type": "code",
   "execution_count": 11,
   "id": "811273a9-b86a-4aed-94f2-4997d34fb079",
   "metadata": {},
   "outputs": [],
   "source": [
    "%%vdf #code-declaration\n",
    "signal v1 : unsigned(7 downto 0) := x\"05\";\n",
    "signal v2 : unsigned(7 downto 0) := x\"07\";"
   ]
  },
  {
   "cell_type": "markdown",
   "id": "a5cabc95-9cb0-457e-b10b-a30ba4e7c584",
   "metadata": {},
   "source": [
    "Lets define a function"
   ]
  },
  {
   "cell_type": "code",
   "execution_count": 12,
   "id": "7b68dd4d-03d2-4671-918e-88d3705c0769",
   "metadata": {},
   "outputs": [],
   "source": [
    "%%vdf #code-declaration\n",
    "function sum(a,b,c,d,e,f:unsigned(7 downto 0):=(others => '0')) return unsigned is\n",
    "begin\n",
    "    return a+b+c+d+e+f;\n",
    "end function;"
   ]
  },
  {
   "cell_type": "markdown",
   "id": "eb597498-fff5-469e-8fff-d4aa0ca36ede",
   "metadata": {},
   "source": [
    "Now let's define one more signal\n",
    "\n",
    "It's value would be defined by result of sum function, running every clk period\n",
    "\n",
    "> (it's accumulator by the way)"
   ]
  },
  {
   "cell_type": "code",
   "execution_count": 13,
   "id": "2fa394bc-ab5d-44bd-81bf-00b138568484",
   "metadata": {},
   "outputs": [],
   "source": [
    "%%vdf #code\n",
    "signal s : unsigned(7 downto 0) := x\"00\";\n",
    "---\n",
    "s <= sum(s,v1,v2) when rising_edge(clk);"
   ]
  },
  {
   "cell_type": "markdown",
   "id": "f1af2180-e4dd-46df-b155-a5249da4c305",
   "metadata": {},
   "source": [
    "## Now let's check what we got"
   ]
  },
  {
   "cell_type": "code",
   "execution_count": 14,
   "id": "90ff649f-dd50-438a-8f53-fea216791a58",
   "metadata": {},
   "outputs": [
    {
     "data": {
      "application/vnd.jupyter.widget-view+json": {
       "model_id": "67e6ff270b2a4ef3a469b8dfc480069c",
       "version_major": 2,
       "version_minor": 0
      },
      "text/plain": [
       "Tab(children=(Output(),), selected_index=0, titles=('main.vhd',))"
      ]
     },
     "metadata": {},
     "output_type": "display_data"
    }
   ],
   "source": [
    "%vdf #show"
   ]
  },
  {
   "cell_type": "markdown",
   "id": "2e0dfe90-ed17-4728-93da-228dcee12136",
   "metadata": {},
   "source": [
    "## Let's RUN it!\n",
    "\n",
    "(a GHDL simulator should be on jupyter host machine for this)"
   ]
  },
  {
   "cell_type": "code",
   "execution_count": 15,
   "id": "bb42dcc0-1cf2-459b-8a20-9e1cac08f077",
   "metadata": {},
   "outputs": [
    {
     "name": "stdout",
     "output_type": "stream",
     "text": [
      "INFO: Running command ghdl -i --work=top /tmp/tmpct_yro0n/main.vhd in directory /tmp/tmpct_yro0n/.build\n",
      "INFO: Running command ghdl -i --work=top in directory /tmp/tmpct_yro0n/.build\n",
      "INFO: Running command ghdl -m --work=top main in directory /tmp/tmpct_yro0n/.build\n",
      "analyze /tmp/tmpct_yro0n/main.vhd\n",
      "elaborate main\n",
      "INFO: Running command ghdl -r --work=top main --vpi=/home/k/Works/vdf/.venv/lib/python3.11/site-packages/cocotb/libs/libcocotbvpi_ghdl.so --vcd=waves.vcd in directory /tmp/tmpct_yro0n/.build\n",
      "     -.--ns INFO     gpi                                ..mbed/gpi_embed.cpp:105  in set_program_name_in_venv        Using Python virtual environment interpreter at /home/k/Works/vdf/.venv/bin/python\n",
      "     -.--ns INFO     gpi                                ../gpi/GpiCommon.cpp:101  in gpi_print_registered_impl       VPI registered\n"
     ]
    },
    {
     "name": "stderr",
     "output_type": "stream",
     "text": [
      "loading VPI module '/home/k/Works/vdf/.venv/lib/python3.11/site-packages/cocotb/libs/libcocotbvpi_ghdl.so'\n",
      "VPI module loaded!\n"
     ]
    },
    {
     "name": "stdout",
     "output_type": "stream",
     "text": [
      "     0.00ns INFO     cocotb                             Running on GHDL version 4.1.0 (tarball) [Dunoon edition]\n",
      "     0.00ns INFO     cocotb                             Running tests with cocotb v1.8.1 from /home/k/Works/vdf/.venv/lib/python3.11/site-packages/cocotb\n",
      "     0.00ns INFO     cocotb                             Seeding Python random module with 1716793280\n",
      "     0.00ns INFO     cocotb.regression                  Found test src.runner.run_coco_main_module.run\n",
      "     0.00ns INFO     cocotb.regression                  running run (1/1)\n",
      "                                                          Run simulation and specified tasks\n",
      "                                                          Save tasks results\n",
      "Starting task sample_s\n",
      "   200.00ns INFO     cocotb.regression                  run passed\n",
      "   200.00ns INFO     cocotb.regression                  *********************************************************************************************\n",
      "                                                        ** TEST                                 STATUS  SIM TIME (ns)  REAL TIME (s)  RATIO (ns/s) **\n",
      "                                                        *********************************************************************************************\n",
      "                                                        ** src.runner.run_coco_main_module.run   PASS         200.00           0.01      15659.44  **\n",
      "                                                        *********************************************************************************************\n",
      "                                                        ** TESTS=1 PASS=1 FAIL=0 SKIP=0                       200.00           0.23        885.34  **\n",
      "                                                        *********************************************************************************************\n",
      "                                                        \n",
      "INFO: Results file: /tmp/tmpct_yro0n/.build/results.xml\n"
     ]
    }
   ],
   "source": [
    "%vdf #run"
   ]
  },
  {
   "cell_type": "markdown",
   "id": "4120659e-ff41-4982-8197-2822962c6d31",
   "metadata": {},
   "source": [
    "## Now look at diagrams - they are beautiful!\n",
    "\n",
    "> NOTE: right now diagrams would be show only if opened from jupyer notebook\n",
    "\n",
    "You can specify waves you want to show or just show all available"
   ]
  },
  {
   "cell_type": "code",
   "execution_count": 16,
   "id": "fe40559e-8c98-43d3-b121-1bf432f1b639",
   "metadata": {},
   "outputs": [
    {
     "name": "stdout",
     "output_type": "stream",
     "text": [
      "vcd_file  = '/tmp/tmpct_yro0n/.build/waves.vcd'\n",
      "json_file = '/tmp/tmpct_yro0n/.build/waves.vcd.general.json'\n",
      "path_list = ['main/clk',\n",
      "             'main/s']\n",
      "wave_chunk = 20\n",
      "start_time = 0\n",
      "end_time   = 0\n",
      "\n",
      "Create WaveJSON file \"/tmp/tmpct_yro0n/.build/waves.vcd.general.json\".\n",
      "vcd_file  = '/tmp/tmpct_yro0n/.build/waves.vcd'\n",
      "json_file = '/tmp/tmpct_yro0n/.build/waves.vcd.all of them.json'\n",
      "path_list = ['main/clk',\n",
      "             'main/v1[7:0]',\n",
      "             'main/v2[7:0]',\n",
      "             'main/s[7:0]']\n",
      "wave_chunk = 20\n",
      "start_time = 0\n",
      "end_time   = 0\n",
      "\n",
      "Create WaveJSON file \"/tmp/tmpct_yro0n/.build/waves.vcd.all of them.json\".\n"
     ]
    },
    {
     "data": {
      "text/markdown": [
       "### Waves-general\n"
      ],
      "text/plain": [
       "<IPython.core.display.Markdown object>"
      ]
     },
     "metadata": {},
     "output_type": "display_data"
    },
    {
     "data": {
      "application/vnd.jupyter.widget-view+json": {
       "model_id": "cdc4bb063f00438f90be58eacba6b20d",
       "version_major": 2,
       "version_minor": 0
      },
      "text/plain": [
       "Tab(children=(Output(),), selected_index=0, titles=('general',))"
      ]
     },
     "metadata": {},
     "output_type": "display_data"
    },
    {
     "data": {
      "text/markdown": [
       "### Waves-all of them\n"
      ],
      "text/plain": [
       "<IPython.core.display.Markdown object>"
      ]
     },
     "metadata": {},
     "output_type": "display_data"
    },
    {
     "data": {
      "application/vnd.jupyter.widget-view+json": {
       "model_id": "fa4f5cf0d6af4342b46f22cef338ce9d",
       "version_major": 2,
       "version_minor": 0
      },
      "text/plain": [
       "Tab(children=(Output(),), selected_index=0, titles=('all of them',))"
      ]
     },
     "metadata": {},
     "output_type": "display_data"
    }
   ],
   "source": [
    "%%vdf #show-waves\n",
    "# description is in YAML form\n",
    "general:                # just a name for a tab\n",
    "  __prefix__ : main/    # common prefix for enlisted signals\n",
    "  clk:                  # signal name with empty value (note `:` in the end)\n",
    "  s: X                  # signal name with display specification\n",
    "# see https://github.com/nanamake/vcd2json?tab=readme-ov-file#module-detail)\n",
    "# for display sepcifications\n",
    "\n",
    "# if no signals specfied - then show all available (use with caution)\n",
    "all of them:"
   ]
  },
  {
   "cell_type": "markdown",
   "id": "786073ee-dc13-4acd-94a7-e0c878690b5e",
   "metadata": {},
   "source": [
    "## Also you can draw wavesforms 'by hand'\n",
    "\n",
    "from description in [wavedrom](https://wavedrom.com/) format"
   ]
  },
  {
   "cell_type": "code",
   "execution_count": 21,
   "id": "2a770fdd-260b-4272-886a-5fbf7c188e0d",
   "metadata": {},
   "outputs": [
    {
     "data": {
      "text/markdown": [
       "<svg xmlns=\"http://www.w3.org/2000/svg\" xmlns:xlink=\"http://www.w3.org/1999/xlink\" id=\"svgcontent_0\" height=\"150\" width=\"480\" viewBox=\"0 0 480 150\" overflow=\"hidden\" class=\"WaveDrom\"><style type=\"text/css\">text{font-size:11pt;font-style:normal;font-variant:normal;font-weight:normal;font-stretch:normal;text-align:center;fill-opacity:1;font-family:Helvetica}.h1{font-size:33pt;font-weight:bold}.h2{font-size:27pt;font-weight:bold}.h3{font-size:20pt;font-weight:bold}.h4{font-size:14pt;font-weight:bold}.h5{font-size:11pt;font-weight:bold}.h6{font-size:8pt;font-weight:bold}.muted{fill:#aaa}.warning{fill:#f6b900}.error{fill:#f60000}.info{fill:#0041c4}.success{fill:#00ab00}.s1{fill:none;stroke:#000;stroke-width:1;stroke-linecap:round;stroke-linejoin:miter;stroke-miterlimit:4;stroke-opacity:1;stroke-dasharray:none}.s2{fill:none;stroke:#000;stroke-width:0.5;stroke-linecap:round;stroke-linejoin:miter;stroke-miterlimit:4;stroke-opacity:1;stroke-dasharray:none}.s3{color:#000;fill:none;stroke:#000;stroke-width:1;stroke-linecap:round;stroke-linejoin:miter;stroke-miterlimit:4;stroke-opacity:1;stroke-dasharray:1, 3;stroke-dashoffset:0;marker:none;visibility:visible;display:inline;overflow:visible}.s4{color:#000;fill:none;stroke:#000;stroke-width:1;stroke-linecap:round;stroke-linejoin:miter;stroke-miterlimit:4;stroke-opacity:1;stroke-dasharray:none;stroke-dashoffset:0;marker:none;visibility:visible;display:inline;overflow:visible}.s5{fill:#fff;stroke:none}.s6{fill:#000;fill-opacity:1;stroke:none}.s7{color:#000;fill:#fff;fill-opacity:1;fill-rule:nonzero;stroke:none;stroke-width:1px;marker:none;visibility:visible;display:inline;overflow:visible}.s8{color:#000;fill:#ffffb4;fill-opacity:1;fill-rule:nonzero;stroke:none;stroke-width:1px;marker:none;visibility:visible;display:inline;overflow:visible}.s9{color:#000;fill:#ffe0b9;fill-opacity:1;fill-rule:nonzero;stroke:none;stroke-width:1px;marker:none;visibility:visible;display:inline;overflow:visible}.s10{color:#000;fill:#b9e0ff;fill-opacity:1;fill-rule:nonzero;stroke:none;stroke-width:1px;marker:none;visibility:visible;display:inline;overflow:visible}.s11{color:#000;fill:#ccfdfe;fill-opacity:1;fill-rule:nonzero;stroke:none;stroke-width:1px;marker:none;visibility:visible;display:inline;overflow:visible}.s12{color:#000;fill:#cdfdc5;fill-opacity:1;fill-rule:nonzero;stroke:none;stroke-width:1px;marker:none;visibility:visible;display:inline;overflow:visible}.s13{color:#000;fill:#f0c1fb;fill-opacity:1;fill-rule:nonzero;stroke:none;stroke-width:1px;marker:none;visibility:visible;display:inline;overflow:visible}.s14{color:#000;fill:#f5c2c0;fill-opacity:1;fill-rule:nonzero;stroke:none;stroke-width:1px;marker:none;visibility:visible;display:inline;overflow:visible}.s15{fill:#0041c4;fill-opacity:1;stroke:none}.s16{fill:none;stroke:#0041c4;stroke-width:1;stroke-linecap:round;stroke-linejoin:miter;stroke-miterlimit:4;stroke-opacity:1;stroke-dasharray:none}</style><defs><g id=\"socket\"><rect y=\"15\" x=\"6\" height=\"20\" width=\"20\"/></g><g id=\"pclk\"><path d=\"M0,20 0,0 20,0\" class=\"s1\"/></g><g id=\"nclk\"><path d=\"m0,0 0,20 20,0\" class=\"s1\"/></g><g id=\"000\"><path d=\"m0,20 20,0\" class=\"s1\"/></g><g id=\"0m0\"><path d=\"m0,20 3,0 3,-10 3,10 11,0\" class=\"s1\"/></g><g id=\"0m1\"><path d=\"M0,20 3,20 9,0 20,0\" class=\"s1\"/></g><g id=\"0mx\"><path d=\"M3,20 9,0 20,0\" class=\"s1\"/><path d=\"m20,15 -5,5\" class=\"s2\"/><path d=\"M20,10 10,20\" class=\"s2\"/><path d=\"M20,5 5,20\" class=\"s2\"/><path d=\"M20,0 4,16\" class=\"s2\"/><path d=\"M15,0 6,9\" class=\"s2\"/><path d=\"M10,0 9,1\" class=\"s2\"/><path d=\"m0,20 20,0\" class=\"s1\"/></g><g id=\"0md\"><path d=\"m8,20 10,0\" class=\"s3\"/><path d=\"m0,20 5,0\" class=\"s1\"/></g><g id=\"0mu\"><path d=\"m0,20 3,0 C 7,10 10.107603,0 20,0\" class=\"s1\"/></g><g id=\"0mz\"><path d=\"m0,20 3,0 C 10,10 15,10 20,10\" class=\"s1\"/></g><g id=\"111\"><path d=\"M0,0 20,0\" class=\"s1\"/></g><g id=\"1m0\"><path d=\"m0,0 3,0 6,20 11,0\" class=\"s1\"/></g><g id=\"1m1\"><path d=\"M0,0 3,0 6,10 9,0 20,0\" class=\"s1\"/></g><g id=\"1mx\"><path d=\"m3,0 6,20 11,0\" class=\"s1\"/><path d=\"M0,0 20,0\" class=\"s1\"/><path d=\"m20,15 -5,5\" class=\"s2\"/><path d=\"M20,10 10,20\" class=\"s2\"/><path d=\"M20,5 8,17\" class=\"s2\"/><path d=\"M20,0 7,13\" class=\"s2\"/><path d=\"M15,0 6,9\" class=\"s2\"/><path d=\"M10,0 5,5\" class=\"s2\"/><path d=\"M3.5,1.5 5,0\" class=\"s2\"/></g><g id=\"1md\"><path d=\"m0,0 3,0 c 4,10 7,20 17,20\" class=\"s1\"/></g><g id=\"1mu\"><path d=\"M0,0 5,0\" class=\"s1\"/><path d=\"M8,0 18,0\" class=\"s3\"/></g><g id=\"1mz\"><path d=\"m0,0 3,0 c 7,10 12,10 17,10\" class=\"s1\"/></g><g id=\"xxx\"><path d=\"m0,20 20,0\" class=\"s1\"/><path d=\"M0,0 20,0\" class=\"s1\"/><path d=\"M0,5 5,0\" class=\"s2\"/><path d=\"M0,10 10,0\" class=\"s2\"/><path d=\"M0,15 15,0\" class=\"s2\"/><path d=\"M0,20 20,0\" class=\"s2\"/><path d=\"M5,20 20,5\" class=\"s2\"/><path d=\"M10,20 20,10\" class=\"s2\"/><path d=\"m15,20 5,-5\" class=\"s2\"/></g><g id=\"xm0\"><path d=\"M0,0 4,0 9,20\" class=\"s1\"/><path d=\"m0,20 20,0\" class=\"s1\"/><path d=\"M0,5 4,1\" class=\"s2\"/><path d=\"M0,10 5,5\" class=\"s2\"/><path d=\"M0,15 6,9\" class=\"s2\"/><path d=\"M0,20 7,13\" class=\"s2\"/><path d=\"M5,20 8,17\" class=\"s2\"/></g><g id=\"xm1\"><path d=\"M0,0 20,0\" class=\"s1\"/><path d=\"M0,20 4,20 9,0\" class=\"s1\"/><path d=\"M0,5 5,0\" class=\"s2\"/><path d=\"M0,10 9,1\" class=\"s2\"/><path d=\"M0,15 7,8\" class=\"s2\"/><path d=\"M0,20 5,15\" class=\"s2\"/></g><g id=\"xmx\"><path d=\"m0,20 20,0\" class=\"s1\"/><path d=\"M0,0 20,0\" class=\"s1\"/><path d=\"M0,5 5,0\" class=\"s2\"/><path d=\"M0,10 10,0\" class=\"s2\"/><path d=\"M0,15 15,0\" class=\"s2\"/><path d=\"M0,20 20,0\" class=\"s2\"/><path d=\"M5,20 20,5\" class=\"s2\"/><path d=\"M10,20 20,10\" class=\"s2\"/><path d=\"m15,20 5,-5\" class=\"s2\"/></g><g id=\"xmd\"><path d=\"m0,0 4,0 c 3,10 6,20 16,20\" class=\"s1\"/><path d=\"m0,20 20,0\" class=\"s1\"/><path d=\"M0,5 4,1\" class=\"s2\"/><path d=\"M0,10 5.5,4.5\" class=\"s2\"/><path d=\"M0,15 6.5,8.5\" class=\"s2\"/><path d=\"M0,20 8,12\" class=\"s2\"/><path d=\"m5,20 5,-5\" class=\"s2\"/><path d=\"m10,20 2.5,-2.5\" class=\"s2\"/></g><g id=\"xmu\"><path d=\"M0,0 20,0\" class=\"s1\"/><path d=\"m0,20 4,0 C 7,10 10,0 20,0\" class=\"s1\"/><path d=\"M0,5 5,0\" class=\"s2\"/><path d=\"M0,10 10,0\" class=\"s2\"/><path d=\"M0,15 10,5\" class=\"s2\"/><path d=\"M0,20 6,14\" class=\"s2\"/></g><g id=\"xmz\"><path d=\"m0,0 4,0 c 6,10 11,10 16,10\" class=\"s1\"/><path d=\"m0,20 4,0 C 10,10 15,10 20,10\" class=\"s1\"/><path d=\"M0,5 4.5,0.5\" class=\"s2\"/><path d=\"M0,10 6.5,3.5\" class=\"s2\"/><path d=\"M0,15 8.5,6.5\" class=\"s2\"/><path d=\"M0,20 11.5,8.5\" class=\"s2\"/></g><g id=\"ddd\"><path d=\"m0,20 20,0\" class=\"s3\"/></g><g id=\"dm0\"><path d=\"m0,20 10,0\" class=\"s3\"/><path d=\"m12,20 8,0\" class=\"s1\"/></g><g id=\"dm1\"><path d=\"M0,20 3,20 9,0 20,0\" class=\"s1\"/></g><g id=\"dmx\"><path d=\"M3,20 9,0 20,0\" class=\"s1\"/><path d=\"m20,15 -5,5\" class=\"s2\"/><path d=\"M20,10 10,20\" class=\"s2\"/><path d=\"M20,5 5,20\" class=\"s2\"/><path d=\"M20,0 4,16\" class=\"s2\"/><path d=\"M15,0 6,9\" class=\"s2\"/><path d=\"M10,0 9,1\" class=\"s2\"/><path d=\"m0,20 20,0\" class=\"s1\"/></g><g id=\"dmd\"><path d=\"m0,20 20,0\" class=\"s3\"/></g><g id=\"dmu\"><path d=\"m0,20 3,0 C 7,10 10.107603,0 20,0\" class=\"s1\"/></g><g id=\"dmz\"><path d=\"m0,20 3,0 C 10,10 15,10 20,10\" class=\"s1\"/></g><g id=\"uuu\"><path d=\"M0,0 20,0\" class=\"s3\"/></g><g id=\"um0\"><path d=\"m0,0 3,0 6,20 11,0\" class=\"s1\"/></g><g id=\"um1\"><path d=\"M0,0 10,0\" class=\"s3\"/><path d=\"m12,0 8,0\" class=\"s1\"/></g><g id=\"umx\"><path d=\"m3,0 6,20 11,0\" class=\"s1\"/><path d=\"M0,0 20,0\" class=\"s1\"/><path d=\"m20,15 -5,5\" class=\"s2\"/><path d=\"M20,10 10,20\" class=\"s2\"/><path d=\"M20,5 8,17\" class=\"s2\"/><path d=\"M20,0 7,13\" class=\"s2\"/><path d=\"M15,0 6,9\" class=\"s2\"/><path d=\"M10,0 5,5\" class=\"s2\"/><path d=\"M3.5,1.5 5,0\" class=\"s2\"/></g><g id=\"umd\"><path d=\"m0,0 3,0 c 4,10 7,20 17,20\" class=\"s1\"/></g><g id=\"umu\"><path d=\"M0,0 20,0\" class=\"s3\"/></g><g id=\"umz\"><path d=\"m0,0 3,0 c 7,10 12,10 17,10\" class=\"s4\"/></g><g id=\"zzz\"><path d=\"m0,10 20,0\" class=\"s1\"/></g><g id=\"zm0\"><path d=\"m0,10 6,0 3,10 11,0\" class=\"s1\"/></g><g id=\"zm1\"><path d=\"M0,10 6,10 9,0 20,0\" class=\"s1\"/></g><g id=\"zmx\"><path d=\"m6,10 3,10 11,0\" class=\"s1\"/><path d=\"M0,10 6,10 9,0 20,0\" class=\"s1\"/><path d=\"m20,15 -5,5\" class=\"s2\"/><path d=\"M20,10 10,20\" class=\"s2\"/><path d=\"M20,5 8,17\" class=\"s2\"/><path d=\"M20,0 7,13\" class=\"s2\"/><path d=\"M15,0 6.5,8.5\" class=\"s2\"/><path d=\"M10,0 9,1\" class=\"s2\"/></g><g id=\"zmd\"><path d=\"m0,10 7,0 c 3,5 8,10 13,10\" class=\"s1\"/></g><g id=\"zmu\"><path d=\"m0,10 7,0 C 10,5 15,0 20,0\" class=\"s1\"/></g><g id=\"zmz\"><path d=\"m0,10 20,0\" class=\"s1\"/></g><g id=\"gap\"><path d=\"m7,-2 -4,0 c -5,0 -5,24 -10,24 l 4,0 C 2,22 2,-2 7,-2 z\" class=\"s5\"/><path d=\"M-7,22 C -2,22 -2,-2 3,-2\" class=\"s1\"/><path d=\"M-3,22 C 2,22 2,-2 7,-2\" class=\"s1\"/></g><g id=\"Pclk\"><path d=\"M-3,12 0,3 3,12 C 1,11 -1,11 -3,12 z\" class=\"s6\"/><path d=\"M0,20 0,0 20,0\" class=\"s1\"/></g><g id=\"Nclk\"><path d=\"M-3,8 0,17 3,8 C 1,9 -1,9 -3,8 z\" class=\"s6\"/><path d=\"m0,0 0,20 20,0\" class=\"s1\"/></g><g id=\"0mv-2\"><path d=\"M9,0 20,0 20,20 3,20 z\" class=\"s7\"/><path d=\"M3,20 9,0 20,0\" class=\"s1\"/><path d=\"m0,20 20,0\" class=\"s1\"/></g><g id=\"1mv-2\"><path d=\"M2.875,0 20,0 20,20 9,20 z\" class=\"s7\"/><path d=\"m3,0 6,20 11,0\" class=\"s1\"/><path d=\"M0,0 20,0\" class=\"s1\"/></g><g id=\"xmv-2\"><path d=\"M9,0 20,0 20,20 9,20 6,10 z\" class=\"s7\"/><path d=\"M0,20 3,20 9,0 20,0\" class=\"s1\"/><path d=\"m0,0 3,0 6,20 11,0\" class=\"s1\"/><path d=\"M0,5 3.5,1.5\" class=\"s2\"/><path d=\"M0,10 4.5,5.5\" class=\"s2\"/><path d=\"M0,15 6,9\" class=\"s2\"/><path d=\"M0,20 4,16\" class=\"s2\"/></g><g id=\"dmv-2\"><path d=\"M9,0 20,0 20,20 3,20 z\" class=\"s7\"/><path d=\"M3,20 9,0 20,0\" class=\"s1\"/><path d=\"m0,20 20,0\" class=\"s1\"/></g><g id=\"umv-2\"><path d=\"M3,0 20,0 20,20 9,20 z\" class=\"s7\"/><path d=\"m3,0 6,20 11,0\" class=\"s1\"/><path d=\"M0,0 20,0\" class=\"s1\"/></g><g id=\"zmv-2\"><path d=\"M9,0 20,0 20,20 9,20 6,10 z\" class=\"s7\"/><path d=\"m6,10 3,10 11,0\" class=\"s1\"/><path d=\"M0,10 6,10 9,0 20,0\" class=\"s1\"/></g><g id=\"vvv-2\"><path d=\"M20,20 0,20 0,0 20,0\" class=\"s7\"/><path d=\"m0,20 20,0\" class=\"s1\"/><path d=\"M0,0 20,0\" class=\"s1\"/></g><g id=\"vm0-2\"><path d=\"M0,20 0,0 3,0 9,20\" class=\"s7\"/><path d=\"M0,0 3,0 9,20\" class=\"s1\"/><path d=\"m0,20 20,0\" class=\"s1\"/></g><g id=\"vm1-2\"><path d=\"M0,0 0,20 3,20 9,0\" class=\"s7\"/><path d=\"M0,0 20,0\" class=\"s1\"/><path d=\"M0,20 3,20 9,0\" class=\"s1\"/></g><g id=\"vmx-2\"><path d=\"M0,0 0,20 3,20 6,10 3,0\" class=\"s7\"/><path d=\"m0,0 3,0 6,20 11,0\" class=\"s1\"/><path d=\"M0,20 3,20 9,0 20,0\" class=\"s1\"/><path d=\"m20,15 -5,5\" class=\"s2\"/><path d=\"M20,10 10,20\" class=\"s2\"/><path d=\"M20,5 8,17\" class=\"s2\"/><path d=\"M20,0 7,13\" class=\"s2\"/><path d=\"M15,0 7,8\" class=\"s2\"/><path d=\"M10,0 9,1\" class=\"s2\"/></g><g id=\"vmd-2\"><path d=\"m0,0 0,20 20,0 C 10,20 7,10 3,0\" class=\"s7\"/><path d=\"m0,0 3,0 c 4,10 7,20 17,20\" class=\"s1\"/><path d=\"m0,20 20,0\" class=\"s1\"/></g><g id=\"vmu-2\"><path d=\"m0,0 0,20 3,0 C 7,10 10,0 20,0\" class=\"s7\"/><path d=\"m0,20 3,0 C 7,10 10,0 20,0\" class=\"s1\"/><path d=\"M0,0 20,0\" class=\"s1\"/></g><g id=\"vmz-2\"><path d=\"M0,0 3,0 C 10,10 15,10 20,10 15,10 10,10 3,20 L 0,20\" class=\"s7\"/><path d=\"m0,0 3,0 c 7,10 12,10 17,10\" class=\"s1\"/><path d=\"m0,20 3,0 C 10,10 15,10 20,10\" class=\"s1\"/></g><g id=\"0mv-3\"><path d=\"M9,0 20,0 20,20 3,20 z\" class=\"s8\"/><path d=\"M3,20 9,0 20,0\" class=\"s1\"/><path d=\"m0,20 20,0\" class=\"s1\"/></g><g id=\"1mv-3\"><path d=\"M2.875,0 20,0 20,20 9,20 z\" class=\"s8\"/><path d=\"m3,0 6,20 11,0\" class=\"s1\"/><path d=\"M0,0 20,0\" class=\"s1\"/></g><g id=\"xmv-3\"><path d=\"M9,0 20,0 20,20 9,20 6,10 z\" class=\"s8\"/><path d=\"M0,20 3,20 9,0 20,0\" class=\"s1\"/><path d=\"m0,0 3,0 6,20 11,0\" class=\"s1\"/><path d=\"M0,5 3.5,1.5\" class=\"s2\"/><path d=\"M0,10 4.5,5.5\" class=\"s2\"/><path d=\"M0,15 6,9\" class=\"s2\"/><path d=\"M0,20 4,16\" class=\"s2\"/></g><g id=\"dmv-3\"><path d=\"M9,0 20,0 20,20 3,20 z\" class=\"s8\"/><path d=\"M3,20 9,0 20,0\" class=\"s1\"/><path d=\"m0,20 20,0\" class=\"s1\"/></g><g id=\"umv-3\"><path d=\"M3,0 20,0 20,20 9,20 z\" class=\"s8\"/><path d=\"m3,0 6,20 11,0\" class=\"s1\"/><path d=\"M0,0 20,0\" class=\"s1\"/></g><g id=\"zmv-3\"><path d=\"M9,0 20,0 20,20 9,20 6,10 z\" class=\"s8\"/><path d=\"m6,10 3,10 11,0\" class=\"s1\"/><path d=\"M0,10 6,10 9,0 20,0\" class=\"s1\"/></g><g id=\"vvv-3\"><path d=\"M20,20 0,20 0,0 20,0\" class=\"s8\"/><path d=\"m0,20 20,0\" class=\"s1\"/><path d=\"M0,0 20,0\" class=\"s1\"/></g><g id=\"vm0-3\"><path d=\"M0,20 0,0 3,0 9,20\" class=\"s8\"/><path d=\"M0,0 3,0 9,20\" class=\"s1\"/><path d=\"m0,20 20,0\" class=\"s1\"/></g><g id=\"vm1-3\"><path d=\"M0,0 0,20 3,20 9,0\" class=\"s8\"/><path d=\"M0,0 20,0\" class=\"s1\"/><path d=\"M0,20 3,20 9,0\" class=\"s1\"/></g><g id=\"vmx-3\"><path d=\"M0,0 0,20 3,20 6,10 3,0\" class=\"s8\"/><path d=\"m0,0 3,0 6,20 11,0\" class=\"s1\"/><path d=\"M0,20 3,20 9,0 20,0\" class=\"s1\"/><path d=\"m20,15 -5,5\" class=\"s2\"/><path d=\"M20,10 10,20\" class=\"s2\"/><path d=\"M20,5 8,17\" class=\"s2\"/><path d=\"M20,0 7,13\" class=\"s2\"/><path d=\"M15,0 7,8\" class=\"s2\"/><path d=\"M10,0 9,1\" class=\"s2\"/></g><g id=\"vmd-3\"><path d=\"m0,0 0,20 20,0 C 10,20 7,10 3,0\" class=\"s8\"/><path d=\"m0,0 3,0 c 4,10 7,20 17,20\" class=\"s1\"/><path d=\"m0,20 20,0\" class=\"s1\"/></g><g id=\"vmu-3\"><path d=\"m0,0 0,20 3,0 C 7,10 10,0 20,0\" class=\"s8\"/><path d=\"m0,20 3,0 C 7,10 10,0 20,0\" class=\"s1\"/><path d=\"M0,0 20,0\" class=\"s1\"/></g><g id=\"vmz-3\"><path d=\"M0,0 3,0 C 10,10 15,10 20,10 15,10 10,10 3,20 L 0,20\" class=\"s8\"/><path d=\"m0,0 3,0 c 7,10 12,10 17,10\" class=\"s1\"/><path d=\"m0,20 3,0 C 10,10 15,10 20,10\" class=\"s1\"/></g><g id=\"0mv-4\"><path d=\"M9,0 20,0 20,20 3,20 z\" class=\"s9\"/><path d=\"M3,20 9,0 20,0\" class=\"s1\"/><path d=\"m0,20 20,0\" class=\"s1\"/></g><g id=\"1mv-4\"><path d=\"M2.875,0 20,0 20,20 9,20 z\" class=\"s9\"/><path d=\"m3,0 6,20 11,0\" class=\"s1\"/><path d=\"M0,0 20,0\" class=\"s1\"/></g><g id=\"xmv-4\"><path d=\"M9,0 20,0 20,20 9,20 6,10 z\" class=\"s9\"/><path d=\"M0,20 3,20 9,0 20,0\" class=\"s1\"/><path d=\"m0,0 3,0 6,20 11,0\" class=\"s1\"/><path d=\"M0,5 3.5,1.5\" class=\"s2\"/><path d=\"M0,10 4.5,5.5\" class=\"s2\"/><path d=\"M0,15 6,9\" class=\"s2\"/><path d=\"M0,20 4,16\" class=\"s2\"/></g><g id=\"dmv-4\"><path d=\"M9,0 20,0 20,20 3,20 z\" class=\"s9\"/><path d=\"M3,20 9,0 20,0\" class=\"s1\"/><path d=\"m0,20 20,0\" class=\"s1\"/></g><g id=\"umv-4\"><path d=\"M3,0 20,0 20,20 9,20 z\" class=\"s9\"/><path d=\"m3,0 6,20 11,0\" class=\"s1\"/><path d=\"M0,0 20,0\" class=\"s1\"/></g><g id=\"zmv-4\"><path d=\"M9,0 20,0 20,20 9,20 6,10 z\" class=\"s9\"/><path d=\"m6,10 3,10 11,0\" class=\"s1\"/><path d=\"M0,10 6,10 9,0 20,0\" class=\"s1\"/></g><g id=\"vvv-4\"><path d=\"M20,20 0,20 0,0 20,0\" class=\"s9\"/><path d=\"m0,20 20,0\" class=\"s1\"/><path d=\"M0,0 20,0\" class=\"s1\"/></g><g id=\"vm0-4\"><path d=\"M0,20 0,0 3,0 9,20\" class=\"s9\"/><path d=\"M0,0 3,0 9,20\" class=\"s1\"/><path d=\"m0,20 20,0\" class=\"s1\"/></g><g id=\"vm1-4\"><path d=\"M0,0 0,20 3,20 9,0\" class=\"s9\"/><path d=\"M0,0 20,0\" class=\"s1\"/><path d=\"M0,20 3,20 9,0\" class=\"s1\"/></g><g id=\"vmx-4\"><path d=\"M0,0 0,20 3,20 6,10 3,0\" class=\"s9\"/><path d=\"m0,0 3,0 6,20 11,0\" class=\"s1\"/><path d=\"M0,20 3,20 9,0 20,0\" class=\"s1\"/><path d=\"m20,15 -5,5\" class=\"s2\"/><path d=\"M20,10 10,20\" class=\"s2\"/><path d=\"M20,5 8,17\" class=\"s2\"/><path d=\"M20,0 7,13\" class=\"s2\"/><path d=\"M15,0 7,8\" class=\"s2\"/><path d=\"M10,0 9,1\" class=\"s2\"/></g><g id=\"vmd-4\"><path d=\"m0,0 0,20 20,0 C 10,20 7,10 3,0\" class=\"s9\"/><path d=\"m0,0 3,0 c 4,10 7,20 17,20\" class=\"s1\"/><path d=\"m0,20 20,0\" class=\"s1\"/></g><g id=\"vmu-4\"><path d=\"m0,0 0,20 3,0 C 7,10 10,0 20,0\" class=\"s9\"/><path d=\"m0,20 3,0 C 7,10 10,0 20,0\" class=\"s1\"/><path d=\"M0,0 20,0\" class=\"s1\"/></g><g id=\"vmz-4\"><path d=\"M0,0 3,0 C 10,10 15,10 20,10 15,10 10,10 3,20 L 0,20\" class=\"s9\"/><path d=\"m0,0 3,0 c 7,10 12,10 17,10\" class=\"s1\"/><path d=\"m0,20 3,0 C 10,10 15,10 20,10\" class=\"s1\"/></g><g id=\"0mv-5\"><path d=\"M9,0 20,0 20,20 3,20 z\" class=\"s10\"/><path d=\"M3,20 9,0 20,0\" class=\"s1\"/><path d=\"m0,20 20,0\" class=\"s1\"/></g><g id=\"1mv-5\"><path d=\"M2.875,0 20,0 20,20 9,20 z\" class=\"s10\"/><path d=\"m3,0 6,20 11,0\" class=\"s1\"/><path d=\"M0,0 20,0\" class=\"s1\"/></g><g id=\"xmv-5\"><path d=\"M9,0 20,0 20,20 9,20 6,10 z\" class=\"s10\"/><path d=\"M0,20 3,20 9,0 20,0\" class=\"s1\"/><path d=\"m0,0 3,0 6,20 11,0\" class=\"s1\"/><path d=\"M0,5 3.5,1.5\" class=\"s2\"/><path d=\"M0,10 4.5,5.5\" class=\"s2\"/><path d=\"M0,15 6,9\" class=\"s2\"/><path d=\"M0,20 4,16\" class=\"s2\"/></g><g id=\"dmv-5\"><path d=\"M9,0 20,0 20,20 3,20 z\" class=\"s10\"/><path d=\"M3,20 9,0 20,0\" class=\"s1\"/><path d=\"m0,20 20,0\" class=\"s1\"/></g><g id=\"umv-5\"><path d=\"M3,0 20,0 20,20 9,20 z\" class=\"s10\"/><path d=\"m3,0 6,20 11,0\" class=\"s1\"/><path d=\"M0,0 20,0\" class=\"s1\"/></g><g id=\"zmv-5\"><path d=\"M9,0 20,0 20,20 9,20 6,10 z\" class=\"s10\"/><path d=\"m6,10 3,10 11,0\" class=\"s1\"/><path d=\"M0,10 6,10 9,0 20,0\" class=\"s1\"/></g><g id=\"vvv-5\"><path d=\"M20,20 0,20 0,0 20,0\" class=\"s10\"/><path d=\"m0,20 20,0\" class=\"s1\"/><path d=\"M0,0 20,0\" class=\"s1\"/></g><g id=\"vm0-5\"><path d=\"M0,20 0,0 3,0 9,20\" class=\"s10\"/><path d=\"M0,0 3,0 9,20\" class=\"s1\"/><path d=\"m0,20 20,0\" class=\"s1\"/></g><g id=\"vm1-5\"><path d=\"M0,0 0,20 3,20 9,0\" class=\"s10\"/><path d=\"M0,0 20,0\" class=\"s1\"/><path d=\"M0,20 3,20 9,0\" class=\"s1\"/></g><g id=\"vmx-5\"><path d=\"M0,0 0,20 3,20 6,10 3,0\" class=\"s10\"/><path d=\"m0,0 3,0 6,20 11,0\" class=\"s1\"/><path d=\"M0,20 3,20 9,0 20,0\" class=\"s1\"/><path d=\"m20,15 -5,5\" class=\"s2\"/><path d=\"M20,10 10,20\" class=\"s2\"/><path d=\"M20,5 8,17\" class=\"s2\"/><path d=\"M20,0 7,13\" class=\"s2\"/><path d=\"M15,0 7,8\" class=\"s2\"/><path d=\"M10,0 9,1\" class=\"s2\"/></g><g id=\"vmd-5\"><path d=\"m0,0 0,20 20,0 C 10,20 7,10 3,0\" class=\"s10\"/><path d=\"m0,0 3,0 c 4,10 7,20 17,20\" class=\"s1\"/><path d=\"m0,20 20,0\" class=\"s1\"/></g><g id=\"vmu-5\"><path d=\"m0,0 0,20 3,0 C 7,10 10,0 20,0\" class=\"s10\"/><path d=\"m0,20 3,0 C 7,10 10,0 20,0\" class=\"s1\"/><path d=\"M0,0 20,0\" class=\"s1\"/></g><g id=\"vmz-5\"><path d=\"M0,0 3,0 C 10,10 15,10 20,10 15,10 10,10 3,20 L 0,20\" class=\"s10\"/><path d=\"m0,0 3,0 c 7,10 12,10 17,10\" class=\"s1\"/><path d=\"m0,20 3,0 C 10,10 15,10 20,10\" class=\"s1\"/></g><g id=\"0mv-6\"><path d=\"M9,0 20,0 20,20 3,20 z\" class=\"s11\"/><path d=\"M3,20 9,0 20,0\" class=\"s1\"/><path d=\"m0,20 20,0\" class=\"s1\"/></g><g id=\"1mv-6\"><path d=\"M2.875,0 20,0 20,20 9,20 z\" class=\"s11\"/><path d=\"m3,0 6,20 11,0\" class=\"s1\"/><path d=\"M0,0 20,0\" class=\"s1\"/></g><g id=\"xmv-6\"><path d=\"M9,0 20,0 20,20 9,20 6,10 z\" class=\"s11\"/><path d=\"M0,20 3,20 9,0 20,0\" class=\"s1\"/><path d=\"m0,0 3,0 6,20 11,0\" class=\"s1\"/><path d=\"M0,5 3.5,1.5\" class=\"s2\"/><path d=\"M0,10 4.5,5.5\" class=\"s2\"/><path d=\"M0,15 6,9\" class=\"s2\"/><path d=\"M0,20 4,16\" class=\"s2\"/></g><g id=\"dmv-6\"><path d=\"M9,0 20,0 20,20 3,20 z\" class=\"s11\"/><path d=\"M3,20 9,0 20,0\" class=\"s1\"/><path d=\"m0,20 20,0\" class=\"s1\"/></g><g id=\"umv-6\"><path d=\"M3,0 20,0 20,20 9,20 z\" class=\"s11\"/><path d=\"m3,0 6,20 11,0\" class=\"s1\"/><path d=\"M0,0 20,0\" class=\"s1\"/></g><g id=\"zmv-6\"><path d=\"M9,0 20,0 20,20 9,20 6,10 z\" class=\"s11\"/><path d=\"m6,10 3,10 11,0\" class=\"s1\"/><path d=\"M0,10 6,10 9,0 20,0\" class=\"s1\"/></g><g id=\"vvv-6\"><path d=\"M20,20 0,20 0,0 20,0\" class=\"s11\"/><path d=\"m0,20 20,0\" class=\"s1\"/><path d=\"M0,0 20,0\" class=\"s1\"/></g><g id=\"vm0-6\"><path d=\"M0,20 0,0 3,0 9,20\" class=\"s11\"/><path d=\"M0,0 3,0 9,20\" class=\"s1\"/><path d=\"m0,20 20,0\" class=\"s1\"/></g><g id=\"vm1-6\"><path d=\"M0,0 0,20 3,20 9,0\" class=\"s11\"/><path d=\"M0,0 20,0\" class=\"s1\"/><path d=\"M0,20 3,20 9,0\" class=\"s1\"/></g><g id=\"vmx-6\"><path d=\"M0,0 0,20 3,20 6,10 3,0\" class=\"s11\"/><path d=\"m0,0 3,0 6,20 11,0\" class=\"s1\"/><path d=\"M0,20 3,20 9,0 20,0\" class=\"s1\"/><path d=\"m20,15 -5,5\" class=\"s2\"/><path d=\"M20,10 10,20\" class=\"s2\"/><path d=\"M20,5 8,17\" class=\"s2\"/><path d=\"M20,0 7,13\" class=\"s2\"/><path d=\"M15,0 7,8\" class=\"s2\"/><path d=\"M10,0 9,1\" class=\"s2\"/></g><g id=\"vmd-6\"><path d=\"m0,0 0,20 20,0 C 10,20 7,10 3,0\" class=\"s11\"/><path d=\"m0,0 3,0 c 4,10 7,20 17,20\" class=\"s1\"/><path d=\"m0,20 20,0\" class=\"s1\"/></g><g id=\"vmu-6\"><path d=\"m0,0 0,20 3,0 C 7,10 10,0 20,0\" class=\"s11\"/><path d=\"m0,20 3,0 C 7,10 10,0 20,0\" class=\"s1\"/><path d=\"M0,0 20,0\" class=\"s1\"/></g><g id=\"vmz-6\"><path d=\"M0,0 3,0 C 10,10 15,10 20,10 15,10 10,10 3,20 L 0,20\" class=\"s11\"/><path d=\"m0,0 3,0 c 7,10 12,10 17,10\" class=\"s1\"/><path d=\"m0,20 3,0 C 10,10 15,10 20,10\" class=\"s1\"/></g><g id=\"0mv-7\"><path d=\"M9,0 20,0 20,20 3,20 z\" class=\"s12\"/><path d=\"M3,20 9,0 20,0\" class=\"s1\"/><path d=\"m0,20 20,0\" class=\"s1\"/></g><g id=\"1mv-7\"><path d=\"M2.875,0 20,0 20,20 9,20 z\" class=\"s12\"/><path d=\"m3,0 6,20 11,0\" class=\"s1\"/><path d=\"M0,0 20,0\" class=\"s1\"/></g><g id=\"xmv-7\"><path d=\"M9,0 20,0 20,20 9,20 6,10 z\" class=\"s12\"/><path d=\"M0,20 3,20 9,0 20,0\" class=\"s1\"/><path d=\"m0,0 3,0 6,20 11,0\" class=\"s1\"/><path d=\"M0,5 3.5,1.5\" class=\"s2\"/><path d=\"M0,10 4.5,5.5\" class=\"s2\"/><path d=\"M0,15 6,9\" class=\"s2\"/><path d=\"M0,20 4,16\" class=\"s2\"/></g><g id=\"dmv-7\"><path d=\"M9,0 20,0 20,20 3,20 z\" class=\"s12\"/><path d=\"M3,20 9,0 20,0\" class=\"s1\"/><path d=\"m0,20 20,0\" class=\"s1\"/></g><g id=\"umv-7\"><path d=\"M3,0 20,0 20,20 9,20 z\" class=\"s12\"/><path d=\"m3,0 6,20 11,0\" class=\"s1\"/><path d=\"M0,0 20,0\" class=\"s1\"/></g><g id=\"zmv-7\"><path d=\"M9,0 20,0 20,20 9,20 6,10 z\" class=\"s12\"/><path d=\"m6,10 3,10 11,0\" class=\"s1\"/><path d=\"M0,10 6,10 9,0 20,0\" class=\"s1\"/></g><g id=\"vvv-7\"><path d=\"M20,20 0,20 0,0 20,0\" class=\"s12\"/><path d=\"m0,20 20,0\" class=\"s1\"/><path d=\"M0,0 20,0\" class=\"s1\"/></g><g id=\"vm0-7\"><path d=\"M0,20 0,0 3,0 9,20\" class=\"s12\"/><path d=\"M0,0 3,0 9,20\" class=\"s1\"/><path d=\"m0,20 20,0\" class=\"s1\"/></g><g id=\"vm1-7\"><path d=\"M0,0 0,20 3,20 9,0\" class=\"s12\"/><path d=\"M0,0 20,0\" class=\"s1\"/><path d=\"M0,20 3,20 9,0\" class=\"s1\"/></g><g id=\"vmx-7\"><path d=\"M0,0 0,20 3,20 6,10 3,0\" class=\"s12\"/><path d=\"m0,0 3,0 6,20 11,0\" class=\"s1\"/><path d=\"M0,20 3,20 9,0 20,0\" class=\"s1\"/><path d=\"m20,15 -5,5\" class=\"s2\"/><path d=\"M20,10 10,20\" class=\"s2\"/><path d=\"M20,5 8,17\" class=\"s2\"/><path d=\"M20,0 7,13\" class=\"s2\"/><path d=\"M15,0 7,8\" class=\"s2\"/><path d=\"M10,0 9,1\" class=\"s2\"/></g><g id=\"vmd-7\"><path d=\"m0,0 0,20 20,0 C 10,20 7,10 3,0\" class=\"s12\"/><path d=\"m0,0 3,0 c 4,10 7,20 17,20\" class=\"s1\"/><path d=\"m0,20 20,0\" class=\"s1\"/></g><g id=\"vmu-7\"><path d=\"m0,0 0,20 3,0 C 7,10 10,0 20,0\" class=\"s12\"/><path d=\"m0,20 3,0 C 7,10 10,0 20,0\" class=\"s1\"/><path d=\"M0,0 20,0\" class=\"s1\"/></g><g id=\"vmz-7\"><path d=\"M0,0 3,0 C 10,10 15,10 20,10 15,10 10,10 3,20 L 0,20\" class=\"s12\"/><path d=\"m0,0 3,0 c 7,10 12,10 17,10\" class=\"s1\"/><path d=\"m0,20 3,0 C 10,10 15,10 20,10\" class=\"s1\"/></g><g id=\"0mv-8\"><path d=\"M9,0 20,0 20,20 3,20 z\" class=\"s13\"/><path d=\"M3,20 9,0 20,0\" class=\"s1\"/><path d=\"m0,20 20,0\" class=\"s1\"/></g><g id=\"1mv-8\"><path d=\"M2.875,0 20,0 20,20 9,20 z\" class=\"s13\"/><path d=\"m3,0 6,20 11,0\" class=\"s1\"/><path d=\"M0,0 20,0\" class=\"s1\"/></g><g id=\"xmv-8\"><path d=\"M9,0 20,0 20,20 9,20 6,10 z\" class=\"s13\"/><path d=\"M0,20 3,20 9,0 20,0\" class=\"s1\"/><path d=\"m0,0 3,0 6,20 11,0\" class=\"s1\"/><path d=\"M0,5 3.5,1.5\" class=\"s2\"/><path d=\"M0,10 4.5,5.5\" class=\"s2\"/><path d=\"M0,15 6,9\" class=\"s2\"/><path d=\"M0,20 4,16\" class=\"s2\"/></g><g id=\"dmv-8\"><path d=\"M9,0 20,0 20,20 3,20 z\" class=\"s13\"/><path d=\"M3,20 9,0 20,0\" class=\"s1\"/><path d=\"m0,20 20,0\" class=\"s1\"/></g><g id=\"umv-8\"><path d=\"M3,0 20,0 20,20 9,20 z\" class=\"s13\"/><path d=\"m3,0 6,20 11,0\" class=\"s1\"/><path d=\"M0,0 20,0\" class=\"s1\"/></g><g id=\"zmv-8\"><path d=\"M9,0 20,0 20,20 9,20 6,10 z\" class=\"s13\"/><path d=\"m6,10 3,10 11,0\" class=\"s1\"/><path d=\"M0,10 6,10 9,0 20,0\" class=\"s1\"/></g><g id=\"vvv-8\"><path d=\"M20,20 0,20 0,0 20,0\" class=\"s13\"/><path d=\"m0,20 20,0\" class=\"s1\"/><path d=\"M0,0 20,0\" class=\"s1\"/></g><g id=\"vm0-8\"><path d=\"M0,20 0,0 3,0 9,20\" class=\"s13\"/><path d=\"M0,0 3,0 9,20\" class=\"s1\"/><path d=\"m0,20 20,0\" class=\"s1\"/></g><g id=\"vm1-8\"><path d=\"M0,0 0,20 3,20 9,0\" class=\"s13\"/><path d=\"M0,0 20,0\" class=\"s1\"/><path d=\"M0,20 3,20 9,0\" class=\"s1\"/></g><g id=\"vmx-8\"><path d=\"M0,0 0,20 3,20 6,10 3,0\" class=\"s13\"/><path d=\"m0,0 3,0 6,20 11,0\" class=\"s1\"/><path d=\"M0,20 3,20 9,0 20,0\" class=\"s1\"/><path d=\"m20,15 -5,5\" class=\"s2\"/><path d=\"M20,10 10,20\" class=\"s2\"/><path d=\"M20,5 8,17\" class=\"s2\"/><path d=\"M20,0 7,13\" class=\"s2\"/><path d=\"M15,0 7,8\" class=\"s2\"/><path d=\"M10,0 9,1\" class=\"s2\"/></g><g id=\"vmd-8\"><path d=\"m0,0 0,20 20,0 C 10,20 7,10 3,0\" class=\"s13\"/><path d=\"m0,0 3,0 c 4,10 7,20 17,20\" class=\"s1\"/><path d=\"m0,20 20,0\" class=\"s1\"/></g><g id=\"vmu-8\"><path d=\"m0,0 0,20 3,0 C 7,10 10,0 20,0\" class=\"s13\"/><path d=\"m0,20 3,0 C 7,10 10,0 20,0\" class=\"s1\"/><path d=\"M0,0 20,0\" class=\"s1\"/></g><g id=\"vmz-8\"><path d=\"M0,0 3,0 C 10,10 15,10 20,10 15,10 10,10 3,20 L 0,20\" class=\"s13\"/><path d=\"m0,0 3,0 c 7,10 12,10 17,10\" class=\"s1\"/><path d=\"m0,20 3,0 C 10,10 15,10 20,10\" class=\"s1\"/></g><g id=\"0mv-9\"><path d=\"M9,0 20,0 20,20 3,20 z\" class=\"s14\"/><path d=\"M3,20 9,0 20,0\" class=\"s1\"/><path d=\"m0,20 20,0\" class=\"s1\"/></g><g id=\"1mv-9\"><path d=\"M2.875,0 20,0 20,20 9,20 z\" class=\"s14\"/><path d=\"m3,0 6,20 11,0\" class=\"s1\"/><path d=\"M0,0 20,0\" class=\"s1\"/></g><g id=\"xmv-9\"><path d=\"M9,0 20,0 20,20 9,20 6,10 z\" class=\"s14\"/><path d=\"M0,20 3,20 9,0 20,0\" class=\"s1\"/><path d=\"m0,0 3,0 6,20 11,0\" class=\"s1\"/><path d=\"M0,5 3.5,1.5\" class=\"s2\"/><path d=\"M0,10 4.5,5.5\" class=\"s2\"/><path d=\"M0,15 6,9\" class=\"s2\"/><path d=\"M0,20 4,16\" class=\"s2\"/></g><g id=\"dmv-9\"><path d=\"M9,0 20,0 20,20 3,20 z\" class=\"s14\"/><path d=\"M3,20 9,0 20,0\" class=\"s1\"/><path d=\"m0,20 20,0\" class=\"s1\"/></g><g id=\"umv-9\"><path d=\"M3,0 20,0 20,20 9,20 z\" class=\"s14\"/><path d=\"m3,0 6,20 11,0\" class=\"s1\"/><path d=\"M0,0 20,0\" class=\"s1\"/></g><g id=\"zmv-9\"><path d=\"M9,0 20,0 20,20 9,20 6,10 z\" class=\"s14\"/><path d=\"m6,10 3,10 11,0\" class=\"s1\"/><path d=\"M0,10 6,10 9,0 20,0\" class=\"s1\"/></g><g id=\"vvv-9\"><path d=\"M20,20 0,20 0,0 20,0\" class=\"s14\"/><path d=\"m0,20 20,0\" class=\"s1\"/><path d=\"M0,0 20,0\" class=\"s1\"/></g><g id=\"vm0-9\"><path d=\"M0,20 0,0 3,0 9,20\" class=\"s14\"/><path d=\"M0,0 3,0 9,20\" class=\"s1\"/><path d=\"m0,20 20,0\" class=\"s1\"/></g><g id=\"vm1-9\"><path d=\"M0,0 0,20 3,20 9,0\" class=\"s14\"/><path d=\"M0,0 20,0\" class=\"s1\"/><path d=\"M0,20 3,20 9,0\" class=\"s1\"/></g><g id=\"vmx-9\"><path d=\"M0,0 0,20 3,20 6,10 3,0\" class=\"s14\"/><path d=\"m0,0 3,0 6,20 11,0\" class=\"s1\"/><path d=\"M0,20 3,20 9,0 20,0\" class=\"s1\"/><path d=\"m20,15 -5,5\" class=\"s2\"/><path d=\"M20,10 10,20\" class=\"s2\"/><path d=\"M20,5 8,17\" class=\"s2\"/><path d=\"M20,0 7,13\" class=\"s2\"/><path d=\"M15,0 7,8\" class=\"s2\"/><path d=\"M10,0 9,1\" class=\"s2\"/></g><g id=\"vmd-9\"><path d=\"m0,0 0,20 20,0 C 10,20 7,10 3,0\" class=\"s14\"/><path d=\"m0,0 3,0 c 4,10 7,20 17,20\" class=\"s1\"/><path d=\"m0,20 20,0\" class=\"s1\"/></g><g id=\"vmu-9\"><path d=\"m0,0 0,20 3,0 C 7,10 10,0 20,0\" class=\"s14\"/><path d=\"m0,20 3,0 C 7,10 10,0 20,0\" class=\"s1\"/><path d=\"M0,0 20,0\" class=\"s1\"/></g><g id=\"vmz-9\"><path d=\"M0,0 3,0 C 10,10 15,10 20,10 15,10 10,10 3,20 L 0,20\" class=\"s14\"/><path d=\"m0,0 3,0 c 7,10 12,10 17,10\" class=\"s1\"/><path d=\"m0,20 3,0 C 10,10 15,10 20,10\" class=\"s1\"/></g><g id=\"vmv-2-2\"><path d=\"M9,0 20,0 20,20 9,20 6,10 z\" class=\"s7\"/><path d=\"M3,0 0,0 0,20 3,20 6,10 z\" class=\"s7\"/><path d=\"m0,0 3,0 6,20 11,0\" class=\"s1\"/><path d=\"M0,20 3,20 9,0 20,0\" class=\"s1\"/></g><g id=\"vmv-3-2\"><path d=\"M9,0 20,0 20,20 9,20 6,10 z\" class=\"s7\"/><path d=\"M3,0 0,0 0,20 3,20 6,10 z\" class=\"s8\"/><path d=\"m0,0 3,0 6,20 11,0\" class=\"s1\"/><path d=\"M0,20 3,20 9,0 20,0\" class=\"s1\"/></g><g id=\"vmv-4-2\"><path d=\"M9,0 20,0 20,20 9,20 6,10 z\" class=\"s7\"/><path d=\"M3,0 0,0 0,20 3,20 6,10 z\" class=\"s9\"/><path d=\"m0,0 3,0 6,20 11,0\" class=\"s1\"/><path d=\"M0,20 3,20 9,0 20,0\" class=\"s1\"/></g><g id=\"vmv-5-2\"><path d=\"M9,0 20,0 20,20 9,20 6,10 z\" class=\"s7\"/><path d=\"M3,0 0,0 0,20 3,20 6,10 z\" class=\"s10\"/><path d=\"m0,0 3,0 6,20 11,0\" class=\"s1\"/><path d=\"M0,20 3,20 9,0 20,0\" class=\"s1\"/></g><g id=\"vmv-6-2\"><path d=\"M9,0 20,0 20,20 9,20 6,10 z\" class=\"s7\"/><path d=\"M3,0 0,0 0,20 3,20 6,10 z\" class=\"s11\"/><path d=\"m0,0 3,0 6,20 11,0\" class=\"s1\"/><path d=\"M0,20 3,20 9,0 20,0\" class=\"s1\"/></g><g id=\"vmv-7-2\"><path d=\"M9,0 20,0 20,20 9,20 6,10 z\" class=\"s7\"/><path d=\"M3,0 0,0 0,20 3,20 6,10 z\" class=\"s12\"/><path d=\"m0,0 3,0 6,20 11,0\" class=\"s1\"/><path d=\"M0,20 3,20 9,0 20,0\" class=\"s1\"/></g><g id=\"vmv-8-2\"><path d=\"M9,0 20,0 20,20 9,20 6,10 z\" class=\"s7\"/><path d=\"M3,0 0,0 0,20 3,20 6,10 z\" class=\"s13\"/><path d=\"m0,0 3,0 6,20 11,0\" class=\"s1\"/><path d=\"M0,20 3,20 9,0 20,0\" class=\"s1\"/></g><g id=\"vmv-9-2\"><path d=\"M9,0 20,0 20,20 9,20 6,10 z\" class=\"s7\"/><path d=\"M3,0 0,0 0,20 3,20 6,10 z\" class=\"s14\"/><path d=\"m0,0 3,0 6,20 11,0\" class=\"s1\"/><path d=\"M0,20 3,20 9,0 20,0\" class=\"s1\"/></g><g id=\"vmv-2-3\"><path d=\"M9,0 20,0 20,20 9,20 6,10 z\" class=\"s8\"/><path d=\"M3,0 0,0 0,20 3,20 6,10 z\" class=\"s7\"/><path d=\"m0,0 3,0 6,20 11,0\" class=\"s1\"/><path d=\"M0,20 3,20 9,0 20,0\" class=\"s1\"/></g><g id=\"vmv-3-3\"><path d=\"M9,0 20,0 20,20 9,20 6,10 z\" class=\"s8\"/><path d=\"M3,0 0,0 0,20 3,20 6,10 z\" class=\"s8\"/><path d=\"m0,0 3,0 6,20 11,0\" class=\"s1\"/><path d=\"M0,20 3,20 9,0 20,0\" class=\"s1\"/></g><g id=\"vmv-4-3\"><path d=\"M9,0 20,0 20,20 9,20 6,10 z\" class=\"s8\"/><path d=\"M3,0 0,0 0,20 3,20 6,10 z\" class=\"s9\"/><path d=\"m0,0 3,0 6,20 11,0\" class=\"s1\"/><path d=\"M0,20 3,20 9,0 20,0\" class=\"s1\"/></g><g id=\"vmv-5-3\"><path d=\"M9,0 20,0 20,20 9,20 6,10 z\" class=\"s8\"/><path d=\"M3,0 0,0 0,20 3,20 6,10 z\" class=\"s10\"/><path d=\"m0,0 3,0 6,20 11,0\" class=\"s1\"/><path d=\"M0,20 3,20 9,0 20,0\" class=\"s1\"/></g><g id=\"vmv-6-3\"><path d=\"M9,0 20,0 20,20 9,20 6,10 z\" class=\"s8\"/><path d=\"M3,0 0,0 0,20 3,20 6,10 z\" class=\"s11\"/><path d=\"m0,0 3,0 6,20 11,0\" class=\"s1\"/><path d=\"M0,20 3,20 9,0 20,0\" class=\"s1\"/></g><g id=\"vmv-7-3\"><path d=\"M9,0 20,0 20,20 9,20 6,10 z\" class=\"s8\"/><path d=\"M3,0 0,0 0,20 3,20 6,10 z\" class=\"s12\"/><path d=\"m0,0 3,0 6,20 11,0\" class=\"s1\"/><path d=\"M0,20 3,20 9,0 20,0\" class=\"s1\"/></g><g id=\"vmv-8-3\"><path d=\"M9,0 20,0 20,20 9,20 6,10 z\" class=\"s8\"/><path d=\"M3,0 0,0 0,20 3,20 6,10 z\" class=\"s13\"/><path d=\"m0,0 3,0 6,20 11,0\" class=\"s1\"/><path d=\"M0,20 3,20 9,0 20,0\" class=\"s1\"/></g><g id=\"vmv-9-3\"><path d=\"M9,0 20,0 20,20 9,20 6,10 z\" class=\"s8\"/><path d=\"M3,0 0,0 0,20 3,20 6,10 z\" class=\"s14\"/><path d=\"m0,0 3,0 6,20 11,0\" class=\"s1\"/><path d=\"M0,20 3,20 9,0 20,0\" class=\"s1\"/></g><g id=\"vmv-2-4\"><path d=\"M9,0 20,0 20,20 9,20 6,10 z\" class=\"s9\"/><path d=\"M3,0 0,0 0,20 3,20 6,10 z\" class=\"s7\"/><path d=\"m0,0 3,0 6,20 11,0\" class=\"s1\"/><path d=\"M0,20 3,20 9,0 20,0\" class=\"s1\"/></g><g id=\"vmv-3-4\"><path d=\"M9,0 20,0 20,20 9,20 6,10 z\" class=\"s9\"/><path d=\"M3,0 0,0 0,20 3,20 6,10 z\" class=\"s8\"/><path d=\"m0,0 3,0 6,20 11,0\" class=\"s1\"/><path d=\"M0,20 3,20 9,0 20,0\" class=\"s1\"/></g><g id=\"vmv-4-4\"><path d=\"M9,0 20,0 20,20 9,20 6,10 z\" class=\"s9\"/><path d=\"M3,0 0,0 0,20 3,20 6,10 z\" class=\"s9\"/><path d=\"m0,0 3,0 6,20 11,0\" class=\"s1\"/><path d=\"M0,20 3,20 9,0 20,0\" class=\"s1\"/></g><g id=\"vmv-5-4\"><path d=\"M9,0 20,0 20,20 9,20 6,10 z\" class=\"s9\"/><path d=\"M3,0 0,0 0,20 3,20 6,10 z\" class=\"s10\"/><path d=\"m0,0 3,0 6,20 11,0\" class=\"s1\"/><path d=\"M0,20 3,20 9,0 20,0\" class=\"s1\"/></g><g id=\"vmv-6-4\"><path d=\"M9,0 20,0 20,20 9,20 6,10 z\" class=\"s9\"/><path d=\"M3,0 0,0 0,20 3,20 6,10 z\" class=\"s11\"/><path d=\"m0,0 3,0 6,20 11,0\" class=\"s1\"/><path d=\"M0,20 3,20 9,0 20,0\" class=\"s1\"/></g><g id=\"vmv-7-4\"><path d=\"M9,0 20,0 20,20 9,20 6,10 z\" class=\"s9\"/><path d=\"M3,0 0,0 0,20 3,20 6,10 z\" class=\"s12\"/><path d=\"m0,0 3,0 6,20 11,0\" class=\"s1\"/><path d=\"M0,20 3,20 9,0 20,0\" class=\"s1\"/></g><g id=\"vmv-8-4\"><path d=\"M9,0 20,0 20,20 9,20 6,10 z\" class=\"s9\"/><path d=\"M3,0 0,0 0,20 3,20 6,10 z\" class=\"s13\"/><path d=\"m0,0 3,0 6,20 11,0\" class=\"s1\"/><path d=\"M0,20 3,20 9,0 20,0\" class=\"s1\"/></g><g id=\"vmv-9-4\"><path d=\"M9,0 20,0 20,20 9,20 6,10 z\" class=\"s9\"/><path d=\"M3,0 0,0 0,20 3,20 6,10 z\" class=\"s14\"/><path d=\"m0,0 3,0 6,20 11,0\" class=\"s1\"/><path d=\"M0,20 3,20 9,0 20,0\" class=\"s1\"/></g><g id=\"vmv-2-5\"><path d=\"M9,0 20,0 20,20 9,20 6,10 z\" class=\"s10\"/><path d=\"M3,0 0,0 0,20 3,20 6,10 z\" class=\"s7\"/><path d=\"m0,0 3,0 6,20 11,0\" class=\"s1\"/><path d=\"M0,20 3,20 9,0 20,0\" class=\"s1\"/></g><g id=\"vmv-3-5\"><path d=\"M9,0 20,0 20,20 9,20 6,10 z\" class=\"s10\"/><path d=\"M3,0 0,0 0,20 3,20 6,10 z\" class=\"s8\"/><path d=\"m0,0 3,0 6,20 11,0\" class=\"s1\"/><path d=\"M0,20 3,20 9,0 20,0\" class=\"s1\"/></g><g id=\"vmv-4-5\"><path d=\"M9,0 20,0 20,20 9,20 6,10 z\" class=\"s10\"/><path d=\"M3,0 0,0 0,20 3,20 6,10 z\" class=\"s9\"/><path d=\"m0,0 3,0 6,20 11,0\" class=\"s1\"/><path d=\"M0,20 3,20 9,0 20,0\" class=\"s1\"/></g><g id=\"vmv-5-5\"><path d=\"M9,0 20,0 20,20 9,20 6,10 z\" class=\"s10\"/><path d=\"M3,0 0,0 0,20 3,20 6,10 z\" class=\"s10\"/><path d=\"m0,0 3,0 6,20 11,0\" class=\"s1\"/><path d=\"M0,20 3,20 9,0 20,0\" class=\"s1\"/></g><g id=\"vmv-6-5\"><path d=\"M9,0 20,0 20,20 9,20 6,10 z\" class=\"s10\"/><path d=\"M3,0 0,0 0,20 3,20 6,10 z\" class=\"s11\"/><path d=\"m0,0 3,0 6,20 11,0\" class=\"s1\"/><path d=\"M0,20 3,20 9,0 20,0\" class=\"s1\"/></g><g id=\"vmv-7-5\"><path d=\"M9,0 20,0 20,20 9,20 6,10 z\" class=\"s10\"/><path d=\"M3,0 0,0 0,20 3,20 6,10 z\" class=\"s12\"/><path d=\"m0,0 3,0 6,20 11,0\" class=\"s1\"/><path d=\"M0,20 3,20 9,0 20,0\" class=\"s1\"/></g><g id=\"vmv-8-5\"><path d=\"M9,0 20,0 20,20 9,20 6,10 z\" class=\"s10\"/><path d=\"M3,0 0,0 0,20 3,20 6,10 z\" class=\"s13\"/><path d=\"m0,0 3,0 6,20 11,0\" class=\"s1\"/><path d=\"M0,20 3,20 9,0 20,0\" class=\"s1\"/></g><g id=\"vmv-9-5\"><path d=\"M9,0 20,0 20,20 9,20 6,10 z\" class=\"s10\"/><path d=\"M3,0 0,0 0,20 3,20 6,10 z\" class=\"s14\"/><path d=\"m0,0 3,0 6,20 11,0\" class=\"s1\"/><path d=\"M0,20 3,20 9,0 20,0\" class=\"s1\"/></g><g id=\"vmv-2-6\"><path d=\"M9,0 20,0 20,20 9,20 6,10 z\" class=\"s11\"/><path d=\"M3,0 0,0 0,20 3,20 6,10 z\" class=\"s7\"/><path d=\"m0,0 3,0 6,20 11,0\" class=\"s1\"/><path d=\"M0,20 3,20 9,0 20,0\" class=\"s1\"/></g><g id=\"vmv-3-6\"><path d=\"M9,0 20,0 20,20 9,20 6,10 z\" class=\"s11\"/><path d=\"M3,0 0,0 0,20 3,20 6,10 z\" class=\"s8\"/><path d=\"m0,0 3,0 6,20 11,0\" class=\"s1\"/><path d=\"M0,20 3,20 9,0 20,0\" class=\"s1\"/></g><g id=\"vmv-4-6\"><path d=\"M9,0 20,0 20,20 9,20 6,10 z\" class=\"s11\"/><path d=\"M3,0 0,0 0,20 3,20 6,10 z\" class=\"s9\"/><path d=\"m0,0 3,0 6,20 11,0\" class=\"s1\"/><path d=\"M0,20 3,20 9,0 20,0\" class=\"s1\"/></g><g id=\"vmv-5-6\"><path d=\"M9,0 20,0 20,20 9,20 6,10 z\" class=\"s11\"/><path d=\"M3,0 0,0 0,20 3,20 6,10 z\" class=\"s10\"/><path d=\"m0,0 3,0 6,20 11,0\" class=\"s1\"/><path d=\"M0,20 3,20 9,0 20,0\" class=\"s1\"/></g><g id=\"vmv-6-6\"><path d=\"M9,0 20,0 20,20 9,20 6,10 z\" class=\"s11\"/><path d=\"M3,0 0,0 0,20 3,20 6,10 z\" class=\"s11\"/><path d=\"m0,0 3,0 6,20 11,0\" class=\"s1\"/><path d=\"M0,20 3,20 9,0 20,0\" class=\"s1\"/></g><g id=\"vmv-7-6\"><path d=\"M9,0 20,0 20,20 9,20 6,10 z\" class=\"s11\"/><path d=\"M3,0 0,0 0,20 3,20 6,10 z\" class=\"s12\"/><path d=\"m0,0 3,0 6,20 11,0\" class=\"s1\"/><path d=\"M0,20 3,20 9,0 20,0\" class=\"s1\"/></g><g id=\"vmv-8-6\"><path d=\"M9,0 20,0 20,20 9,20 6,10 z\" class=\"s11\"/><path d=\"M3,0 0,0 0,20 3,20 6,10 z\" class=\"s13\"/><path d=\"m0,0 3,0 6,20 11,0\" class=\"s1\"/><path d=\"M0,20 3,20 9,0 20,0\" class=\"s1\"/></g><g id=\"vmv-9-6\"><path d=\"M9,0 20,0 20,20 9,20 6,10 z\" class=\"s11\"/><path d=\"M3,0 0,0 0,20 3,20 6,10 z\" class=\"s14\"/><path d=\"m0,0 3,0 6,20 11,0\" class=\"s1\"/><path d=\"M0,20 3,20 9,0 20,0\" class=\"s1\"/></g><g id=\"vmv-2-7\"><path d=\"M9,0 20,0 20,20 9,20 6,10 z\" class=\"s12\"/><path d=\"M3,0 0,0 0,20 3,20 6,10 z\" class=\"s7\"/><path d=\"m0,0 3,0 6,20 11,0\" class=\"s1\"/><path d=\"M0,20 3,20 9,0 20,0\" class=\"s1\"/></g><g id=\"vmv-3-7\"><path d=\"M9,0 20,0 20,20 9,20 6,10 z\" class=\"s12\"/><path d=\"M3,0 0,0 0,20 3,20 6,10 z\" class=\"s8\"/><path d=\"m0,0 3,0 6,20 11,0\" class=\"s1\"/><path d=\"M0,20 3,20 9,0 20,0\" class=\"s1\"/></g><g id=\"vmv-4-7\"><path d=\"M9,0 20,0 20,20 9,20 6,10 z\" class=\"s12\"/><path d=\"M3,0 0,0 0,20 3,20 6,10 z\" class=\"s9\"/><path d=\"m0,0 3,0 6,20 11,0\" class=\"s1\"/><path d=\"M0,20 3,20 9,0 20,0\" class=\"s1\"/></g><g id=\"vmv-5-7\"><path d=\"M9,0 20,0 20,20 9,20 6,10 z\" class=\"s12\"/><path d=\"M3,0 0,0 0,20 3,20 6,10 z\" class=\"s10\"/><path d=\"m0,0 3,0 6,20 11,0\" class=\"s1\"/><path d=\"M0,20 3,20 9,0 20,0\" class=\"s1\"/></g><g id=\"vmv-6-7\"><path d=\"M9,0 20,0 20,20 9,20 6,10 z\" class=\"s12\"/><path d=\"M3,0 0,0 0,20 3,20 6,10 z\" class=\"s11\"/><path d=\"m0,0 3,0 6,20 11,0\" class=\"s1\"/><path d=\"M0,20 3,20 9,0 20,0\" class=\"s1\"/></g><g id=\"vmv-7-7\"><path d=\"M9,0 20,0 20,20 9,20 6,10 z\" class=\"s12\"/><path d=\"M3,0 0,0 0,20 3,20 6,10 z\" class=\"s12\"/><path d=\"m0,0 3,0 6,20 11,0\" class=\"s1\"/><path d=\"M0,20 3,20 9,0 20,0\" class=\"s1\"/></g><g id=\"vmv-8-7\"><path d=\"M9,0 20,0 20,20 9,20 6,10 z\" class=\"s12\"/><path d=\"M3,0 0,0 0,20 3,20 6,10 z\" class=\"s13\"/><path d=\"m0,0 3,0 6,20 11,0\" class=\"s1\"/><path d=\"M0,20 3,20 9,0 20,0\" class=\"s1\"/></g><g id=\"vmv-9-7\"><path d=\"M9,0 20,0 20,20 9,20 6,10 z\" class=\"s12\"/><path d=\"M3,0 0,0 0,20 3,20 6,10 z\" class=\"s14\"/><path d=\"m0,0 3,0 6,20 11,0\" class=\"s1\"/><path d=\"M0,20 3,20 9,0 20,0\" class=\"s1\"/></g><g id=\"vmv-2-8\"><path d=\"M9,0 20,0 20,20 9,20 6,10 z\" class=\"s13\"/><path d=\"M3,0 0,0 0,20 3,20 6,10 z\" class=\"s7\"/><path d=\"m0,0 3,0 6,20 11,0\" class=\"s1\"/><path d=\"M0,20 3,20 9,0 20,0\" class=\"s1\"/></g><g id=\"vmv-3-8\"><path d=\"M9,0 20,0 20,20 9,20 6,10 z\" class=\"s13\"/><path d=\"M3,0 0,0 0,20 3,20 6,10 z\" class=\"s8\"/><path d=\"m0,0 3,0 6,20 11,0\" class=\"s1\"/><path d=\"M0,20 3,20 9,0 20,0\" class=\"s1\"/></g><g id=\"vmv-4-8\"><path d=\"M9,0 20,0 20,20 9,20 6,10 z\" class=\"s13\"/><path d=\"M3,0 0,0 0,20 3,20 6,10 z\" class=\"s9\"/><path d=\"m0,0 3,0 6,20 11,0\" class=\"s1\"/><path d=\"M0,20 3,20 9,0 20,0\" class=\"s1\"/></g><g id=\"vmv-5-8\"><path d=\"M9,0 20,0 20,20 9,20 6,10 z\" class=\"s13\"/><path d=\"M3,0 0,0 0,20 3,20 6,10 z\" class=\"s10\"/><path d=\"m0,0 3,0 6,20 11,0\" class=\"s1\"/><path d=\"M0,20 3,20 9,0 20,0\" class=\"s1\"/></g><g id=\"vmv-6-8\"><path d=\"M9,0 20,0 20,20 9,20 6,10 z\" class=\"s13\"/><path d=\"M3,0 0,0 0,20 3,20 6,10 z\" class=\"s11\"/><path d=\"m0,0 3,0 6,20 11,0\" class=\"s1\"/><path d=\"M0,20 3,20 9,0 20,0\" class=\"s1\"/></g><g id=\"vmv-7-8\"><path d=\"M9,0 20,0 20,20 9,20 6,10 z\" class=\"s13\"/><path d=\"M3,0 0,0 0,20 3,20 6,10 z\" class=\"s12\"/><path d=\"m0,0 3,0 6,20 11,0\" class=\"s1\"/><path d=\"M0,20 3,20 9,0 20,0\" class=\"s1\"/></g><g id=\"vmv-8-8\"><path d=\"M9,0 20,0 20,20 9,20 6,10 z\" class=\"s13\"/><path d=\"M3,0 0,0 0,20 3,20 6,10 z\" class=\"s13\"/><path d=\"m0,0 3,0 6,20 11,0\" class=\"s1\"/><path d=\"M0,20 3,20 9,0 20,0\" class=\"s1\"/></g><g id=\"vmv-9-8\"><path d=\"M9,0 20,0 20,20 9,20 6,10 z\" class=\"s13\"/><path d=\"M3,0 0,0 0,20 3,20 6,10 z\" class=\"s14\"/><path d=\"m0,0 3,0 6,20 11,0\" class=\"s1\"/><path d=\"M0,20 3,20 9,0 20,0\" class=\"s1\"/></g><g id=\"vmv-2-9\"><path d=\"M9,0 20,0 20,20 9,20 6,10 z\" class=\"s14\"/><path d=\"M3,0 0,0 0,20 3,20 6,10 z\" class=\"s7\"/><path d=\"m0,0 3,0 6,20 11,0\" class=\"s1\"/><path d=\"M0,20 3,20 9,0 20,0\" class=\"s1\"/></g><g id=\"vmv-3-9\"><path d=\"M9,0 20,0 20,20 9,20 6,10 z\" class=\"s14\"/><path d=\"M3,0 0,0 0,20 3,20 6,10 z\" class=\"s8\"/><path d=\"m0,0 3,0 6,20 11,0\" class=\"s1\"/><path d=\"M0,20 3,20 9,0 20,0\" class=\"s1\"/></g><g id=\"vmv-4-9\"><path d=\"M9,0 20,0 20,20 9,20 6,10 z\" class=\"s14\"/><path d=\"M3,0 0,0 0,20 3,20 6,10 z\" class=\"s9\"/><path d=\"m0,0 3,0 6,20 11,0\" class=\"s1\"/><path d=\"M0,20 3,20 9,0 20,0\" class=\"s1\"/></g><g id=\"vmv-5-9\"><path d=\"M9,0 20,0 20,20 9,20 6,10 z\" class=\"s14\"/><path d=\"M3,0 0,0 0,20 3,20 6,10 z\" class=\"s10\"/><path d=\"m0,0 3,0 6,20 11,0\" class=\"s1\"/><path d=\"M0,20 3,20 9,0 20,0\" class=\"s1\"/></g><g id=\"vmv-6-9\"><path d=\"M9,0 20,0 20,20 9,20 6,10 z\" class=\"s14\"/><path d=\"M3,0 0,0 0,20 3,20 6,10 z\" class=\"s11\"/><path d=\"m0,0 3,0 6,20 11,0\" class=\"s1\"/><path d=\"M0,20 3,20 9,0 20,0\" class=\"s1\"/></g><g id=\"vmv-7-9\"><path d=\"M9,0 20,0 20,20 9,20 6,10 z\" class=\"s14\"/><path d=\"M3,0 0,0 0,20 3,20 6,10 z\" class=\"s12\"/><path d=\"m0,0 3,0 6,20 11,0\" class=\"s1\"/><path d=\"M0,20 3,20 9,0 20,0\" class=\"s1\"/></g><g id=\"vmv-8-9\"><path d=\"M9,0 20,0 20,20 9,20 6,10 z\" class=\"s14\"/><path d=\"M3,0 0,0 0,20 3,20 6,10 z\" class=\"s13\"/><path d=\"m0,0 3,0 6,20 11,0\" class=\"s1\"/><path d=\"M0,20 3,20 9,0 20,0\" class=\"s1\"/></g><g id=\"vmv-9-9\"><path d=\"M9,0 20,0 20,20 9,20 6,10 z\" class=\"s14\"/><path d=\"M3,0 0,0 0,20 3,20 6,10 z\" class=\"s14\"/><path d=\"m0,0 3,0 6,20 11,0\" class=\"s1\"/><path d=\"M0,20 3,20 9,0 20,0\" class=\"s1\"/></g><g id=\"arrow0\"><path d=\"m-12,-3 9,3 -9,3 c 1,-2 1,-4 0,-6 z\" class=\"s15\"/><path d=\"M0,0 -15,0\" class=\"s16\"/></g><marker id=\"arrowhead\" style=\"fill:#0041c4\" markerHeight=\"7\" markerWidth=\"10\" markerUnits=\"strokeWidth\" viewBox=\"0 -4 11 8\" refX=\"15\" refY=\"0\" orient=\"auto\"><path d=\"M0 -4 11 0 0 4z\"/></marker><marker id=\"arrowtail\" style=\"fill:#0041c4\" markerHeight=\"7\" markerWidth=\"10\" markerUnits=\"strokeWidth\" viewBox=\"-11 -4 11 8\" refX=\"-15\" refY=\"0\" orient=\"auto\"><path d=\"M0 -4 -11 0 0 4z\"/></marker><marker id=\"tee\" style=\"fill:#0041c4\" markerHeight=\"6\" markerWidth=\"1\" markerUnits=\"strokeWidth\" viewBox=\"0 0 1 6\" refX=\"0\" refY=\"3\" orient=\"auto\"><path d=\"M 0 0 L 0 6\" style=\"stroke:#0041c4;stroke-width:2\"/></marker></defs><g id=\"waves_0\"><rect width=\"480\" height=\"150\" style=\"stroke:none;fill:white\"/><g transform=\"translate(60.5,0.5)\" id=\"lanes_0\"><g id=\"gmarks_0\"><g style=\"stroke:#888;stroke-width:0.5;stroke-dasharray:1,3\"><line id=\"gmark_0_0\" x1=\"0\" y1=\"0\" x2=\"0\" y2=\"150\"/><line id=\"gmark_1_0\" x1=\"40\" y1=\"0\" x2=\"40\" y2=\"150\"/><line id=\"gmark_2_0\" x1=\"80\" y1=\"0\" x2=\"80\" y2=\"150\"/><line id=\"gmark_3_0\" x1=\"120\" y1=\"0\" x2=\"120\" y2=\"150\"/><line id=\"gmark_4_0\" x1=\"160\" y1=\"0\" x2=\"160\" y2=\"150\"/><line id=\"gmark_5_0\" x1=\"200\" y1=\"0\" x2=\"200\" y2=\"150\"/><line id=\"gmark_6_0\" x1=\"240\" y1=\"0\" x2=\"240\" y2=\"150\"/><line id=\"gmark_7_0\" x1=\"280\" y1=\"0\" x2=\"280\" y2=\"150\"/><line id=\"gmark_8_0\" x1=\"320\" y1=\"0\" x2=\"320\" y2=\"150\"/><line id=\"gmark_9_0\" x1=\"360\" y1=\"0\" x2=\"360\" y2=\"150\"/><line id=\"gmark_10_0\" x1=\"400\" y1=\"0\" x2=\"400\" y2=\"150\"/></g></g><g transform=\"translate(0,5)\" id=\"wavelane_0_0\"><text x=\"-10\" y=\"15\" class=\"info\" text-anchor=\"end\" xml:space=\"preserve\"><tspan>clk</tspan></text><g id=\"wavelane_draw_0_0\"><use xlink:href=\"#pclk\"/><use transform=\"translate(20)\" xlink:href=\"#nclk\"/><use transform=\"translate(40)\" xlink:href=\"#pclk\"/><use transform=\"translate(60)\" xlink:href=\"#nclk\"/><use transform=\"translate(80)\" xlink:href=\"#pclk\"/><use transform=\"translate(100)\" xlink:href=\"#nclk\"/><use transform=\"translate(120)\" xlink:href=\"#pclk\"/><use transform=\"translate(140)\" xlink:href=\"#nclk\"/><use transform=\"translate(160)\" xlink:href=\"#pclk\"/><use transform=\"translate(180)\" xlink:href=\"#nclk\"/><use transform=\"translate(200)\" xlink:href=\"#pclk\"/><use transform=\"translate(220)\" xlink:href=\"#nclk\"/><use transform=\"translate(240)\" xlink:href=\"#pclk\"/><use transform=\"translate(260)\" xlink:href=\"#nclk\"/><use transform=\"translate(280)\" xlink:href=\"#pclk\"/><use transform=\"translate(300)\" xlink:href=\"#nclk\"/><use transform=\"translate(320)\" xlink:href=\"#pclk\"/><use transform=\"translate(340)\" xlink:href=\"#nclk\"/><use transform=\"translate(360)\" xlink:href=\"#pclk\"/><use transform=\"translate(380)\" xlink:href=\"#nclk\"/></g></g><g transform=\"translate(0,35)\" id=\"wavelane_1_0\"><text x=\"-10\" y=\"15\" class=\"info\" text-anchor=\"end\" xml:space=\"preserve\"><tspan>dat</tspan></text><g id=\"wavelane_draw_1_0\"><use xlink:href=\"#xxx\"/><use transform=\"translate(20)\" xlink:href=\"#xxx\"/><use transform=\"translate(40)\" xlink:href=\"#xxx\"/><use transform=\"translate(60)\" xlink:href=\"#xxx\"/><use transform=\"translate(80)\" xlink:href=\"#xmv-3\"/><use transform=\"translate(100)\" xlink:href=\"#vvv-3\"/><use transform=\"translate(120)\" xlink:href=\"#vmv-3-4\"/><use transform=\"translate(140)\" xlink:href=\"#vvv-4\"/><use transform=\"translate(160)\" xlink:href=\"#vmv-4-5\"/><use transform=\"translate(180)\" xlink:href=\"#vvv-5\"/><use transform=\"translate(200)\" xlink:href=\"#vmx-5\"/><use transform=\"translate(220)\" xlink:href=\"#xxx\"/><use transform=\"translate(240)\" xlink:href=\"#xxx\"/><use transform=\"translate(260)\" xlink:href=\"#xxx\"/><use transform=\"translate(280)\" xlink:href=\"#xmv-2\"/><use transform=\"translate(300)\" xlink:href=\"#vvv-2\"/><use transform=\"translate(320)\" xlink:href=\"#vvv-2\"/><use transform=\"translate(340)\" xlink:href=\"#vvv-2\"/><use transform=\"translate(360)\" xlink:href=\"#vmx-2\"/><use transform=\"translate(380)\" xlink:href=\"#xxx\"/><text x=\"106\" y=\"15\" text-anchor=\"middle\" xml:space=\"preserve\"><tspan>head</tspan></text><text x=\"146\" y=\"15\" text-anchor=\"middle\" xml:space=\"preserve\"><tspan>body</tspan></text><text x=\"186\" y=\"15\" text-anchor=\"middle\" xml:space=\"preserve\"><tspan>tail</tspan></text><text x=\"326\" y=\"15\" text-anchor=\"middle\" xml:space=\"preserve\"><tspan>data</tspan></text></g></g><g transform=\"translate(0,65)\" id=\"wavelane_2_0\"><text x=\"-10\" y=\"15\" class=\"info\" text-anchor=\"end\" xml:space=\"preserve\"><tspan>req</tspan></text><g id=\"wavelane_draw_2_0\"><use xlink:href=\"#000\"/><use transform=\"translate(20)\" xlink:href=\"#000\"/><use transform=\"translate(40)\" xlink:href=\"#000\"/><use transform=\"translate(60)\" xlink:href=\"#000\"/><use transform=\"translate(80)\" xlink:href=\"#0m1\"/><use transform=\"translate(100)\" xlink:href=\"#111\"/><use transform=\"translate(120)\" xlink:href=\"#111\"/><use transform=\"translate(140)\" xlink:href=\"#111\"/><use transform=\"translate(160)\" xlink:href=\"#111\"/><use transform=\"translate(180)\" xlink:href=\"#111\"/><use transform=\"translate(200)\" xlink:href=\"#1m0\"/><use transform=\"translate(220)\" xlink:href=\"#000\"/><use transform=\"translate(240)\" xlink:href=\"#000\"/><use transform=\"translate(260)\" xlink:href=\"#000\"/><use transform=\"translate(280)\" xlink:href=\"#0m1\"/><use transform=\"translate(300)\" xlink:href=\"#111\"/><use transform=\"translate(320)\" xlink:href=\"#111\"/><use transform=\"translate(340)\" xlink:href=\"#111\"/><use transform=\"translate(360)\" xlink:href=\"#1m0\"/><use transform=\"translate(380)\" xlink:href=\"#000\"/></g></g><g transform=\"translate(0,95)\" id=\"wavelane_3_0\"><text x=\"-10\" y=\"15\" class=\"info\" text-anchor=\"end\" xml:space=\"preserve\"><tspan/></text><g id=\"wavelane_draw_3_0\"/></g><g transform=\"translate(0,125)\" id=\"wavelane_4_0\"><text x=\"-10\" y=\"15\" class=\"info\" text-anchor=\"end\" xml:space=\"preserve\"><tspan>ack</tspan></text><g id=\"wavelane_draw_4_0\"><use xlink:href=\"#111\"/><use transform=\"translate(20)\" xlink:href=\"#111\"/><use transform=\"translate(40)\" xlink:href=\"#111\"/><use transform=\"translate(60)\" xlink:href=\"#111\"/><use transform=\"translate(80)\" xlink:href=\"#111\"/><use transform=\"translate(100)\" xlink:href=\"#111\"/><use transform=\"translate(120)\" xlink:href=\"#111\"/><use transform=\"translate(140)\" xlink:href=\"#111\"/><use transform=\"translate(160)\" xlink:href=\"#111\"/><use transform=\"translate(180)\" xlink:href=\"#111\"/><use transform=\"translate(200)\" xlink:href=\"#111\"/><use transform=\"translate(220)\" xlink:href=\"#111\"/><use transform=\"translate(240)\" xlink:href=\"#111\"/><use transform=\"translate(260)\" xlink:href=\"#111\"/><use transform=\"translate(280)\" xlink:href=\"#1m0\"/><use transform=\"translate(300)\" xlink:href=\"#000\"/><use transform=\"translate(320)\" xlink:href=\"#0m1\"/><use transform=\"translate(340)\" xlink:href=\"#111\"/><use transform=\"translate(360)\" xlink:href=\"#111\"/><use transform=\"translate(380)\" xlink:href=\"#111\"/></g></g><g id=\"wavearcs_0\"/><g id=\"wavegaps_0\"><g transform=\"translate(0,5)\" id=\"wavegap_0_0\"><use transform=\"translate(260)\" xlink:href=\"#gap\"/></g><g transform=\"translate(0,35)\" id=\"wavegap_1_0\"><use transform=\"translate(260)\" xlink:href=\"#gap\"/></g><g transform=\"translate(0,65)\" id=\"wavegap_2_0\"><use transform=\"translate(260)\" xlink:href=\"#gap\"/></g><g transform=\"translate(0,125)\" id=\"wavegap_4_0\"><use transform=\"translate(260)\" xlink:href=\"#gap\"/></g></g><g/></g><g id=\"groups_0\"><g/></g></g></svg>"
      ],
      "text/plain": [
       "<IPython.core.display.Markdown object>"
      ]
     },
     "metadata": {},
     "output_type": "display_data"
    }
   ],
   "source": [
    "%%vdf #wave\n",
    "{\n",
    "\"signal\": [\n",
    "  {\"name\": \"clk\", \"wave\": \"p.....|...\"},\n",
    "  {\"name\": \"dat\", \"wave\": \"x.345x|=.x\", \"data\": [\"head\", \"body\", \"tail\", \"data\"]},\n",
    "  {\"name\": \"req\", \"wave\": \"0.1..0|1.0\"},\n",
    "  {},\n",
    "  {\"name\": \"ack\", \"wave\": \"1.....|01.\"}\n",
    "]}"
   ]
  },
  {
   "cell_type": "markdown",
   "id": "74e3c2ff-0ee9-4716-b1a1-c86854e126f1",
   "metadata": {},
   "source": [
    "Entry in YAML form is supported as well"
   ]
  },
  {
   "cell_type": "code",
   "execution_count": 18,
   "id": "76a74423-904a-4014-88d3-eb063a11e607",
   "metadata": {},
   "outputs": [
    {
     "data": {
      "text/markdown": [
       "<svg xmlns=\"http://www.w3.org/2000/svg\" xmlns:xlink=\"http://www.w3.org/1999/xlink\" id=\"svgcontent_0\" height=\"120\" width=\"480\" viewBox=\"0 0 480 120\" overflow=\"hidden\" class=\"WaveDrom\"><style type=\"text/css\">text{font-size:11pt;font-style:normal;font-variant:normal;font-weight:normal;font-stretch:normal;text-align:center;fill-opacity:1;font-family:Helvetica}.h1{font-size:33pt;font-weight:bold}.h2{font-size:27pt;font-weight:bold}.h3{font-size:20pt;font-weight:bold}.h4{font-size:14pt;font-weight:bold}.h5{font-size:11pt;font-weight:bold}.h6{font-size:8pt;font-weight:bold}.muted{fill:#aaa}.warning{fill:#f6b900}.error{fill:#f60000}.info{fill:#0041c4}.success{fill:#00ab00}.s1{fill:none;stroke:#000;stroke-width:1;stroke-linecap:round;stroke-linejoin:miter;stroke-miterlimit:4;stroke-opacity:1;stroke-dasharray:none}.s2{fill:none;stroke:#000;stroke-width:0.5;stroke-linecap:round;stroke-linejoin:miter;stroke-miterlimit:4;stroke-opacity:1;stroke-dasharray:none}.s3{color:#000;fill:none;stroke:#000;stroke-width:1;stroke-linecap:round;stroke-linejoin:miter;stroke-miterlimit:4;stroke-opacity:1;stroke-dasharray:1, 3;stroke-dashoffset:0;marker:none;visibility:visible;display:inline;overflow:visible}.s4{color:#000;fill:none;stroke:#000;stroke-width:1;stroke-linecap:round;stroke-linejoin:miter;stroke-miterlimit:4;stroke-opacity:1;stroke-dasharray:none;stroke-dashoffset:0;marker:none;visibility:visible;display:inline;overflow:visible}.s5{fill:#fff;stroke:none}.s6{fill:#000;fill-opacity:1;stroke:none}.s7{color:#000;fill:#fff;fill-opacity:1;fill-rule:nonzero;stroke:none;stroke-width:1px;marker:none;visibility:visible;display:inline;overflow:visible}.s8{color:#000;fill:#ffffb4;fill-opacity:1;fill-rule:nonzero;stroke:none;stroke-width:1px;marker:none;visibility:visible;display:inline;overflow:visible}.s9{color:#000;fill:#ffe0b9;fill-opacity:1;fill-rule:nonzero;stroke:none;stroke-width:1px;marker:none;visibility:visible;display:inline;overflow:visible}.s10{color:#000;fill:#b9e0ff;fill-opacity:1;fill-rule:nonzero;stroke:none;stroke-width:1px;marker:none;visibility:visible;display:inline;overflow:visible}.s11{color:#000;fill:#ccfdfe;fill-opacity:1;fill-rule:nonzero;stroke:none;stroke-width:1px;marker:none;visibility:visible;display:inline;overflow:visible}.s12{color:#000;fill:#cdfdc5;fill-opacity:1;fill-rule:nonzero;stroke:none;stroke-width:1px;marker:none;visibility:visible;display:inline;overflow:visible}.s13{color:#000;fill:#f0c1fb;fill-opacity:1;fill-rule:nonzero;stroke:none;stroke-width:1px;marker:none;visibility:visible;display:inline;overflow:visible}.s14{color:#000;fill:#f5c2c0;fill-opacity:1;fill-rule:nonzero;stroke:none;stroke-width:1px;marker:none;visibility:visible;display:inline;overflow:visible}.s15{fill:#0041c4;fill-opacity:1;stroke:none}.s16{fill:none;stroke:#0041c4;stroke-width:1;stroke-linecap:round;stroke-linejoin:miter;stroke-miterlimit:4;stroke-opacity:1;stroke-dasharray:none}</style><defs><g id=\"socket\"><rect y=\"15\" x=\"6\" height=\"20\" width=\"20\"/></g><g id=\"pclk\"><path d=\"M0,20 0,0 20,0\" class=\"s1\"/></g><g id=\"nclk\"><path d=\"m0,0 0,20 20,0\" class=\"s1\"/></g><g id=\"000\"><path d=\"m0,20 20,0\" class=\"s1\"/></g><g id=\"0m0\"><path d=\"m0,20 3,0 3,-10 3,10 11,0\" class=\"s1\"/></g><g id=\"0m1\"><path d=\"M0,20 3,20 9,0 20,0\" class=\"s1\"/></g><g id=\"0mx\"><path d=\"M3,20 9,0 20,0\" class=\"s1\"/><path d=\"m20,15 -5,5\" class=\"s2\"/><path d=\"M20,10 10,20\" class=\"s2\"/><path d=\"M20,5 5,20\" class=\"s2\"/><path d=\"M20,0 4,16\" class=\"s2\"/><path d=\"M15,0 6,9\" class=\"s2\"/><path d=\"M10,0 9,1\" class=\"s2\"/><path d=\"m0,20 20,0\" class=\"s1\"/></g><g id=\"0md\"><path d=\"m8,20 10,0\" class=\"s3\"/><path d=\"m0,20 5,0\" class=\"s1\"/></g><g id=\"0mu\"><path d=\"m0,20 3,0 C 7,10 10.107603,0 20,0\" class=\"s1\"/></g><g id=\"0mz\"><path d=\"m0,20 3,0 C 10,10 15,10 20,10\" class=\"s1\"/></g><g id=\"111\"><path d=\"M0,0 20,0\" class=\"s1\"/></g><g id=\"1m0\"><path d=\"m0,0 3,0 6,20 11,0\" class=\"s1\"/></g><g id=\"1m1\"><path d=\"M0,0 3,0 6,10 9,0 20,0\" class=\"s1\"/></g><g id=\"1mx\"><path d=\"m3,0 6,20 11,0\" class=\"s1\"/><path d=\"M0,0 20,0\" class=\"s1\"/><path d=\"m20,15 -5,5\" class=\"s2\"/><path d=\"M20,10 10,20\" class=\"s2\"/><path d=\"M20,5 8,17\" class=\"s2\"/><path d=\"M20,0 7,13\" class=\"s2\"/><path d=\"M15,0 6,9\" class=\"s2\"/><path d=\"M10,0 5,5\" class=\"s2\"/><path d=\"M3.5,1.5 5,0\" class=\"s2\"/></g><g id=\"1md\"><path d=\"m0,0 3,0 c 4,10 7,20 17,20\" class=\"s1\"/></g><g id=\"1mu\"><path d=\"M0,0 5,0\" class=\"s1\"/><path d=\"M8,0 18,0\" class=\"s3\"/></g><g id=\"1mz\"><path d=\"m0,0 3,0 c 7,10 12,10 17,10\" class=\"s1\"/></g><g id=\"xxx\"><path d=\"m0,20 20,0\" class=\"s1\"/><path d=\"M0,0 20,0\" class=\"s1\"/><path d=\"M0,5 5,0\" class=\"s2\"/><path d=\"M0,10 10,0\" class=\"s2\"/><path d=\"M0,15 15,0\" class=\"s2\"/><path d=\"M0,20 20,0\" class=\"s2\"/><path d=\"M5,20 20,5\" class=\"s2\"/><path d=\"M10,20 20,10\" class=\"s2\"/><path d=\"m15,20 5,-5\" class=\"s2\"/></g><g id=\"xm0\"><path d=\"M0,0 4,0 9,20\" class=\"s1\"/><path d=\"m0,20 20,0\" class=\"s1\"/><path d=\"M0,5 4,1\" class=\"s2\"/><path d=\"M0,10 5,5\" class=\"s2\"/><path d=\"M0,15 6,9\" class=\"s2\"/><path d=\"M0,20 7,13\" class=\"s2\"/><path d=\"M5,20 8,17\" class=\"s2\"/></g><g id=\"xm1\"><path d=\"M0,0 20,0\" class=\"s1\"/><path d=\"M0,20 4,20 9,0\" class=\"s1\"/><path d=\"M0,5 5,0\" class=\"s2\"/><path d=\"M0,10 9,1\" class=\"s2\"/><path d=\"M0,15 7,8\" class=\"s2\"/><path d=\"M0,20 5,15\" class=\"s2\"/></g><g id=\"xmx\"><path d=\"m0,20 20,0\" class=\"s1\"/><path d=\"M0,0 20,0\" class=\"s1\"/><path d=\"M0,5 5,0\" class=\"s2\"/><path d=\"M0,10 10,0\" class=\"s2\"/><path d=\"M0,15 15,0\" class=\"s2\"/><path d=\"M0,20 20,0\" class=\"s2\"/><path d=\"M5,20 20,5\" class=\"s2\"/><path d=\"M10,20 20,10\" class=\"s2\"/><path d=\"m15,20 5,-5\" class=\"s2\"/></g><g id=\"xmd\"><path d=\"m0,0 4,0 c 3,10 6,20 16,20\" class=\"s1\"/><path d=\"m0,20 20,0\" class=\"s1\"/><path d=\"M0,5 4,1\" class=\"s2\"/><path d=\"M0,10 5.5,4.5\" class=\"s2\"/><path d=\"M0,15 6.5,8.5\" class=\"s2\"/><path d=\"M0,20 8,12\" class=\"s2\"/><path d=\"m5,20 5,-5\" class=\"s2\"/><path d=\"m10,20 2.5,-2.5\" class=\"s2\"/></g><g id=\"xmu\"><path d=\"M0,0 20,0\" class=\"s1\"/><path d=\"m0,20 4,0 C 7,10 10,0 20,0\" class=\"s1\"/><path d=\"M0,5 5,0\" class=\"s2\"/><path d=\"M0,10 10,0\" class=\"s2\"/><path d=\"M0,15 10,5\" class=\"s2\"/><path d=\"M0,20 6,14\" class=\"s2\"/></g><g id=\"xmz\"><path d=\"m0,0 4,0 c 6,10 11,10 16,10\" class=\"s1\"/><path d=\"m0,20 4,0 C 10,10 15,10 20,10\" class=\"s1\"/><path d=\"M0,5 4.5,0.5\" class=\"s2\"/><path d=\"M0,10 6.5,3.5\" class=\"s2\"/><path d=\"M0,15 8.5,6.5\" class=\"s2\"/><path d=\"M0,20 11.5,8.5\" class=\"s2\"/></g><g id=\"ddd\"><path d=\"m0,20 20,0\" class=\"s3\"/></g><g id=\"dm0\"><path d=\"m0,20 10,0\" class=\"s3\"/><path d=\"m12,20 8,0\" class=\"s1\"/></g><g id=\"dm1\"><path d=\"M0,20 3,20 9,0 20,0\" class=\"s1\"/></g><g id=\"dmx\"><path d=\"M3,20 9,0 20,0\" class=\"s1\"/><path d=\"m20,15 -5,5\" class=\"s2\"/><path d=\"M20,10 10,20\" class=\"s2\"/><path d=\"M20,5 5,20\" class=\"s2\"/><path d=\"M20,0 4,16\" class=\"s2\"/><path d=\"M15,0 6,9\" class=\"s2\"/><path d=\"M10,0 9,1\" class=\"s2\"/><path d=\"m0,20 20,0\" class=\"s1\"/></g><g id=\"dmd\"><path d=\"m0,20 20,0\" class=\"s3\"/></g><g id=\"dmu\"><path d=\"m0,20 3,0 C 7,10 10.107603,0 20,0\" class=\"s1\"/></g><g id=\"dmz\"><path d=\"m0,20 3,0 C 10,10 15,10 20,10\" class=\"s1\"/></g><g id=\"uuu\"><path d=\"M0,0 20,0\" class=\"s3\"/></g><g id=\"um0\"><path d=\"m0,0 3,0 6,20 11,0\" class=\"s1\"/></g><g id=\"um1\"><path d=\"M0,0 10,0\" class=\"s3\"/><path d=\"m12,0 8,0\" class=\"s1\"/></g><g id=\"umx\"><path d=\"m3,0 6,20 11,0\" class=\"s1\"/><path d=\"M0,0 20,0\" class=\"s1\"/><path d=\"m20,15 -5,5\" class=\"s2\"/><path d=\"M20,10 10,20\" class=\"s2\"/><path d=\"M20,5 8,17\" class=\"s2\"/><path d=\"M20,0 7,13\" class=\"s2\"/><path d=\"M15,0 6,9\" class=\"s2\"/><path d=\"M10,0 5,5\" class=\"s2\"/><path d=\"M3.5,1.5 5,0\" class=\"s2\"/></g><g id=\"umd\"><path d=\"m0,0 3,0 c 4,10 7,20 17,20\" class=\"s1\"/></g><g id=\"umu\"><path d=\"M0,0 20,0\" class=\"s3\"/></g><g id=\"umz\"><path d=\"m0,0 3,0 c 7,10 12,10 17,10\" class=\"s4\"/></g><g id=\"zzz\"><path d=\"m0,10 20,0\" class=\"s1\"/></g><g id=\"zm0\"><path d=\"m0,10 6,0 3,10 11,0\" class=\"s1\"/></g><g id=\"zm1\"><path d=\"M0,10 6,10 9,0 20,0\" class=\"s1\"/></g><g id=\"zmx\"><path d=\"m6,10 3,10 11,0\" class=\"s1\"/><path d=\"M0,10 6,10 9,0 20,0\" class=\"s1\"/><path d=\"m20,15 -5,5\" class=\"s2\"/><path d=\"M20,10 10,20\" class=\"s2\"/><path d=\"M20,5 8,17\" class=\"s2\"/><path d=\"M20,0 7,13\" class=\"s2\"/><path d=\"M15,0 6.5,8.5\" class=\"s2\"/><path d=\"M10,0 9,1\" class=\"s2\"/></g><g id=\"zmd\"><path d=\"m0,10 7,0 c 3,5 8,10 13,10\" class=\"s1\"/></g><g id=\"zmu\"><path d=\"m0,10 7,0 C 10,5 15,0 20,0\" class=\"s1\"/></g><g id=\"zmz\"><path d=\"m0,10 20,0\" class=\"s1\"/></g><g id=\"gap\"><path d=\"m7,-2 -4,0 c -5,0 -5,24 -10,24 l 4,0 C 2,22 2,-2 7,-2 z\" class=\"s5\"/><path d=\"M-7,22 C -2,22 -2,-2 3,-2\" class=\"s1\"/><path d=\"M-3,22 C 2,22 2,-2 7,-2\" class=\"s1\"/></g><g id=\"Pclk\"><path d=\"M-3,12 0,3 3,12 C 1,11 -1,11 -3,12 z\" class=\"s6\"/><path d=\"M0,20 0,0 20,0\" class=\"s1\"/></g><g id=\"Nclk\"><path d=\"M-3,8 0,17 3,8 C 1,9 -1,9 -3,8 z\" class=\"s6\"/><path d=\"m0,0 0,20 20,0\" class=\"s1\"/></g><g id=\"0mv-2\"><path d=\"M9,0 20,0 20,20 3,20 z\" class=\"s7\"/><path d=\"M3,20 9,0 20,0\" class=\"s1\"/><path d=\"m0,20 20,0\" class=\"s1\"/></g><g id=\"1mv-2\"><path d=\"M2.875,0 20,0 20,20 9,20 z\" class=\"s7\"/><path d=\"m3,0 6,20 11,0\" class=\"s1\"/><path d=\"M0,0 20,0\" class=\"s1\"/></g><g id=\"xmv-2\"><path d=\"M9,0 20,0 20,20 9,20 6,10 z\" class=\"s7\"/><path d=\"M0,20 3,20 9,0 20,0\" class=\"s1\"/><path d=\"m0,0 3,0 6,20 11,0\" class=\"s1\"/><path d=\"M0,5 3.5,1.5\" class=\"s2\"/><path d=\"M0,10 4.5,5.5\" class=\"s2\"/><path d=\"M0,15 6,9\" class=\"s2\"/><path d=\"M0,20 4,16\" class=\"s2\"/></g><g id=\"dmv-2\"><path d=\"M9,0 20,0 20,20 3,20 z\" class=\"s7\"/><path d=\"M3,20 9,0 20,0\" class=\"s1\"/><path d=\"m0,20 20,0\" class=\"s1\"/></g><g id=\"umv-2\"><path d=\"M3,0 20,0 20,20 9,20 z\" class=\"s7\"/><path d=\"m3,0 6,20 11,0\" class=\"s1\"/><path d=\"M0,0 20,0\" class=\"s1\"/></g><g id=\"zmv-2\"><path d=\"M9,0 20,0 20,20 9,20 6,10 z\" class=\"s7\"/><path d=\"m6,10 3,10 11,0\" class=\"s1\"/><path d=\"M0,10 6,10 9,0 20,0\" class=\"s1\"/></g><g id=\"vvv-2\"><path d=\"M20,20 0,20 0,0 20,0\" class=\"s7\"/><path d=\"m0,20 20,0\" class=\"s1\"/><path d=\"M0,0 20,0\" class=\"s1\"/></g><g id=\"vm0-2\"><path d=\"M0,20 0,0 3,0 9,20\" class=\"s7\"/><path d=\"M0,0 3,0 9,20\" class=\"s1\"/><path d=\"m0,20 20,0\" class=\"s1\"/></g><g id=\"vm1-2\"><path d=\"M0,0 0,20 3,20 9,0\" class=\"s7\"/><path d=\"M0,0 20,0\" class=\"s1\"/><path d=\"M0,20 3,20 9,0\" class=\"s1\"/></g><g id=\"vmx-2\"><path d=\"M0,0 0,20 3,20 6,10 3,0\" class=\"s7\"/><path d=\"m0,0 3,0 6,20 11,0\" class=\"s1\"/><path d=\"M0,20 3,20 9,0 20,0\" class=\"s1\"/><path d=\"m20,15 -5,5\" class=\"s2\"/><path d=\"M20,10 10,20\" class=\"s2\"/><path d=\"M20,5 8,17\" class=\"s2\"/><path d=\"M20,0 7,13\" class=\"s2\"/><path d=\"M15,0 7,8\" class=\"s2\"/><path d=\"M10,0 9,1\" class=\"s2\"/></g><g id=\"vmd-2\"><path d=\"m0,0 0,20 20,0 C 10,20 7,10 3,0\" class=\"s7\"/><path d=\"m0,0 3,0 c 4,10 7,20 17,20\" class=\"s1\"/><path d=\"m0,20 20,0\" class=\"s1\"/></g><g id=\"vmu-2\"><path d=\"m0,0 0,20 3,0 C 7,10 10,0 20,0\" class=\"s7\"/><path d=\"m0,20 3,0 C 7,10 10,0 20,0\" class=\"s1\"/><path d=\"M0,0 20,0\" class=\"s1\"/></g><g id=\"vmz-2\"><path d=\"M0,0 3,0 C 10,10 15,10 20,10 15,10 10,10 3,20 L 0,20\" class=\"s7\"/><path d=\"m0,0 3,0 c 7,10 12,10 17,10\" class=\"s1\"/><path d=\"m0,20 3,0 C 10,10 15,10 20,10\" class=\"s1\"/></g><g id=\"0mv-3\"><path d=\"M9,0 20,0 20,20 3,20 z\" class=\"s8\"/><path d=\"M3,20 9,0 20,0\" class=\"s1\"/><path d=\"m0,20 20,0\" class=\"s1\"/></g><g id=\"1mv-3\"><path d=\"M2.875,0 20,0 20,20 9,20 z\" class=\"s8\"/><path d=\"m3,0 6,20 11,0\" class=\"s1\"/><path d=\"M0,0 20,0\" class=\"s1\"/></g><g id=\"xmv-3\"><path d=\"M9,0 20,0 20,20 9,20 6,10 z\" class=\"s8\"/><path d=\"M0,20 3,20 9,0 20,0\" class=\"s1\"/><path d=\"m0,0 3,0 6,20 11,0\" class=\"s1\"/><path d=\"M0,5 3.5,1.5\" class=\"s2\"/><path d=\"M0,10 4.5,5.5\" class=\"s2\"/><path d=\"M0,15 6,9\" class=\"s2\"/><path d=\"M0,20 4,16\" class=\"s2\"/></g><g id=\"dmv-3\"><path d=\"M9,0 20,0 20,20 3,20 z\" class=\"s8\"/><path d=\"M3,20 9,0 20,0\" class=\"s1\"/><path d=\"m0,20 20,0\" class=\"s1\"/></g><g id=\"umv-3\"><path d=\"M3,0 20,0 20,20 9,20 z\" class=\"s8\"/><path d=\"m3,0 6,20 11,0\" class=\"s1\"/><path d=\"M0,0 20,0\" class=\"s1\"/></g><g id=\"zmv-3\"><path d=\"M9,0 20,0 20,20 9,20 6,10 z\" class=\"s8\"/><path d=\"m6,10 3,10 11,0\" class=\"s1\"/><path d=\"M0,10 6,10 9,0 20,0\" class=\"s1\"/></g><g id=\"vvv-3\"><path d=\"M20,20 0,20 0,0 20,0\" class=\"s8\"/><path d=\"m0,20 20,0\" class=\"s1\"/><path d=\"M0,0 20,0\" class=\"s1\"/></g><g id=\"vm0-3\"><path d=\"M0,20 0,0 3,0 9,20\" class=\"s8\"/><path d=\"M0,0 3,0 9,20\" class=\"s1\"/><path d=\"m0,20 20,0\" class=\"s1\"/></g><g id=\"vm1-3\"><path d=\"M0,0 0,20 3,20 9,0\" class=\"s8\"/><path d=\"M0,0 20,0\" class=\"s1\"/><path d=\"M0,20 3,20 9,0\" class=\"s1\"/></g><g id=\"vmx-3\"><path d=\"M0,0 0,20 3,20 6,10 3,0\" class=\"s8\"/><path d=\"m0,0 3,0 6,20 11,0\" class=\"s1\"/><path d=\"M0,20 3,20 9,0 20,0\" class=\"s1\"/><path d=\"m20,15 -5,5\" class=\"s2\"/><path d=\"M20,10 10,20\" class=\"s2\"/><path d=\"M20,5 8,17\" class=\"s2\"/><path d=\"M20,0 7,13\" class=\"s2\"/><path d=\"M15,0 7,8\" class=\"s2\"/><path d=\"M10,0 9,1\" class=\"s2\"/></g><g id=\"vmd-3\"><path d=\"m0,0 0,20 20,0 C 10,20 7,10 3,0\" class=\"s8\"/><path d=\"m0,0 3,0 c 4,10 7,20 17,20\" class=\"s1\"/><path d=\"m0,20 20,0\" class=\"s1\"/></g><g id=\"vmu-3\"><path d=\"m0,0 0,20 3,0 C 7,10 10,0 20,0\" class=\"s8\"/><path d=\"m0,20 3,0 C 7,10 10,0 20,0\" class=\"s1\"/><path d=\"M0,0 20,0\" class=\"s1\"/></g><g id=\"vmz-3\"><path d=\"M0,0 3,0 C 10,10 15,10 20,10 15,10 10,10 3,20 L 0,20\" class=\"s8\"/><path d=\"m0,0 3,0 c 7,10 12,10 17,10\" class=\"s1\"/><path d=\"m0,20 3,0 C 10,10 15,10 20,10\" class=\"s1\"/></g><g id=\"0mv-4\"><path d=\"M9,0 20,0 20,20 3,20 z\" class=\"s9\"/><path d=\"M3,20 9,0 20,0\" class=\"s1\"/><path d=\"m0,20 20,0\" class=\"s1\"/></g><g id=\"1mv-4\"><path d=\"M2.875,0 20,0 20,20 9,20 z\" class=\"s9\"/><path d=\"m3,0 6,20 11,0\" class=\"s1\"/><path d=\"M0,0 20,0\" class=\"s1\"/></g><g id=\"xmv-4\"><path d=\"M9,0 20,0 20,20 9,20 6,10 z\" class=\"s9\"/><path d=\"M0,20 3,20 9,0 20,0\" class=\"s1\"/><path d=\"m0,0 3,0 6,20 11,0\" class=\"s1\"/><path d=\"M0,5 3.5,1.5\" class=\"s2\"/><path d=\"M0,10 4.5,5.5\" class=\"s2\"/><path d=\"M0,15 6,9\" class=\"s2\"/><path d=\"M0,20 4,16\" class=\"s2\"/></g><g id=\"dmv-4\"><path d=\"M9,0 20,0 20,20 3,20 z\" class=\"s9\"/><path d=\"M3,20 9,0 20,0\" class=\"s1\"/><path d=\"m0,20 20,0\" class=\"s1\"/></g><g id=\"umv-4\"><path d=\"M3,0 20,0 20,20 9,20 z\" class=\"s9\"/><path d=\"m3,0 6,20 11,0\" class=\"s1\"/><path d=\"M0,0 20,0\" class=\"s1\"/></g><g id=\"zmv-4\"><path d=\"M9,0 20,0 20,20 9,20 6,10 z\" class=\"s9\"/><path d=\"m6,10 3,10 11,0\" class=\"s1\"/><path d=\"M0,10 6,10 9,0 20,0\" class=\"s1\"/></g><g id=\"vvv-4\"><path d=\"M20,20 0,20 0,0 20,0\" class=\"s9\"/><path d=\"m0,20 20,0\" class=\"s1\"/><path d=\"M0,0 20,0\" class=\"s1\"/></g><g id=\"vm0-4\"><path d=\"M0,20 0,0 3,0 9,20\" class=\"s9\"/><path d=\"M0,0 3,0 9,20\" class=\"s1\"/><path d=\"m0,20 20,0\" class=\"s1\"/></g><g id=\"vm1-4\"><path d=\"M0,0 0,20 3,20 9,0\" class=\"s9\"/><path d=\"M0,0 20,0\" class=\"s1\"/><path d=\"M0,20 3,20 9,0\" class=\"s1\"/></g><g id=\"vmx-4\"><path d=\"M0,0 0,20 3,20 6,10 3,0\" class=\"s9\"/><path d=\"m0,0 3,0 6,20 11,0\" class=\"s1\"/><path d=\"M0,20 3,20 9,0 20,0\" class=\"s1\"/><path d=\"m20,15 -5,5\" class=\"s2\"/><path d=\"M20,10 10,20\" class=\"s2\"/><path d=\"M20,5 8,17\" class=\"s2\"/><path d=\"M20,0 7,13\" class=\"s2\"/><path d=\"M15,0 7,8\" class=\"s2\"/><path d=\"M10,0 9,1\" class=\"s2\"/></g><g id=\"vmd-4\"><path d=\"m0,0 0,20 20,0 C 10,20 7,10 3,0\" class=\"s9\"/><path d=\"m0,0 3,0 c 4,10 7,20 17,20\" class=\"s1\"/><path d=\"m0,20 20,0\" class=\"s1\"/></g><g id=\"vmu-4\"><path d=\"m0,0 0,20 3,0 C 7,10 10,0 20,0\" class=\"s9\"/><path d=\"m0,20 3,0 C 7,10 10,0 20,0\" class=\"s1\"/><path d=\"M0,0 20,0\" class=\"s1\"/></g><g id=\"vmz-4\"><path d=\"M0,0 3,0 C 10,10 15,10 20,10 15,10 10,10 3,20 L 0,20\" class=\"s9\"/><path d=\"m0,0 3,0 c 7,10 12,10 17,10\" class=\"s1\"/><path d=\"m0,20 3,0 C 10,10 15,10 20,10\" class=\"s1\"/></g><g id=\"0mv-5\"><path d=\"M9,0 20,0 20,20 3,20 z\" class=\"s10\"/><path d=\"M3,20 9,0 20,0\" class=\"s1\"/><path d=\"m0,20 20,0\" class=\"s1\"/></g><g id=\"1mv-5\"><path d=\"M2.875,0 20,0 20,20 9,20 z\" class=\"s10\"/><path d=\"m3,0 6,20 11,0\" class=\"s1\"/><path d=\"M0,0 20,0\" class=\"s1\"/></g><g id=\"xmv-5\"><path d=\"M9,0 20,0 20,20 9,20 6,10 z\" class=\"s10\"/><path d=\"M0,20 3,20 9,0 20,0\" class=\"s1\"/><path d=\"m0,0 3,0 6,20 11,0\" class=\"s1\"/><path d=\"M0,5 3.5,1.5\" class=\"s2\"/><path d=\"M0,10 4.5,5.5\" class=\"s2\"/><path d=\"M0,15 6,9\" class=\"s2\"/><path d=\"M0,20 4,16\" class=\"s2\"/></g><g id=\"dmv-5\"><path d=\"M9,0 20,0 20,20 3,20 z\" class=\"s10\"/><path d=\"M3,20 9,0 20,0\" class=\"s1\"/><path d=\"m0,20 20,0\" class=\"s1\"/></g><g id=\"umv-5\"><path d=\"M3,0 20,0 20,20 9,20 z\" class=\"s10\"/><path d=\"m3,0 6,20 11,0\" class=\"s1\"/><path d=\"M0,0 20,0\" class=\"s1\"/></g><g id=\"zmv-5\"><path d=\"M9,0 20,0 20,20 9,20 6,10 z\" class=\"s10\"/><path d=\"m6,10 3,10 11,0\" class=\"s1\"/><path d=\"M0,10 6,10 9,0 20,0\" class=\"s1\"/></g><g id=\"vvv-5\"><path d=\"M20,20 0,20 0,0 20,0\" class=\"s10\"/><path d=\"m0,20 20,0\" class=\"s1\"/><path d=\"M0,0 20,0\" class=\"s1\"/></g><g id=\"vm0-5\"><path d=\"M0,20 0,0 3,0 9,20\" class=\"s10\"/><path d=\"M0,0 3,0 9,20\" class=\"s1\"/><path d=\"m0,20 20,0\" class=\"s1\"/></g><g id=\"vm1-5\"><path d=\"M0,0 0,20 3,20 9,0\" class=\"s10\"/><path d=\"M0,0 20,0\" class=\"s1\"/><path d=\"M0,20 3,20 9,0\" class=\"s1\"/></g><g id=\"vmx-5\"><path d=\"M0,0 0,20 3,20 6,10 3,0\" class=\"s10\"/><path d=\"m0,0 3,0 6,20 11,0\" class=\"s1\"/><path d=\"M0,20 3,20 9,0 20,0\" class=\"s1\"/><path d=\"m20,15 -5,5\" class=\"s2\"/><path d=\"M20,10 10,20\" class=\"s2\"/><path d=\"M20,5 8,17\" class=\"s2\"/><path d=\"M20,0 7,13\" class=\"s2\"/><path d=\"M15,0 7,8\" class=\"s2\"/><path d=\"M10,0 9,1\" class=\"s2\"/></g><g id=\"vmd-5\"><path d=\"m0,0 0,20 20,0 C 10,20 7,10 3,0\" class=\"s10\"/><path d=\"m0,0 3,0 c 4,10 7,20 17,20\" class=\"s1\"/><path d=\"m0,20 20,0\" class=\"s1\"/></g><g id=\"vmu-5\"><path d=\"m0,0 0,20 3,0 C 7,10 10,0 20,0\" class=\"s10\"/><path d=\"m0,20 3,0 C 7,10 10,0 20,0\" class=\"s1\"/><path d=\"M0,0 20,0\" class=\"s1\"/></g><g id=\"vmz-5\"><path d=\"M0,0 3,0 C 10,10 15,10 20,10 15,10 10,10 3,20 L 0,20\" class=\"s10\"/><path d=\"m0,0 3,0 c 7,10 12,10 17,10\" class=\"s1\"/><path d=\"m0,20 3,0 C 10,10 15,10 20,10\" class=\"s1\"/></g><g id=\"0mv-6\"><path d=\"M9,0 20,0 20,20 3,20 z\" class=\"s11\"/><path d=\"M3,20 9,0 20,0\" class=\"s1\"/><path d=\"m0,20 20,0\" class=\"s1\"/></g><g id=\"1mv-6\"><path d=\"M2.875,0 20,0 20,20 9,20 z\" class=\"s11\"/><path d=\"m3,0 6,20 11,0\" class=\"s1\"/><path d=\"M0,0 20,0\" class=\"s1\"/></g><g id=\"xmv-6\"><path d=\"M9,0 20,0 20,20 9,20 6,10 z\" class=\"s11\"/><path d=\"M0,20 3,20 9,0 20,0\" class=\"s1\"/><path d=\"m0,0 3,0 6,20 11,0\" class=\"s1\"/><path d=\"M0,5 3.5,1.5\" class=\"s2\"/><path d=\"M0,10 4.5,5.5\" class=\"s2\"/><path d=\"M0,15 6,9\" class=\"s2\"/><path d=\"M0,20 4,16\" class=\"s2\"/></g><g id=\"dmv-6\"><path d=\"M9,0 20,0 20,20 3,20 z\" class=\"s11\"/><path d=\"M3,20 9,0 20,0\" class=\"s1\"/><path d=\"m0,20 20,0\" class=\"s1\"/></g><g id=\"umv-6\"><path d=\"M3,0 20,0 20,20 9,20 z\" class=\"s11\"/><path d=\"m3,0 6,20 11,0\" class=\"s1\"/><path d=\"M0,0 20,0\" class=\"s1\"/></g><g id=\"zmv-6\"><path d=\"M9,0 20,0 20,20 9,20 6,10 z\" class=\"s11\"/><path d=\"m6,10 3,10 11,0\" class=\"s1\"/><path d=\"M0,10 6,10 9,0 20,0\" class=\"s1\"/></g><g id=\"vvv-6\"><path d=\"M20,20 0,20 0,0 20,0\" class=\"s11\"/><path d=\"m0,20 20,0\" class=\"s1\"/><path d=\"M0,0 20,0\" class=\"s1\"/></g><g id=\"vm0-6\"><path d=\"M0,20 0,0 3,0 9,20\" class=\"s11\"/><path d=\"M0,0 3,0 9,20\" class=\"s1\"/><path d=\"m0,20 20,0\" class=\"s1\"/></g><g id=\"vm1-6\"><path d=\"M0,0 0,20 3,20 9,0\" class=\"s11\"/><path d=\"M0,0 20,0\" class=\"s1\"/><path d=\"M0,20 3,20 9,0\" class=\"s1\"/></g><g id=\"vmx-6\"><path d=\"M0,0 0,20 3,20 6,10 3,0\" class=\"s11\"/><path d=\"m0,0 3,0 6,20 11,0\" class=\"s1\"/><path d=\"M0,20 3,20 9,0 20,0\" class=\"s1\"/><path d=\"m20,15 -5,5\" class=\"s2\"/><path d=\"M20,10 10,20\" class=\"s2\"/><path d=\"M20,5 8,17\" class=\"s2\"/><path d=\"M20,0 7,13\" class=\"s2\"/><path d=\"M15,0 7,8\" class=\"s2\"/><path d=\"M10,0 9,1\" class=\"s2\"/></g><g id=\"vmd-6\"><path d=\"m0,0 0,20 20,0 C 10,20 7,10 3,0\" class=\"s11\"/><path d=\"m0,0 3,0 c 4,10 7,20 17,20\" class=\"s1\"/><path d=\"m0,20 20,0\" class=\"s1\"/></g><g id=\"vmu-6\"><path d=\"m0,0 0,20 3,0 C 7,10 10,0 20,0\" class=\"s11\"/><path d=\"m0,20 3,0 C 7,10 10,0 20,0\" class=\"s1\"/><path d=\"M0,0 20,0\" class=\"s1\"/></g><g id=\"vmz-6\"><path d=\"M0,0 3,0 C 10,10 15,10 20,10 15,10 10,10 3,20 L 0,20\" class=\"s11\"/><path d=\"m0,0 3,0 c 7,10 12,10 17,10\" class=\"s1\"/><path d=\"m0,20 3,0 C 10,10 15,10 20,10\" class=\"s1\"/></g><g id=\"0mv-7\"><path d=\"M9,0 20,0 20,20 3,20 z\" class=\"s12\"/><path d=\"M3,20 9,0 20,0\" class=\"s1\"/><path d=\"m0,20 20,0\" class=\"s1\"/></g><g id=\"1mv-7\"><path d=\"M2.875,0 20,0 20,20 9,20 z\" class=\"s12\"/><path d=\"m3,0 6,20 11,0\" class=\"s1\"/><path d=\"M0,0 20,0\" class=\"s1\"/></g><g id=\"xmv-7\"><path d=\"M9,0 20,0 20,20 9,20 6,10 z\" class=\"s12\"/><path d=\"M0,20 3,20 9,0 20,0\" class=\"s1\"/><path d=\"m0,0 3,0 6,20 11,0\" class=\"s1\"/><path d=\"M0,5 3.5,1.5\" class=\"s2\"/><path d=\"M0,10 4.5,5.5\" class=\"s2\"/><path d=\"M0,15 6,9\" class=\"s2\"/><path d=\"M0,20 4,16\" class=\"s2\"/></g><g id=\"dmv-7\"><path d=\"M9,0 20,0 20,20 3,20 z\" class=\"s12\"/><path d=\"M3,20 9,0 20,0\" class=\"s1\"/><path d=\"m0,20 20,0\" class=\"s1\"/></g><g id=\"umv-7\"><path d=\"M3,0 20,0 20,20 9,20 z\" class=\"s12\"/><path d=\"m3,0 6,20 11,0\" class=\"s1\"/><path d=\"M0,0 20,0\" class=\"s1\"/></g><g id=\"zmv-7\"><path d=\"M9,0 20,0 20,20 9,20 6,10 z\" class=\"s12\"/><path d=\"m6,10 3,10 11,0\" class=\"s1\"/><path d=\"M0,10 6,10 9,0 20,0\" class=\"s1\"/></g><g id=\"vvv-7\"><path d=\"M20,20 0,20 0,0 20,0\" class=\"s12\"/><path d=\"m0,20 20,0\" class=\"s1\"/><path d=\"M0,0 20,0\" class=\"s1\"/></g><g id=\"vm0-7\"><path d=\"M0,20 0,0 3,0 9,20\" class=\"s12\"/><path d=\"M0,0 3,0 9,20\" class=\"s1\"/><path d=\"m0,20 20,0\" class=\"s1\"/></g><g id=\"vm1-7\"><path d=\"M0,0 0,20 3,20 9,0\" class=\"s12\"/><path d=\"M0,0 20,0\" class=\"s1\"/><path d=\"M0,20 3,20 9,0\" class=\"s1\"/></g><g id=\"vmx-7\"><path d=\"M0,0 0,20 3,20 6,10 3,0\" class=\"s12\"/><path d=\"m0,0 3,0 6,20 11,0\" class=\"s1\"/><path d=\"M0,20 3,20 9,0 20,0\" class=\"s1\"/><path d=\"m20,15 -5,5\" class=\"s2\"/><path d=\"M20,10 10,20\" class=\"s2\"/><path d=\"M20,5 8,17\" class=\"s2\"/><path d=\"M20,0 7,13\" class=\"s2\"/><path d=\"M15,0 7,8\" class=\"s2\"/><path d=\"M10,0 9,1\" class=\"s2\"/></g><g id=\"vmd-7\"><path d=\"m0,0 0,20 20,0 C 10,20 7,10 3,0\" class=\"s12\"/><path d=\"m0,0 3,0 c 4,10 7,20 17,20\" class=\"s1\"/><path d=\"m0,20 20,0\" class=\"s1\"/></g><g id=\"vmu-7\"><path d=\"m0,0 0,20 3,0 C 7,10 10,0 20,0\" class=\"s12\"/><path d=\"m0,20 3,0 C 7,10 10,0 20,0\" class=\"s1\"/><path d=\"M0,0 20,0\" class=\"s1\"/></g><g id=\"vmz-7\"><path d=\"M0,0 3,0 C 10,10 15,10 20,10 15,10 10,10 3,20 L 0,20\" class=\"s12\"/><path d=\"m0,0 3,0 c 7,10 12,10 17,10\" class=\"s1\"/><path d=\"m0,20 3,0 C 10,10 15,10 20,10\" class=\"s1\"/></g><g id=\"0mv-8\"><path d=\"M9,0 20,0 20,20 3,20 z\" class=\"s13\"/><path d=\"M3,20 9,0 20,0\" class=\"s1\"/><path d=\"m0,20 20,0\" class=\"s1\"/></g><g id=\"1mv-8\"><path d=\"M2.875,0 20,0 20,20 9,20 z\" class=\"s13\"/><path d=\"m3,0 6,20 11,0\" class=\"s1\"/><path d=\"M0,0 20,0\" class=\"s1\"/></g><g id=\"xmv-8\"><path d=\"M9,0 20,0 20,20 9,20 6,10 z\" class=\"s13\"/><path d=\"M0,20 3,20 9,0 20,0\" class=\"s1\"/><path d=\"m0,0 3,0 6,20 11,0\" class=\"s1\"/><path d=\"M0,5 3.5,1.5\" class=\"s2\"/><path d=\"M0,10 4.5,5.5\" class=\"s2\"/><path d=\"M0,15 6,9\" class=\"s2\"/><path d=\"M0,20 4,16\" class=\"s2\"/></g><g id=\"dmv-8\"><path d=\"M9,0 20,0 20,20 3,20 z\" class=\"s13\"/><path d=\"M3,20 9,0 20,0\" class=\"s1\"/><path d=\"m0,20 20,0\" class=\"s1\"/></g><g id=\"umv-8\"><path d=\"M3,0 20,0 20,20 9,20 z\" class=\"s13\"/><path d=\"m3,0 6,20 11,0\" class=\"s1\"/><path d=\"M0,0 20,0\" class=\"s1\"/></g><g id=\"zmv-8\"><path d=\"M9,0 20,0 20,20 9,20 6,10 z\" class=\"s13\"/><path d=\"m6,10 3,10 11,0\" class=\"s1\"/><path d=\"M0,10 6,10 9,0 20,0\" class=\"s1\"/></g><g id=\"vvv-8\"><path d=\"M20,20 0,20 0,0 20,0\" class=\"s13\"/><path d=\"m0,20 20,0\" class=\"s1\"/><path d=\"M0,0 20,0\" class=\"s1\"/></g><g id=\"vm0-8\"><path d=\"M0,20 0,0 3,0 9,20\" class=\"s13\"/><path d=\"M0,0 3,0 9,20\" class=\"s1\"/><path d=\"m0,20 20,0\" class=\"s1\"/></g><g id=\"vm1-8\"><path d=\"M0,0 0,20 3,20 9,0\" class=\"s13\"/><path d=\"M0,0 20,0\" class=\"s1\"/><path d=\"M0,20 3,20 9,0\" class=\"s1\"/></g><g id=\"vmx-8\"><path d=\"M0,0 0,20 3,20 6,10 3,0\" class=\"s13\"/><path d=\"m0,0 3,0 6,20 11,0\" class=\"s1\"/><path d=\"M0,20 3,20 9,0 20,0\" class=\"s1\"/><path d=\"m20,15 -5,5\" class=\"s2\"/><path d=\"M20,10 10,20\" class=\"s2\"/><path d=\"M20,5 8,17\" class=\"s2\"/><path d=\"M20,0 7,13\" class=\"s2\"/><path d=\"M15,0 7,8\" class=\"s2\"/><path d=\"M10,0 9,1\" class=\"s2\"/></g><g id=\"vmd-8\"><path d=\"m0,0 0,20 20,0 C 10,20 7,10 3,0\" class=\"s13\"/><path d=\"m0,0 3,0 c 4,10 7,20 17,20\" class=\"s1\"/><path d=\"m0,20 20,0\" class=\"s1\"/></g><g id=\"vmu-8\"><path d=\"m0,0 0,20 3,0 C 7,10 10,0 20,0\" class=\"s13\"/><path d=\"m0,20 3,0 C 7,10 10,0 20,0\" class=\"s1\"/><path d=\"M0,0 20,0\" class=\"s1\"/></g><g id=\"vmz-8\"><path d=\"M0,0 3,0 C 10,10 15,10 20,10 15,10 10,10 3,20 L 0,20\" class=\"s13\"/><path d=\"m0,0 3,0 c 7,10 12,10 17,10\" class=\"s1\"/><path d=\"m0,20 3,0 C 10,10 15,10 20,10\" class=\"s1\"/></g><g id=\"0mv-9\"><path d=\"M9,0 20,0 20,20 3,20 z\" class=\"s14\"/><path d=\"M3,20 9,0 20,0\" class=\"s1\"/><path d=\"m0,20 20,0\" class=\"s1\"/></g><g id=\"1mv-9\"><path d=\"M2.875,0 20,0 20,20 9,20 z\" class=\"s14\"/><path d=\"m3,0 6,20 11,0\" class=\"s1\"/><path d=\"M0,0 20,0\" class=\"s1\"/></g><g id=\"xmv-9\"><path d=\"M9,0 20,0 20,20 9,20 6,10 z\" class=\"s14\"/><path d=\"M0,20 3,20 9,0 20,0\" class=\"s1\"/><path d=\"m0,0 3,0 6,20 11,0\" class=\"s1\"/><path d=\"M0,5 3.5,1.5\" class=\"s2\"/><path d=\"M0,10 4.5,5.5\" class=\"s2\"/><path d=\"M0,15 6,9\" class=\"s2\"/><path d=\"M0,20 4,16\" class=\"s2\"/></g><g id=\"dmv-9\"><path d=\"M9,0 20,0 20,20 3,20 z\" class=\"s14\"/><path d=\"M3,20 9,0 20,0\" class=\"s1\"/><path d=\"m0,20 20,0\" class=\"s1\"/></g><g id=\"umv-9\"><path d=\"M3,0 20,0 20,20 9,20 z\" class=\"s14\"/><path d=\"m3,0 6,20 11,0\" class=\"s1\"/><path d=\"M0,0 20,0\" class=\"s1\"/></g><g id=\"zmv-9\"><path d=\"M9,0 20,0 20,20 9,20 6,10 z\" class=\"s14\"/><path d=\"m6,10 3,10 11,0\" class=\"s1\"/><path d=\"M0,10 6,10 9,0 20,0\" class=\"s1\"/></g><g id=\"vvv-9\"><path d=\"M20,20 0,20 0,0 20,0\" class=\"s14\"/><path d=\"m0,20 20,0\" class=\"s1\"/><path d=\"M0,0 20,0\" class=\"s1\"/></g><g id=\"vm0-9\"><path d=\"M0,20 0,0 3,0 9,20\" class=\"s14\"/><path d=\"M0,0 3,0 9,20\" class=\"s1\"/><path d=\"m0,20 20,0\" class=\"s1\"/></g><g id=\"vm1-9\"><path d=\"M0,0 0,20 3,20 9,0\" class=\"s14\"/><path d=\"M0,0 20,0\" class=\"s1\"/><path d=\"M0,20 3,20 9,0\" class=\"s1\"/></g><g id=\"vmx-9\"><path d=\"M0,0 0,20 3,20 6,10 3,0\" class=\"s14\"/><path d=\"m0,0 3,0 6,20 11,0\" class=\"s1\"/><path d=\"M0,20 3,20 9,0 20,0\" class=\"s1\"/><path d=\"m20,15 -5,5\" class=\"s2\"/><path d=\"M20,10 10,20\" class=\"s2\"/><path d=\"M20,5 8,17\" class=\"s2\"/><path d=\"M20,0 7,13\" class=\"s2\"/><path d=\"M15,0 7,8\" class=\"s2\"/><path d=\"M10,0 9,1\" class=\"s2\"/></g><g id=\"vmd-9\"><path d=\"m0,0 0,20 20,0 C 10,20 7,10 3,0\" class=\"s14\"/><path d=\"m0,0 3,0 c 4,10 7,20 17,20\" class=\"s1\"/><path d=\"m0,20 20,0\" class=\"s1\"/></g><g id=\"vmu-9\"><path d=\"m0,0 0,20 3,0 C 7,10 10,0 20,0\" class=\"s14\"/><path d=\"m0,20 3,0 C 7,10 10,0 20,0\" class=\"s1\"/><path d=\"M0,0 20,0\" class=\"s1\"/></g><g id=\"vmz-9\"><path d=\"M0,0 3,0 C 10,10 15,10 20,10 15,10 10,10 3,20 L 0,20\" class=\"s14\"/><path d=\"m0,0 3,0 c 7,10 12,10 17,10\" class=\"s1\"/><path d=\"m0,20 3,0 C 10,10 15,10 20,10\" class=\"s1\"/></g><g id=\"vmv-2-2\"><path d=\"M9,0 20,0 20,20 9,20 6,10 z\" class=\"s7\"/><path d=\"M3,0 0,0 0,20 3,20 6,10 z\" class=\"s7\"/><path d=\"m0,0 3,0 6,20 11,0\" class=\"s1\"/><path d=\"M0,20 3,20 9,0 20,0\" class=\"s1\"/></g><g id=\"vmv-3-2\"><path d=\"M9,0 20,0 20,20 9,20 6,10 z\" class=\"s7\"/><path d=\"M3,0 0,0 0,20 3,20 6,10 z\" class=\"s8\"/><path d=\"m0,0 3,0 6,20 11,0\" class=\"s1\"/><path d=\"M0,20 3,20 9,0 20,0\" class=\"s1\"/></g><g id=\"vmv-4-2\"><path d=\"M9,0 20,0 20,20 9,20 6,10 z\" class=\"s7\"/><path d=\"M3,0 0,0 0,20 3,20 6,10 z\" class=\"s9\"/><path d=\"m0,0 3,0 6,20 11,0\" class=\"s1\"/><path d=\"M0,20 3,20 9,0 20,0\" class=\"s1\"/></g><g id=\"vmv-5-2\"><path d=\"M9,0 20,0 20,20 9,20 6,10 z\" class=\"s7\"/><path d=\"M3,0 0,0 0,20 3,20 6,10 z\" class=\"s10\"/><path d=\"m0,0 3,0 6,20 11,0\" class=\"s1\"/><path d=\"M0,20 3,20 9,0 20,0\" class=\"s1\"/></g><g id=\"vmv-6-2\"><path d=\"M9,0 20,0 20,20 9,20 6,10 z\" class=\"s7\"/><path d=\"M3,0 0,0 0,20 3,20 6,10 z\" class=\"s11\"/><path d=\"m0,0 3,0 6,20 11,0\" class=\"s1\"/><path d=\"M0,20 3,20 9,0 20,0\" class=\"s1\"/></g><g id=\"vmv-7-2\"><path d=\"M9,0 20,0 20,20 9,20 6,10 z\" class=\"s7\"/><path d=\"M3,0 0,0 0,20 3,20 6,10 z\" class=\"s12\"/><path d=\"m0,0 3,0 6,20 11,0\" class=\"s1\"/><path d=\"M0,20 3,20 9,0 20,0\" class=\"s1\"/></g><g id=\"vmv-8-2\"><path d=\"M9,0 20,0 20,20 9,20 6,10 z\" class=\"s7\"/><path d=\"M3,0 0,0 0,20 3,20 6,10 z\" class=\"s13\"/><path d=\"m0,0 3,0 6,20 11,0\" class=\"s1\"/><path d=\"M0,20 3,20 9,0 20,0\" class=\"s1\"/></g><g id=\"vmv-9-2\"><path d=\"M9,0 20,0 20,20 9,20 6,10 z\" class=\"s7\"/><path d=\"M3,0 0,0 0,20 3,20 6,10 z\" class=\"s14\"/><path d=\"m0,0 3,0 6,20 11,0\" class=\"s1\"/><path d=\"M0,20 3,20 9,0 20,0\" class=\"s1\"/></g><g id=\"vmv-2-3\"><path d=\"M9,0 20,0 20,20 9,20 6,10 z\" class=\"s8\"/><path d=\"M3,0 0,0 0,20 3,20 6,10 z\" class=\"s7\"/><path d=\"m0,0 3,0 6,20 11,0\" class=\"s1\"/><path d=\"M0,20 3,20 9,0 20,0\" class=\"s1\"/></g><g id=\"vmv-3-3\"><path d=\"M9,0 20,0 20,20 9,20 6,10 z\" class=\"s8\"/><path d=\"M3,0 0,0 0,20 3,20 6,10 z\" class=\"s8\"/><path d=\"m0,0 3,0 6,20 11,0\" class=\"s1\"/><path d=\"M0,20 3,20 9,0 20,0\" class=\"s1\"/></g><g id=\"vmv-4-3\"><path d=\"M9,0 20,0 20,20 9,20 6,10 z\" class=\"s8\"/><path d=\"M3,0 0,0 0,20 3,20 6,10 z\" class=\"s9\"/><path d=\"m0,0 3,0 6,20 11,0\" class=\"s1\"/><path d=\"M0,20 3,20 9,0 20,0\" class=\"s1\"/></g><g id=\"vmv-5-3\"><path d=\"M9,0 20,0 20,20 9,20 6,10 z\" class=\"s8\"/><path d=\"M3,0 0,0 0,20 3,20 6,10 z\" class=\"s10\"/><path d=\"m0,0 3,0 6,20 11,0\" class=\"s1\"/><path d=\"M0,20 3,20 9,0 20,0\" class=\"s1\"/></g><g id=\"vmv-6-3\"><path d=\"M9,0 20,0 20,20 9,20 6,10 z\" class=\"s8\"/><path d=\"M3,0 0,0 0,20 3,20 6,10 z\" class=\"s11\"/><path d=\"m0,0 3,0 6,20 11,0\" class=\"s1\"/><path d=\"M0,20 3,20 9,0 20,0\" class=\"s1\"/></g><g id=\"vmv-7-3\"><path d=\"M9,0 20,0 20,20 9,20 6,10 z\" class=\"s8\"/><path d=\"M3,0 0,0 0,20 3,20 6,10 z\" class=\"s12\"/><path d=\"m0,0 3,0 6,20 11,0\" class=\"s1\"/><path d=\"M0,20 3,20 9,0 20,0\" class=\"s1\"/></g><g id=\"vmv-8-3\"><path d=\"M9,0 20,0 20,20 9,20 6,10 z\" class=\"s8\"/><path d=\"M3,0 0,0 0,20 3,20 6,10 z\" class=\"s13\"/><path d=\"m0,0 3,0 6,20 11,0\" class=\"s1\"/><path d=\"M0,20 3,20 9,0 20,0\" class=\"s1\"/></g><g id=\"vmv-9-3\"><path d=\"M9,0 20,0 20,20 9,20 6,10 z\" class=\"s8\"/><path d=\"M3,0 0,0 0,20 3,20 6,10 z\" class=\"s14\"/><path d=\"m0,0 3,0 6,20 11,0\" class=\"s1\"/><path d=\"M0,20 3,20 9,0 20,0\" class=\"s1\"/></g><g id=\"vmv-2-4\"><path d=\"M9,0 20,0 20,20 9,20 6,10 z\" class=\"s9\"/><path d=\"M3,0 0,0 0,20 3,20 6,10 z\" class=\"s7\"/><path d=\"m0,0 3,0 6,20 11,0\" class=\"s1\"/><path d=\"M0,20 3,20 9,0 20,0\" class=\"s1\"/></g><g id=\"vmv-3-4\"><path d=\"M9,0 20,0 20,20 9,20 6,10 z\" class=\"s9\"/><path d=\"M3,0 0,0 0,20 3,20 6,10 z\" class=\"s8\"/><path d=\"m0,0 3,0 6,20 11,0\" class=\"s1\"/><path d=\"M0,20 3,20 9,0 20,0\" class=\"s1\"/></g><g id=\"vmv-4-4\"><path d=\"M9,0 20,0 20,20 9,20 6,10 z\" class=\"s9\"/><path d=\"M3,0 0,0 0,20 3,20 6,10 z\" class=\"s9\"/><path d=\"m0,0 3,0 6,20 11,0\" class=\"s1\"/><path d=\"M0,20 3,20 9,0 20,0\" class=\"s1\"/></g><g id=\"vmv-5-4\"><path d=\"M9,0 20,0 20,20 9,20 6,10 z\" class=\"s9\"/><path d=\"M3,0 0,0 0,20 3,20 6,10 z\" class=\"s10\"/><path d=\"m0,0 3,0 6,20 11,0\" class=\"s1\"/><path d=\"M0,20 3,20 9,0 20,0\" class=\"s1\"/></g><g id=\"vmv-6-4\"><path d=\"M9,0 20,0 20,20 9,20 6,10 z\" class=\"s9\"/><path d=\"M3,0 0,0 0,20 3,20 6,10 z\" class=\"s11\"/><path d=\"m0,0 3,0 6,20 11,0\" class=\"s1\"/><path d=\"M0,20 3,20 9,0 20,0\" class=\"s1\"/></g><g id=\"vmv-7-4\"><path d=\"M9,0 20,0 20,20 9,20 6,10 z\" class=\"s9\"/><path d=\"M3,0 0,0 0,20 3,20 6,10 z\" class=\"s12\"/><path d=\"m0,0 3,0 6,20 11,0\" class=\"s1\"/><path d=\"M0,20 3,20 9,0 20,0\" class=\"s1\"/></g><g id=\"vmv-8-4\"><path d=\"M9,0 20,0 20,20 9,20 6,10 z\" class=\"s9\"/><path d=\"M3,0 0,0 0,20 3,20 6,10 z\" class=\"s13\"/><path d=\"m0,0 3,0 6,20 11,0\" class=\"s1\"/><path d=\"M0,20 3,20 9,0 20,0\" class=\"s1\"/></g><g id=\"vmv-9-4\"><path d=\"M9,0 20,0 20,20 9,20 6,10 z\" class=\"s9\"/><path d=\"M3,0 0,0 0,20 3,20 6,10 z\" class=\"s14\"/><path d=\"m0,0 3,0 6,20 11,0\" class=\"s1\"/><path d=\"M0,20 3,20 9,0 20,0\" class=\"s1\"/></g><g id=\"vmv-2-5\"><path d=\"M9,0 20,0 20,20 9,20 6,10 z\" class=\"s10\"/><path d=\"M3,0 0,0 0,20 3,20 6,10 z\" class=\"s7\"/><path d=\"m0,0 3,0 6,20 11,0\" class=\"s1\"/><path d=\"M0,20 3,20 9,0 20,0\" class=\"s1\"/></g><g id=\"vmv-3-5\"><path d=\"M9,0 20,0 20,20 9,20 6,10 z\" class=\"s10\"/><path d=\"M3,0 0,0 0,20 3,20 6,10 z\" class=\"s8\"/><path d=\"m0,0 3,0 6,20 11,0\" class=\"s1\"/><path d=\"M0,20 3,20 9,0 20,0\" class=\"s1\"/></g><g id=\"vmv-4-5\"><path d=\"M9,0 20,0 20,20 9,20 6,10 z\" class=\"s10\"/><path d=\"M3,0 0,0 0,20 3,20 6,10 z\" class=\"s9\"/><path d=\"m0,0 3,0 6,20 11,0\" class=\"s1\"/><path d=\"M0,20 3,20 9,0 20,0\" class=\"s1\"/></g><g id=\"vmv-5-5\"><path d=\"M9,0 20,0 20,20 9,20 6,10 z\" class=\"s10\"/><path d=\"M3,0 0,0 0,20 3,20 6,10 z\" class=\"s10\"/><path d=\"m0,0 3,0 6,20 11,0\" class=\"s1\"/><path d=\"M0,20 3,20 9,0 20,0\" class=\"s1\"/></g><g id=\"vmv-6-5\"><path d=\"M9,0 20,0 20,20 9,20 6,10 z\" class=\"s10\"/><path d=\"M3,0 0,0 0,20 3,20 6,10 z\" class=\"s11\"/><path d=\"m0,0 3,0 6,20 11,0\" class=\"s1\"/><path d=\"M0,20 3,20 9,0 20,0\" class=\"s1\"/></g><g id=\"vmv-7-5\"><path d=\"M9,0 20,0 20,20 9,20 6,10 z\" class=\"s10\"/><path d=\"M3,0 0,0 0,20 3,20 6,10 z\" class=\"s12\"/><path d=\"m0,0 3,0 6,20 11,0\" class=\"s1\"/><path d=\"M0,20 3,20 9,0 20,0\" class=\"s1\"/></g><g id=\"vmv-8-5\"><path d=\"M9,0 20,0 20,20 9,20 6,10 z\" class=\"s10\"/><path d=\"M3,0 0,0 0,20 3,20 6,10 z\" class=\"s13\"/><path d=\"m0,0 3,0 6,20 11,0\" class=\"s1\"/><path d=\"M0,20 3,20 9,0 20,0\" class=\"s1\"/></g><g id=\"vmv-9-5\"><path d=\"M9,0 20,0 20,20 9,20 6,10 z\" class=\"s10\"/><path d=\"M3,0 0,0 0,20 3,20 6,10 z\" class=\"s14\"/><path d=\"m0,0 3,0 6,20 11,0\" class=\"s1\"/><path d=\"M0,20 3,20 9,0 20,0\" class=\"s1\"/></g><g id=\"vmv-2-6\"><path d=\"M9,0 20,0 20,20 9,20 6,10 z\" class=\"s11\"/><path d=\"M3,0 0,0 0,20 3,20 6,10 z\" class=\"s7\"/><path d=\"m0,0 3,0 6,20 11,0\" class=\"s1\"/><path d=\"M0,20 3,20 9,0 20,0\" class=\"s1\"/></g><g id=\"vmv-3-6\"><path d=\"M9,0 20,0 20,20 9,20 6,10 z\" class=\"s11\"/><path d=\"M3,0 0,0 0,20 3,20 6,10 z\" class=\"s8\"/><path d=\"m0,0 3,0 6,20 11,0\" class=\"s1\"/><path d=\"M0,20 3,20 9,0 20,0\" class=\"s1\"/></g><g id=\"vmv-4-6\"><path d=\"M9,0 20,0 20,20 9,20 6,10 z\" class=\"s11\"/><path d=\"M3,0 0,0 0,20 3,20 6,10 z\" class=\"s9\"/><path d=\"m0,0 3,0 6,20 11,0\" class=\"s1\"/><path d=\"M0,20 3,20 9,0 20,0\" class=\"s1\"/></g><g id=\"vmv-5-6\"><path d=\"M9,0 20,0 20,20 9,20 6,10 z\" class=\"s11\"/><path d=\"M3,0 0,0 0,20 3,20 6,10 z\" class=\"s10\"/><path d=\"m0,0 3,0 6,20 11,0\" class=\"s1\"/><path d=\"M0,20 3,20 9,0 20,0\" class=\"s1\"/></g><g id=\"vmv-6-6\"><path d=\"M9,0 20,0 20,20 9,20 6,10 z\" class=\"s11\"/><path d=\"M3,0 0,0 0,20 3,20 6,10 z\" class=\"s11\"/><path d=\"m0,0 3,0 6,20 11,0\" class=\"s1\"/><path d=\"M0,20 3,20 9,0 20,0\" class=\"s1\"/></g><g id=\"vmv-7-6\"><path d=\"M9,0 20,0 20,20 9,20 6,10 z\" class=\"s11\"/><path d=\"M3,0 0,0 0,20 3,20 6,10 z\" class=\"s12\"/><path d=\"m0,0 3,0 6,20 11,0\" class=\"s1\"/><path d=\"M0,20 3,20 9,0 20,0\" class=\"s1\"/></g><g id=\"vmv-8-6\"><path d=\"M9,0 20,0 20,20 9,20 6,10 z\" class=\"s11\"/><path d=\"M3,0 0,0 0,20 3,20 6,10 z\" class=\"s13\"/><path d=\"m0,0 3,0 6,20 11,0\" class=\"s1\"/><path d=\"M0,20 3,20 9,0 20,0\" class=\"s1\"/></g><g id=\"vmv-9-6\"><path d=\"M9,0 20,0 20,20 9,20 6,10 z\" class=\"s11\"/><path d=\"M3,0 0,0 0,20 3,20 6,10 z\" class=\"s14\"/><path d=\"m0,0 3,0 6,20 11,0\" class=\"s1\"/><path d=\"M0,20 3,20 9,0 20,0\" class=\"s1\"/></g><g id=\"vmv-2-7\"><path d=\"M9,0 20,0 20,20 9,20 6,10 z\" class=\"s12\"/><path d=\"M3,0 0,0 0,20 3,20 6,10 z\" class=\"s7\"/><path d=\"m0,0 3,0 6,20 11,0\" class=\"s1\"/><path d=\"M0,20 3,20 9,0 20,0\" class=\"s1\"/></g><g id=\"vmv-3-7\"><path d=\"M9,0 20,0 20,20 9,20 6,10 z\" class=\"s12\"/><path d=\"M3,0 0,0 0,20 3,20 6,10 z\" class=\"s8\"/><path d=\"m0,0 3,0 6,20 11,0\" class=\"s1\"/><path d=\"M0,20 3,20 9,0 20,0\" class=\"s1\"/></g><g id=\"vmv-4-7\"><path d=\"M9,0 20,0 20,20 9,20 6,10 z\" class=\"s12\"/><path d=\"M3,0 0,0 0,20 3,20 6,10 z\" class=\"s9\"/><path d=\"m0,0 3,0 6,20 11,0\" class=\"s1\"/><path d=\"M0,20 3,20 9,0 20,0\" class=\"s1\"/></g><g id=\"vmv-5-7\"><path d=\"M9,0 20,0 20,20 9,20 6,10 z\" class=\"s12\"/><path d=\"M3,0 0,0 0,20 3,20 6,10 z\" class=\"s10\"/><path d=\"m0,0 3,0 6,20 11,0\" class=\"s1\"/><path d=\"M0,20 3,20 9,0 20,0\" class=\"s1\"/></g><g id=\"vmv-6-7\"><path d=\"M9,0 20,0 20,20 9,20 6,10 z\" class=\"s12\"/><path d=\"M3,0 0,0 0,20 3,20 6,10 z\" class=\"s11\"/><path d=\"m0,0 3,0 6,20 11,0\" class=\"s1\"/><path d=\"M0,20 3,20 9,0 20,0\" class=\"s1\"/></g><g id=\"vmv-7-7\"><path d=\"M9,0 20,0 20,20 9,20 6,10 z\" class=\"s12\"/><path d=\"M3,0 0,0 0,20 3,20 6,10 z\" class=\"s12\"/><path d=\"m0,0 3,0 6,20 11,0\" class=\"s1\"/><path d=\"M0,20 3,20 9,0 20,0\" class=\"s1\"/></g><g id=\"vmv-8-7\"><path d=\"M9,0 20,0 20,20 9,20 6,10 z\" class=\"s12\"/><path d=\"M3,0 0,0 0,20 3,20 6,10 z\" class=\"s13\"/><path d=\"m0,0 3,0 6,20 11,0\" class=\"s1\"/><path d=\"M0,20 3,20 9,0 20,0\" class=\"s1\"/></g><g id=\"vmv-9-7\"><path d=\"M9,0 20,0 20,20 9,20 6,10 z\" class=\"s12\"/><path d=\"M3,0 0,0 0,20 3,20 6,10 z\" class=\"s14\"/><path d=\"m0,0 3,0 6,20 11,0\" class=\"s1\"/><path d=\"M0,20 3,20 9,0 20,0\" class=\"s1\"/></g><g id=\"vmv-2-8\"><path d=\"M9,0 20,0 20,20 9,20 6,10 z\" class=\"s13\"/><path d=\"M3,0 0,0 0,20 3,20 6,10 z\" class=\"s7\"/><path d=\"m0,0 3,0 6,20 11,0\" class=\"s1\"/><path d=\"M0,20 3,20 9,0 20,0\" class=\"s1\"/></g><g id=\"vmv-3-8\"><path d=\"M9,0 20,0 20,20 9,20 6,10 z\" class=\"s13\"/><path d=\"M3,0 0,0 0,20 3,20 6,10 z\" class=\"s8\"/><path d=\"m0,0 3,0 6,20 11,0\" class=\"s1\"/><path d=\"M0,20 3,20 9,0 20,0\" class=\"s1\"/></g><g id=\"vmv-4-8\"><path d=\"M9,0 20,0 20,20 9,20 6,10 z\" class=\"s13\"/><path d=\"M3,0 0,0 0,20 3,20 6,10 z\" class=\"s9\"/><path d=\"m0,0 3,0 6,20 11,0\" class=\"s1\"/><path d=\"M0,20 3,20 9,0 20,0\" class=\"s1\"/></g><g id=\"vmv-5-8\"><path d=\"M9,0 20,0 20,20 9,20 6,10 z\" class=\"s13\"/><path d=\"M3,0 0,0 0,20 3,20 6,10 z\" class=\"s10\"/><path d=\"m0,0 3,0 6,20 11,0\" class=\"s1\"/><path d=\"M0,20 3,20 9,0 20,0\" class=\"s1\"/></g><g id=\"vmv-6-8\"><path d=\"M9,0 20,0 20,20 9,20 6,10 z\" class=\"s13\"/><path d=\"M3,0 0,0 0,20 3,20 6,10 z\" class=\"s11\"/><path d=\"m0,0 3,0 6,20 11,0\" class=\"s1\"/><path d=\"M0,20 3,20 9,0 20,0\" class=\"s1\"/></g><g id=\"vmv-7-8\"><path d=\"M9,0 20,0 20,20 9,20 6,10 z\" class=\"s13\"/><path d=\"M3,0 0,0 0,20 3,20 6,10 z\" class=\"s12\"/><path d=\"m0,0 3,0 6,20 11,0\" class=\"s1\"/><path d=\"M0,20 3,20 9,0 20,0\" class=\"s1\"/></g><g id=\"vmv-8-8\"><path d=\"M9,0 20,0 20,20 9,20 6,10 z\" class=\"s13\"/><path d=\"M3,0 0,0 0,20 3,20 6,10 z\" class=\"s13\"/><path d=\"m0,0 3,0 6,20 11,0\" class=\"s1\"/><path d=\"M0,20 3,20 9,0 20,0\" class=\"s1\"/></g><g id=\"vmv-9-8\"><path d=\"M9,0 20,0 20,20 9,20 6,10 z\" class=\"s13\"/><path d=\"M3,0 0,0 0,20 3,20 6,10 z\" class=\"s14\"/><path d=\"m0,0 3,0 6,20 11,0\" class=\"s1\"/><path d=\"M0,20 3,20 9,0 20,0\" class=\"s1\"/></g><g id=\"vmv-2-9\"><path d=\"M9,0 20,0 20,20 9,20 6,10 z\" class=\"s14\"/><path d=\"M3,0 0,0 0,20 3,20 6,10 z\" class=\"s7\"/><path d=\"m0,0 3,0 6,20 11,0\" class=\"s1\"/><path d=\"M0,20 3,20 9,0 20,0\" class=\"s1\"/></g><g id=\"vmv-3-9\"><path d=\"M9,0 20,0 20,20 9,20 6,10 z\" class=\"s14\"/><path d=\"M3,0 0,0 0,20 3,20 6,10 z\" class=\"s8\"/><path d=\"m0,0 3,0 6,20 11,0\" class=\"s1\"/><path d=\"M0,20 3,20 9,0 20,0\" class=\"s1\"/></g><g id=\"vmv-4-9\"><path d=\"M9,0 20,0 20,20 9,20 6,10 z\" class=\"s14\"/><path d=\"M3,0 0,0 0,20 3,20 6,10 z\" class=\"s9\"/><path d=\"m0,0 3,0 6,20 11,0\" class=\"s1\"/><path d=\"M0,20 3,20 9,0 20,0\" class=\"s1\"/></g><g id=\"vmv-5-9\"><path d=\"M9,0 20,0 20,20 9,20 6,10 z\" class=\"s14\"/><path d=\"M3,0 0,0 0,20 3,20 6,10 z\" class=\"s10\"/><path d=\"m0,0 3,0 6,20 11,0\" class=\"s1\"/><path d=\"M0,20 3,20 9,0 20,0\" class=\"s1\"/></g><g id=\"vmv-6-9\"><path d=\"M9,0 20,0 20,20 9,20 6,10 z\" class=\"s14\"/><path d=\"M3,0 0,0 0,20 3,20 6,10 z\" class=\"s11\"/><path d=\"m0,0 3,0 6,20 11,0\" class=\"s1\"/><path d=\"M0,20 3,20 9,0 20,0\" class=\"s1\"/></g><g id=\"vmv-7-9\"><path d=\"M9,0 20,0 20,20 9,20 6,10 z\" class=\"s14\"/><path d=\"M3,0 0,0 0,20 3,20 6,10 z\" class=\"s12\"/><path d=\"m0,0 3,0 6,20 11,0\" class=\"s1\"/><path d=\"M0,20 3,20 9,0 20,0\" class=\"s1\"/></g><g id=\"vmv-8-9\"><path d=\"M9,0 20,0 20,20 9,20 6,10 z\" class=\"s14\"/><path d=\"M3,0 0,0 0,20 3,20 6,10 z\" class=\"s13\"/><path d=\"m0,0 3,0 6,20 11,0\" class=\"s1\"/><path d=\"M0,20 3,20 9,0 20,0\" class=\"s1\"/></g><g id=\"vmv-9-9\"><path d=\"M9,0 20,0 20,20 9,20 6,10 z\" class=\"s14\"/><path d=\"M3,0 0,0 0,20 3,20 6,10 z\" class=\"s14\"/><path d=\"m0,0 3,0 6,20 11,0\" class=\"s1\"/><path d=\"M0,20 3,20 9,0 20,0\" class=\"s1\"/></g><g id=\"arrow0\"><path d=\"m-12,-3 9,3 -9,3 c 1,-2 1,-4 0,-6 z\" class=\"s15\"/><path d=\"M0,0 -15,0\" class=\"s16\"/></g><marker id=\"arrowhead\" style=\"fill:#0041c4\" markerHeight=\"7\" markerWidth=\"10\" markerUnits=\"strokeWidth\" viewBox=\"0 -4 11 8\" refX=\"15\" refY=\"0\" orient=\"auto\"><path d=\"M0 -4 11 0 0 4z\"/></marker><marker id=\"arrowtail\" style=\"fill:#0041c4\" markerHeight=\"7\" markerWidth=\"10\" markerUnits=\"strokeWidth\" viewBox=\"-11 -4 11 8\" refX=\"-15\" refY=\"0\" orient=\"auto\"><path d=\"M0 -4 -11 0 0 4z\"/></marker><marker id=\"tee\" style=\"fill:#0041c4\" markerHeight=\"6\" markerWidth=\"1\" markerUnits=\"strokeWidth\" viewBox=\"0 0 1 6\" refX=\"0\" refY=\"3\" orient=\"auto\"><path d=\"M 0 0 L 0 6\" style=\"stroke:#0041c4;stroke-width:2\"/></marker></defs><g id=\"waves_0\"><rect width=\"480\" height=\"120\" style=\"stroke:none;fill:white\"/><g transform=\"translate(60.5,0.5)\" id=\"lanes_0\"><g id=\"gmarks_0\"><g style=\"stroke:#888;stroke-width:0.5;stroke-dasharray:1,3\"><line id=\"gmark_0_0\" x1=\"0\" y1=\"0\" x2=\"0\" y2=\"120\"/><line id=\"gmark_1_0\" x1=\"40\" y1=\"0\" x2=\"40\" y2=\"120\"/><line id=\"gmark_2_0\" x1=\"80\" y1=\"0\" x2=\"80\" y2=\"120\"/><line id=\"gmark_3_0\" x1=\"120\" y1=\"0\" x2=\"120\" y2=\"120\"/><line id=\"gmark_4_0\" x1=\"160\" y1=\"0\" x2=\"160\" y2=\"120\"/><line id=\"gmark_5_0\" x1=\"200\" y1=\"0\" x2=\"200\" y2=\"120\"/><line id=\"gmark_6_0\" x1=\"240\" y1=\"0\" x2=\"240\" y2=\"120\"/><line id=\"gmark_7_0\" x1=\"280\" y1=\"0\" x2=\"280\" y2=\"120\"/><line id=\"gmark_8_0\" x1=\"320\" y1=\"0\" x2=\"320\" y2=\"120\"/><line id=\"gmark_9_0\" x1=\"360\" y1=\"0\" x2=\"360\" y2=\"120\"/><line id=\"gmark_10_0\" x1=\"400\" y1=\"0\" x2=\"400\" y2=\"120\"/></g></g><g transform=\"translate(0,5)\" id=\"wavelane_0_0\"><text x=\"-10\" y=\"15\" class=\"info\" text-anchor=\"end\" xml:space=\"preserve\"><tspan>clk</tspan></text><g id=\"wavelane_draw_0_0\"><use xlink:href=\"#pclk\"/><use transform=\"translate(20)\" xlink:href=\"#nclk\"/><use transform=\"translate(40)\" xlink:href=\"#pclk\"/><use transform=\"translate(60)\" xlink:href=\"#nclk\"/><use transform=\"translate(80)\" xlink:href=\"#pclk\"/><use transform=\"translate(100)\" xlink:href=\"#nclk\"/><use transform=\"translate(120)\" xlink:href=\"#pclk\"/><use transform=\"translate(140)\" xlink:href=\"#nclk\"/><use transform=\"translate(160)\" xlink:href=\"#pclk\"/><use transform=\"translate(180)\" xlink:href=\"#nclk\"/><use transform=\"translate(200)\" xlink:href=\"#pclk\"/><use transform=\"translate(220)\" xlink:href=\"#nclk\"/><use transform=\"translate(240)\" xlink:href=\"#pclk\"/><use transform=\"translate(260)\" xlink:href=\"#nclk\"/><use transform=\"translate(280)\" xlink:href=\"#pclk\"/><use transform=\"translate(300)\" xlink:href=\"#nclk\"/><use transform=\"translate(320)\" xlink:href=\"#pclk\"/><use transform=\"translate(340)\" xlink:href=\"#nclk\"/><use transform=\"translate(360)\" xlink:href=\"#pclk\"/><use transform=\"translate(380)\" xlink:href=\"#nclk\"/></g></g><g transform=\"translate(0,35)\" id=\"wavelane_1_0\"><text x=\"-10\" y=\"15\" class=\"info\" text-anchor=\"end\" xml:space=\"preserve\"><tspan>dat</tspan></text><g id=\"wavelane_draw_1_0\"><use xlink:href=\"#xxx\"/><use transform=\"translate(20)\" xlink:href=\"#xxx\"/><use transform=\"translate(40)\" xlink:href=\"#xxx\"/><use transform=\"translate(60)\" xlink:href=\"#xxx\"/><use transform=\"translate(80)\" xlink:href=\"#xmv-3\"/><use transform=\"translate(100)\" xlink:href=\"#vvv-3\"/><use transform=\"translate(120)\" xlink:href=\"#vmv-3-4\"/><use transform=\"translate(140)\" xlink:href=\"#vvv-4\"/><use transform=\"translate(160)\" xlink:href=\"#vmv-4-5\"/><use transform=\"translate(180)\" xlink:href=\"#vvv-5\"/><use transform=\"translate(200)\" xlink:href=\"#vmx-5\"/><use transform=\"translate(220)\" xlink:href=\"#xxx\"/><use transform=\"translate(240)\" xlink:href=\"#xxx\"/><use transform=\"translate(260)\" xlink:href=\"#xxx\"/><use transform=\"translate(280)\" xlink:href=\"#xmv-2\"/><use transform=\"translate(300)\" xlink:href=\"#vvv-2\"/><use transform=\"translate(320)\" xlink:href=\"#vvv-2\"/><use transform=\"translate(340)\" xlink:href=\"#vvv-2\"/><use transform=\"translate(360)\" xlink:href=\"#vmx-2\"/><use transform=\"translate(380)\" xlink:href=\"#xxx\"/><text x=\"106\" y=\"15\" text-anchor=\"middle\" xml:space=\"preserve\"><tspan>heab</tspan></text><text x=\"146\" y=\"15\" text-anchor=\"middle\" xml:space=\"preserve\"><tspan>dody</tspan></text><text x=\"186\" y=\"15\" text-anchor=\"middle\" xml:space=\"preserve\"><tspan>lait</tspan></text><text x=\"326\" y=\"15\" text-anchor=\"middle\" xml:space=\"preserve\"><tspan>tada</tspan></text></g></g><g transform=\"translate(0,65)\" id=\"wavelane_2_0\"><text x=\"-10\" y=\"15\" class=\"info\" text-anchor=\"end\" xml:space=\"preserve\"><tspan>req</tspan></text><g id=\"wavelane_draw_2_0\"><use xlink:href=\"#000\"/><use transform=\"translate(20)\" xlink:href=\"#000\"/><use transform=\"translate(40)\" xlink:href=\"#000\"/><use transform=\"translate(60)\" xlink:href=\"#000\"/><use transform=\"translate(80)\" xlink:href=\"#0m1\"/><use transform=\"translate(100)\" xlink:href=\"#111\"/><use transform=\"translate(120)\" xlink:href=\"#111\"/><use transform=\"translate(140)\" xlink:href=\"#111\"/><use transform=\"translate(160)\" xlink:href=\"#111\"/><use transform=\"translate(180)\" xlink:href=\"#111\"/><use transform=\"translate(200)\" xlink:href=\"#1m0\"/><use transform=\"translate(220)\" xlink:href=\"#000\"/><use transform=\"translate(240)\" xlink:href=\"#000\"/><use transform=\"translate(260)\" xlink:href=\"#000\"/><use transform=\"translate(280)\" xlink:href=\"#0m1\"/><use transform=\"translate(300)\" xlink:href=\"#111\"/><use transform=\"translate(320)\" xlink:href=\"#111\"/><use transform=\"translate(340)\" xlink:href=\"#111\"/><use transform=\"translate(360)\" xlink:href=\"#1m0\"/><use transform=\"translate(380)\" xlink:href=\"#000\"/></g></g><g transform=\"translate(0,95)\" id=\"wavelane_3_0\"><text x=\"-10\" y=\"15\" class=\"info\" text-anchor=\"end\" xml:space=\"preserve\"><tspan>ack</tspan></text><g id=\"wavelane_draw_3_0\"><use xlink:href=\"#111\"/><use transform=\"translate(20)\" xlink:href=\"#111\"/><use transform=\"translate(40)\" xlink:href=\"#111\"/><use transform=\"translate(60)\" xlink:href=\"#111\"/><use transform=\"translate(80)\" xlink:href=\"#111\"/><use transform=\"translate(100)\" xlink:href=\"#111\"/><use transform=\"translate(120)\" xlink:href=\"#111\"/><use transform=\"translate(140)\" xlink:href=\"#111\"/><use transform=\"translate(160)\" xlink:href=\"#111\"/><use transform=\"translate(180)\" xlink:href=\"#111\"/><use transform=\"translate(200)\" xlink:href=\"#111\"/><use transform=\"translate(220)\" xlink:href=\"#111\"/><use transform=\"translate(240)\" xlink:href=\"#111\"/><use transform=\"translate(260)\" xlink:href=\"#111\"/><use transform=\"translate(280)\" xlink:href=\"#1m0\"/><use transform=\"translate(300)\" xlink:href=\"#000\"/><use transform=\"translate(320)\" xlink:href=\"#0m1\"/><use transform=\"translate(340)\" xlink:href=\"#111\"/><use transform=\"translate(360)\" xlink:href=\"#111\"/><use transform=\"translate(380)\" xlink:href=\"#111\"/></g></g><g id=\"wavearcs_0\"/><g id=\"wavegaps_0\"><g transform=\"translate(0,5)\" id=\"wavegap_0_0\"><use transform=\"translate(260)\" xlink:href=\"#gap\"/></g><g transform=\"translate(0,35)\" id=\"wavegap_1_0\"><use transform=\"translate(260)\" xlink:href=\"#gap\"/></g><g transform=\"translate(0,65)\" id=\"wavegap_2_0\"><use transform=\"translate(260)\" xlink:href=\"#gap\"/></g><g transform=\"translate(0,95)\" id=\"wavegap_3_0\"><use transform=\"translate(260)\" xlink:href=\"#gap\"/></g></g><g/></g><g id=\"groups_0\"><g/></g></g></svg>"
      ],
      "text/plain": [
       "<IPython.core.display.Markdown object>"
      ]
     },
     "metadata": {},
     "output_type": "display_data"
    }
   ],
   "source": [
    "%%vdf #wave #format-yaml\n",
    "signal:\n",
    "  - name: clk\n",
    "    wave: p.....|...\n",
    "  - name: dat\n",
    "    wave: x.345x|=.x\n",
    "    data: ['heab', 'dody', 'lait', 'tada']\n",
    "  - name: req\n",
    "    wave: 0.1..0|1.0\n",
    "  - name: ack\n",
    "    wave: 1.....|01."
   ]
  },
  {
   "cell_type": "code",
   "execution_count": null,
   "id": "1f39cf5d-ff5d-404a-b3a2-fd8ba907b47c",
   "metadata": {},
   "outputs": [],
   "source": []
  }
 ],
 "metadata": {
  "kernelspec": {
   "display_name": "Python 3 (ipykernel)",
   "language": "python",
   "name": "python3"
  },
  "language_info": {
   "codemirror_mode": {
    "name": "ipython",
    "version": 3
   },
   "file_extension": ".py",
   "mimetype": "text/x-python",
   "name": "python",
   "nbconvert_exporter": "python",
   "pygments_lexer": "ipython3",
   "version": "3.11.8"
  }
 },
 "nbformat": 4,
 "nbformat_minor": 5
}
